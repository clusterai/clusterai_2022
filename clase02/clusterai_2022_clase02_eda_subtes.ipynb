{
 "cells": [
  {
   "cell_type": "markdown",
   "metadata": {
    "colab_type": "text",
    "id": "LGZukNduexDR"
   },
   "source": [
    "____\n",
    "__Universidad Tecnológica Nacional, Buenos Aires__<br/>\n",
    "__Ingeniería Industrial__<br/>\n",
    "__Cátedra de Ciencia de Datos - Curso I5521 - Turno jueves noche__<br/>\n",
    "__Analisis exploratorio de datos de SUBTE__<br/>\n",
    "__Elaborado por: Martin Palazzo__\n",
    "____"
   ]
  },
  {
   "cell_type": "markdown",
   "metadata": {
    "colab_type": "text",
    "id": "9PakeKmYexDT"
   },
   "source": [
    "En este script continuaremos el análisis exploratorio de datos que comenzamos la clase pasada con el dataset de subtes"
   ]
  },
  {
   "cell_type": "markdown",
   "metadata": {
    "colab_type": "text",
    "id": "IkARUmc6exDU"
   },
   "source": [
    "# clase_02: Importar data, describirla y visualizarla."
   ]
  },
  {
   "cell_type": "markdown",
   "metadata": {
    "colab_type": "text",
    "id": "eNNs9CKjexDU"
   },
   "source": [
    "En esta segunda clase aprenderemos a realizar correlaciones lineales de Pearson, visualizar boxplots, comprender los quantiles de un set de datos y eliminar outliers observando que quantil (percentil) nos ayuda a filtrar. Primero haremos un repaso sobre el analisis exploratorio de subtes que realizamos la semana pasada. "
   ]
  },
  {
   "cell_type": "markdown",
   "metadata": {
    "colab_type": "text",
    "id": "qZp8yTJyexDV"
   },
   "source": [
    "**Importamos las Librerías necesarias:** Utilizaremos Numpy para realizar calculos matriciales, pandas para manejar los datos y almacenarlos, y matplotlib junto con Seaborn para visualizar."
   ]
  },
  {
   "cell_type": "code",
   "execution_count": 1,
   "metadata": {
    "colab": {},
    "colab_type": "code",
    "id": "NLZcIso9exDW"
   },
   "outputs": [],
   "source": [
    "# importamos las librerías necesarias para trabajar.\n",
    "import numpy as np\n",
    "import pandas as pd\n",
    "import matplotlib.pyplot as plt\n",
    "import seaborn as sns"
   ]
  },
  {
   "cell_type": "markdown",
   "metadata": {
    "colab_type": "text",
    "collapsed": true,
    "id": "umDRGtKBexDc"
   },
   "source": [
    "**Read_CSV:** Descargamos de https://data.buenosaires.gob.ar/dataset/subte-viajes-molinetes el dataset de usuarios de subte por molinete del año 2017. Luego con el comando de Pandas \"pd.read_csv\" indicamos donde se ubica el dataset a ser leido. Una vez leido guardamos la tabla como un DataFrame de Pandas en el elemento \"molinetes\". "
   ]
  },
  {
   "cell_type": "code",
   "execution_count": 2,
   "metadata": {},
   "outputs": [
    {
     "data": {
      "text/plain": [
       "'C:\\\\Users\\\\Usuario\\\\Downloads'"
      ]
     },
     "execution_count": 2,
     "metadata": {},
     "output_type": "execute_result"
    }
   ],
   "source": [
    "pwd"
   ]
  },
  {
   "cell_type": "code",
   "execution_count": 4,
   "metadata": {
    "colab": {},
    "colab_type": "code",
    "id": "0RPj63r3exDc"
   },
   "outputs": [],
   "source": [
    "# importante detallar que el delimiter indica como estan separadas las columnas en el dataframe.\n",
    "molinetes = pd.read_csv(r'C:\\ClusterAI\\Datasets\\molinetes_2017.csv', delimiter=',',encoding='latin-1')\n"
   ]
  },
  {
   "cell_type": "markdown",
   "metadata": {
    "colab_type": "text",
    "id": "pmkPW8N3exDi"
   },
   "source": [
    "con el comando .head() observamos las primeras 5 filas de nuestro dataframe"
   ]
  },
  {
   "cell_type": "code",
   "execution_count": 5,
   "metadata": {
    "colab": {},
    "colab_type": "code",
    "id": "KTkuSWg0exDj",
    "outputId": "5dfbeba0-f887-4de4-e740-3bb1612920bc"
   },
   "outputs": [
    {
     "data": {
      "text/html": [
       "<div>\n",
       "<style scoped>\n",
       "    .dataframe tbody tr th:only-of-type {\n",
       "        vertical-align: middle;\n",
       "    }\n",
       "\n",
       "    .dataframe tbody tr th {\n",
       "        vertical-align: top;\n",
       "    }\n",
       "\n",
       "    .dataframe thead th {\n",
       "        text-align: right;\n",
       "    }\n",
       "</style>\n",
       "<table border=\"1\" class=\"dataframe\">\n",
       "  <thead>\n",
       "    <tr style=\"text-align: right;\">\n",
       "      <th></th>\n",
       "      <th>V1</th>\n",
       "      <th>FECHA</th>\n",
       "      <th>DESDE</th>\n",
       "      <th>HASTA</th>\n",
       "      <th>LINEA</th>\n",
       "      <th>MOLINETE</th>\n",
       "      <th>ID_ESTACION</th>\n",
       "      <th>ESTACION</th>\n",
       "      <th>PAX_PAGOS</th>\n",
       "      <th>PAX_PASES_PAGOS</th>\n",
       "      <th>PAX_FREQ</th>\n",
       "      <th>TOTAL</th>\n",
       "    </tr>\n",
       "  </thead>\n",
       "  <tbody>\n",
       "    <tr>\n",
       "      <th>0</th>\n",
       "      <td>1</td>\n",
       "      <td>01/01/2017</td>\n",
       "      <td>08:00:00</td>\n",
       "      <td>08:15:00</td>\n",
       "      <td>D</td>\n",
       "      <td>LINEA_D_9JULIO_S_TURN02</td>\n",
       "      <td>6</td>\n",
       "      <td>9 DE JULIO</td>\n",
       "      <td>1</td>\n",
       "      <td>0</td>\n",
       "      <td>0</td>\n",
       "      <td>1</td>\n",
       "    </tr>\n",
       "    <tr>\n",
       "      <th>1</th>\n",
       "      <td>2</td>\n",
       "      <td>01/01/2017</td>\n",
       "      <td>08:00:00</td>\n",
       "      <td>08:15:00</td>\n",
       "      <td>D</td>\n",
       "      <td>LINEA_D_9JULIO_N_TURN02</td>\n",
       "      <td>6</td>\n",
       "      <td>9 DE JULIO</td>\n",
       "      <td>1</td>\n",
       "      <td>0</td>\n",
       "      <td>0</td>\n",
       "      <td>1</td>\n",
       "    </tr>\n",
       "    <tr>\n",
       "      <th>2</th>\n",
       "      <td>3</td>\n",
       "      <td>01/01/2017</td>\n",
       "      <td>08:00:00</td>\n",
       "      <td>08:15:00</td>\n",
       "      <td>D</td>\n",
       "      <td>LINEA_D_9JULIO_S_TURN01</td>\n",
       "      <td>6</td>\n",
       "      <td>9 DE JULIO</td>\n",
       "      <td>1</td>\n",
       "      <td>0</td>\n",
       "      <td>0</td>\n",
       "      <td>1</td>\n",
       "    </tr>\n",
       "    <tr>\n",
       "      <th>3</th>\n",
       "      <td>4</td>\n",
       "      <td>01/01/2017</td>\n",
       "      <td>08:15:00</td>\n",
       "      <td>08:30:00</td>\n",
       "      <td>D</td>\n",
       "      <td>LINEA_D_9JULIO_S_TURN02</td>\n",
       "      <td>6</td>\n",
       "      <td>9 DE JULIO</td>\n",
       "      <td>1</td>\n",
       "      <td>0</td>\n",
       "      <td>0</td>\n",
       "      <td>1</td>\n",
       "    </tr>\n",
       "    <tr>\n",
       "      <th>4</th>\n",
       "      <td>5</td>\n",
       "      <td>01/01/2017</td>\n",
       "      <td>08:15:00</td>\n",
       "      <td>08:30:00</td>\n",
       "      <td>D</td>\n",
       "      <td>LINEA_D_9JULIO_S_TURN01</td>\n",
       "      <td>6</td>\n",
       "      <td>9 DE JULIO</td>\n",
       "      <td>2</td>\n",
       "      <td>0</td>\n",
       "      <td>0</td>\n",
       "      <td>2</td>\n",
       "    </tr>\n",
       "  </tbody>\n",
       "</table>\n",
       "</div>"
      ],
      "text/plain": [
       "   V1       FECHA     DESDE     HASTA LINEA                 MOLINETE  \\\n",
       "0   1  01/01/2017  08:00:00  08:15:00     D  LINEA_D_9JULIO_S_TURN02   \n",
       "1   2  01/01/2017  08:00:00  08:15:00     D  LINEA_D_9JULIO_N_TURN02   \n",
       "2   3  01/01/2017  08:00:00  08:15:00     D  LINEA_D_9JULIO_S_TURN01   \n",
       "3   4  01/01/2017  08:15:00  08:30:00     D  LINEA_D_9JULIO_S_TURN02   \n",
       "4   5  01/01/2017  08:15:00  08:30:00     D  LINEA_D_9JULIO_S_TURN01   \n",
       "\n",
       "   ID_ESTACION    ESTACION  PAX_PAGOS  PAX_PASES_PAGOS  PAX_FREQ  TOTAL  \n",
       "0            6  9 DE JULIO          1                0         0      1  \n",
       "1            6  9 DE JULIO          1                0         0      1  \n",
       "2            6  9 DE JULIO          1                0         0      1  \n",
       "3            6  9 DE JULIO          1                0         0      1  \n",
       "4            6  9 DE JULIO          2                0         0      2  "
      ]
     },
     "execution_count": 5,
     "metadata": {},
     "output_type": "execute_result"
    }
   ],
   "source": [
    "# con el comando .head() podemos ver en pantalla las primeras filas y del dataframe\n",
    "molinetes.head()"
   ]
  },
  {
   "cell_type": "markdown",
   "metadata": {
    "colab_type": "text",
    "id": "8Ipmb8beexDo"
   },
   "source": [
    "Recordemos que el comando de numpy np.shape() nos indica las dimensiones de nuestro elemento, en este caso un dataframe de pandas."
   ]
  },
  {
   "cell_type": "code",
   "execution_count": 6,
   "metadata": {
    "colab": {},
    "colab_type": "code",
    "id": "toSG1QSRexDp",
    "outputId": "1c215cd5-372a-46b1-e338-4f60a0d6081d"
   },
   "outputs": [
    {
     "data": {
      "text/plain": [
       "(11938476, 12)"
      ]
     },
     "execution_count": 6,
     "metadata": {},
     "output_type": "execute_result"
    }
   ],
   "source": [
    "# si queremos saber cuantos renglones y columnas tiene el objeto en cuestion, utilizamos el comando de numpy \"shape\".\n",
    "# asi podemos ver que nuestro dataset posee mas de 11 millones de renglones y 12 columnas\n",
    "np.shape(molinetes)"
   ]
  },
  {
   "cell_type": "markdown",
   "metadata": {
    "colab_type": "text",
    "id": "ciood871exDt"
   },
   "source": [
    "Imprimimos en pantalla un breve reporte de un renglón sobre las dimensiones de nuestro dataframe."
   ]
  },
  {
   "cell_type": "code",
   "execution_count": 7,
   "metadata": {
    "colab": {},
    "colab_type": "code",
    "id": "Kx1_twwLexDu",
    "outputId": "b400ba06-a0ab-4403-b551-8875a7fceec7"
   },
   "outputs": [
    {
     "name": "stdout",
     "output_type": "stream",
     "text": [
      "El dataset importado tiene 11938476 renglones y 12 columnas\n"
     ]
    }
   ],
   "source": [
    "# Ver que utilizamos la función de numpy \"shape\".\n",
    "print(\"El dataset importado tiene \"+ str(np.shape(molinetes)[0]) + \" renglones y \" + str(np.shape(molinetes)[1]) + \" columnas\")\n"
   ]
  },
  {
   "cell_type": "markdown",
   "metadata": {
    "colab_type": "text",
    "id": "YxRWVvjyexD1"
   },
   "source": [
    "Si bien en nuestro dataset de subtes no existen columnas que tengan valores nulos o faltantes (NaNs) es necesario entender para otros datasets si hay valores faltantes para eliminarlos (o reemplazarlos por otro valor como la mediana)."
   ]
  },
  {
   "cell_type": "code",
   "execution_count": 8,
   "metadata": {
    "colab": {},
    "colab_type": "code",
    "id": "b74JtX-QexD2",
    "outputId": "d54c8d08-be25-46a4-a005-b1c42f19d9f7"
   },
   "outputs": [
    {
     "data": {
      "text/plain": [
       "V1                 False\n",
       "FECHA              False\n",
       "DESDE              False\n",
       "HASTA              False\n",
       "LINEA              False\n",
       "MOLINETE           False\n",
       "ID_ESTACION        False\n",
       "ESTACION           False\n",
       "PAX_PAGOS          False\n",
       "PAX_PASES_PAGOS    False\n",
       "PAX_FREQ           False\n",
       "TOTAL              False\n",
       "dtype: bool"
      ]
     },
     "execution_count": 8,
     "metadata": {},
     "output_type": "execute_result"
    }
   ],
   "source": [
    "# revisamos si existen columnas que contengan valores faltantes (NaNs)\n",
    "col_nulls = molinetes.isnull().any()\n",
    "col_nulls"
   ]
  },
  {
   "cell_type": "markdown",
   "metadata": {
    "colab_type": "text",
    "id": "0CMIKMxxexD6"
   },
   "source": [
    "# Columnas e Indices en Pandas"
   ]
  },
  {
   "cell_type": "markdown",
   "metadata": {
    "colab_type": "text",
    "id": "T_ekFJuyexD7"
   },
   "source": [
    "**Columnas e Indices en Pandas:** los dataframes de pandas se caracterizan por tener nombres explícitos por columna y por renglón (indice). Es decir que podemos llamar a un elemento (o varios) de un DataFrame por el nombre de su columna e índice."
   ]
  },
  {
   "cell_type": "code",
   "execution_count": 9,
   "metadata": {
    "colab": {},
    "colab_type": "code",
    "id": "vSqqzHLRexD8",
    "outputId": "5f61572a-0bdd-4b5e-f018-326184e2994e"
   },
   "outputs": [
    {
     "data": {
      "text/plain": [
       "Index(['V1', 'FECHA', 'DESDE', 'HASTA', 'LINEA', 'MOLINETE', 'ID_ESTACION',\n",
       "       'ESTACION', 'PAX_PAGOS', 'PAX_PASES_PAGOS', 'PAX_FREQ', 'TOTAL'],\n",
       "      dtype='object')"
      ]
     },
     "execution_count": 9,
     "metadata": {},
     "output_type": "execute_result"
    }
   ],
   "source": [
    "# Obtenemos los nombres de las columnas del dataframe Molinetes\n",
    "columnas_molinetes = molinetes.columns\n",
    "columnas_molinetes"
   ]
  },
  {
   "cell_type": "code",
   "execution_count": 10,
   "metadata": {
    "colab": {},
    "colab_type": "code",
    "id": "enK5USiJexEA",
    "outputId": "8369cf2f-4237-4b8f-80c1-8997450a8d0e"
   },
   "outputs": [
    {
     "data": {
      "text/plain": [
       "RangeIndex(start=0, stop=11938476, step=1)"
      ]
     },
     "execution_count": 10,
     "metadata": {},
     "output_type": "execute_result"
    }
   ],
   "source": [
    "# Obtenemos los nombres de los índices (renglones o instancias) del dataframe Molinetes.\n",
    "# Observamos que cuando imprimimos en pantalla los índices, fueron definidos al importar el csv con el parametro \n",
    "# \"index_col\" seleccionando la columna \"PERIODO\".\n",
    "instancias_molinetes = molinetes.index\n",
    "instancias_molinetes"
   ]
  },
  {
   "cell_type": "markdown",
   "metadata": {
    "colab_type": "text",
    "id": "_v0QXCxyexEG"
   },
   "source": [
    "# Filtrar un dataframe por el valor de una columna"
   ]
  },
  {
   "cell_type": "markdown",
   "metadata": {
    "colab_type": "text",
    "id": "mDuJxL8AexEH"
   },
   "source": [
    "**Filtrar un dataframe por el valor de una columna:** Inicialmente filtraremos nuestro dataframe \"molinetes_b\" por el valor \"LINEA_B\" de la columna \"LINEA\". Para eso usamos la funcion \".loc\" de pandas, sobre el dataframe."
   ]
  },
  {
   "cell_type": "code",
   "execution_count": 11,
   "metadata": {},
   "outputs": [
    {
     "data": {
      "text/plain": [
       "B          0.239160\n",
       "LINEA_A    0.219688\n",
       "D          0.215628\n",
       "LINEA_C    0.125108\n",
       "LINEA_H    0.103901\n",
       "E          0.096515\n",
       "Name: LINEA, dtype: float64"
      ]
     },
     "execution_count": 11,
     "metadata": {},
     "output_type": "execute_result"
    }
   ],
   "source": [
    "molinetes.LINEA.value_counts(normalize=True)"
   ]
  },
  {
   "cell_type": "code",
   "execution_count": 12,
   "metadata": {
    "colab": {},
    "colab_type": "code",
    "id": "BZAotPd0exEH"
   },
   "outputs": [],
   "source": [
    "# como inicialmente queremos trabajar con los datos de la Linea B, filtramos por el valor \"LINEA_B\" de la columna\n",
    "# \"LINEA\" nuestro dataframe original llamado molinetes.\n",
    "molinetes_b = molinetes.loc[molinetes['LINEA'] == 'B']"
   ]
  },
  {
   "cell_type": "code",
   "execution_count": 13,
   "metadata": {},
   "outputs": [],
   "source": [
    "#molinetes['LINEA'] != 'B'"
   ]
  },
  {
   "cell_type": "code",
   "execution_count": 14,
   "metadata": {
    "colab": {},
    "colab_type": "code",
    "id": "4No8_YfgexEM",
    "outputId": "83aa9380-48b6-4866-ad53-4ddc852c6a7e"
   },
   "outputs": [
    {
     "data": {
      "text/plain": [
       "(2855204, 12)"
      ]
     },
     "execution_count": 14,
     "metadata": {},
     "output_type": "execute_result"
    }
   ],
   "source": [
    "# observamos que la cantidad de renglones del nuevo dataframe es menor al del original, puesto que solo \n",
    "# estamos considerando a los molinetes de la linea B\n",
    "np.shape(molinetes_b)"
   ]
  },
  {
   "cell_type": "code",
   "execution_count": 15,
   "metadata": {
    "colab": {},
    "colab_type": "code",
    "id": "hYBQ2vuQexEQ",
    "outputId": "c23daae0-c950-4bcf-ad67-c4303e7962b2"
   },
   "outputs": [
    {
     "data": {
      "text/html": [
       "<div>\n",
       "<style scoped>\n",
       "    .dataframe tbody tr th:only-of-type {\n",
       "        vertical-align: middle;\n",
       "    }\n",
       "\n",
       "    .dataframe tbody tr th {\n",
       "        vertical-align: top;\n",
       "    }\n",
       "\n",
       "    .dataframe thead th {\n",
       "        text-align: right;\n",
       "    }\n",
       "</style>\n",
       "<table border=\"1\" class=\"dataframe\">\n",
       "  <thead>\n",
       "    <tr style=\"text-align: right;\">\n",
       "      <th></th>\n",
       "      <th>V1</th>\n",
       "      <th>FECHA</th>\n",
       "      <th>DESDE</th>\n",
       "      <th>HASTA</th>\n",
       "      <th>LINEA</th>\n",
       "      <th>MOLINETE</th>\n",
       "      <th>ID_ESTACION</th>\n",
       "      <th>ESTACION</th>\n",
       "      <th>PAX_PAGOS</th>\n",
       "      <th>PAX_PASES_PAGOS</th>\n",
       "      <th>PAX_FREQ</th>\n",
       "      <th>TOTAL</th>\n",
       "    </tr>\n",
       "  </thead>\n",
       "  <tbody>\n",
       "    <tr>\n",
       "      <th>488449</th>\n",
       "      <td>488450</td>\n",
       "      <td>01/01/2017</td>\n",
       "      <td>08:00:00</td>\n",
       "      <td>08:15:00</td>\n",
       "      <td>B</td>\n",
       "      <td>LINEA_B_GALLARDO_N_TURN01</td>\n",
       "      <td>28</td>\n",
       "      <td>ANGEL GALLARDO</td>\n",
       "      <td>0</td>\n",
       "      <td>0</td>\n",
       "      <td>1</td>\n",
       "      <td>1</td>\n",
       "    </tr>\n",
       "    <tr>\n",
       "      <th>488450</th>\n",
       "      <td>488451</td>\n",
       "      <td>01/01/2017</td>\n",
       "      <td>08:00:00</td>\n",
       "      <td>08:15:00</td>\n",
       "      <td>B</td>\n",
       "      <td>LINEA_B_GALLARDO_S_TURN01</td>\n",
       "      <td>28</td>\n",
       "      <td>ANGEL GALLARDO</td>\n",
       "      <td>1</td>\n",
       "      <td>0</td>\n",
       "      <td>0</td>\n",
       "      <td>1</td>\n",
       "    </tr>\n",
       "    <tr>\n",
       "      <th>488451</th>\n",
       "      <td>488452</td>\n",
       "      <td>01/01/2017</td>\n",
       "      <td>08:00:00</td>\n",
       "      <td>08:15:00</td>\n",
       "      <td>B</td>\n",
       "      <td>LINEA_B_GALLARDO_N_TURN04</td>\n",
       "      <td>28</td>\n",
       "      <td>ANGEL GALLARDO</td>\n",
       "      <td>0</td>\n",
       "      <td>0</td>\n",
       "      <td>1</td>\n",
       "      <td>1</td>\n",
       "    </tr>\n",
       "    <tr>\n",
       "      <th>488452</th>\n",
       "      <td>488453</td>\n",
       "      <td>01/01/2017</td>\n",
       "      <td>08:00:00</td>\n",
       "      <td>08:15:00</td>\n",
       "      <td>B</td>\n",
       "      <td>LINEA_B_GALLARDO_N_TURN02</td>\n",
       "      <td>28</td>\n",
       "      <td>ANGEL GALLARDO</td>\n",
       "      <td>2</td>\n",
       "      <td>0</td>\n",
       "      <td>1</td>\n",
       "      <td>3</td>\n",
       "    </tr>\n",
       "    <tr>\n",
       "      <th>488453</th>\n",
       "      <td>488454</td>\n",
       "      <td>01/01/2017</td>\n",
       "      <td>08:00:00</td>\n",
       "      <td>08:15:00</td>\n",
       "      <td>B</td>\n",
       "      <td>LINEA_B_GALLARDO_S_TURN02</td>\n",
       "      <td>28</td>\n",
       "      <td>ANGEL GALLARDO</td>\n",
       "      <td>1</td>\n",
       "      <td>0</td>\n",
       "      <td>0</td>\n",
       "      <td>1</td>\n",
       "    </tr>\n",
       "  </tbody>\n",
       "</table>\n",
       "</div>"
      ],
      "text/plain": [
       "            V1       FECHA     DESDE     HASTA LINEA  \\\n",
       "488449  488450  01/01/2017  08:00:00  08:15:00     B   \n",
       "488450  488451  01/01/2017  08:00:00  08:15:00     B   \n",
       "488451  488452  01/01/2017  08:00:00  08:15:00     B   \n",
       "488452  488453  01/01/2017  08:00:00  08:15:00     B   \n",
       "488453  488454  01/01/2017  08:00:00  08:15:00     B   \n",
       "\n",
       "                         MOLINETE  ID_ESTACION        ESTACION  PAX_PAGOS  \\\n",
       "488449  LINEA_B_GALLARDO_N_TURN01           28  ANGEL GALLARDO          0   \n",
       "488450  LINEA_B_GALLARDO_S_TURN01           28  ANGEL GALLARDO          1   \n",
       "488451  LINEA_B_GALLARDO_N_TURN04           28  ANGEL GALLARDO          0   \n",
       "488452  LINEA_B_GALLARDO_N_TURN02           28  ANGEL GALLARDO          2   \n",
       "488453  LINEA_B_GALLARDO_S_TURN02           28  ANGEL GALLARDO          1   \n",
       "\n",
       "        PAX_PASES_PAGOS  PAX_FREQ  TOTAL  \n",
       "488449                0         1      1  \n",
       "488450                0         0      1  \n",
       "488451                0         1      1  \n",
       "488452                0         1      3  \n",
       "488453                0         0      1  "
      ]
     },
     "execution_count": 15,
     "metadata": {},
     "output_type": "execute_result"
    }
   ],
   "source": [
    "molinetes_b.head()"
   ]
  },
  {
   "cell_type": "code",
   "execution_count": 16,
   "metadata": {
    "colab": {},
    "colab_type": "code",
    "id": "eZrZj-8MexEW",
    "outputId": "32d154f2-265b-41d8-a212-4897cee09d0d"
   },
   "outputs": [
    {
     "name": "stdout",
     "output_type": "stream",
     "text": [
      "Los registros de la linea B representan el 0.24 de los registros totales\n"
     ]
    }
   ],
   "source": [
    "print(\"Los registros de la linea B representan el \" + str(np.round(np.shape(molinetes_b)[0]/np.shape(molinetes)[0],2)) + \" de los registros totales\")"
   ]
  },
  {
   "cell_type": "markdown",
   "metadata": {
    "colab_type": "text",
    "id": "MwvjHrLWexEZ"
   },
   "source": [
    "# Visualizacion: Countplot"
   ]
  },
  {
   "cell_type": "markdown",
   "metadata": {
    "colab_type": "text",
    "id": "NobBZVKBexEa"
   },
   "source": [
    "Visualización Countplot de Seaborn para las distintas lineas de subte."
   ]
  },
  {
   "cell_type": "code",
   "execution_count": 17,
   "metadata": {
    "colab": {},
    "colab_type": "code",
    "id": "ltuYEOGTexEc",
    "outputId": "a4490170-53e4-4363-ae1c-2234781ddff6"
   },
   "outputs": [
    {
     "data": {
      "image/png": "[encoded data removed]",
      "text/plain": [
       "<Figure size 432x288 with 1 Axes>"
      ]
     },
     "metadata": {
      "needs_background": "light"
     },
     "output_type": "display_data"
    }
   ],
   "source": [
    "# con el comando \"countplot\" de Seaborn (importado como sns) generamos un gráfico de barras por la columna \"LINEA\"\n",
    "sns.set_context(\"talk\")\n",
    "az = sns.countplot(x=\"LINEA\", data=molinetes)\n",
    "plt.xticks(rotation=45)\n",
    "plt.title(\"Viajes en molinetes por linea durante 2017\")\n",
    "plt.show()"
   ]
  },
  {
   "cell_type": "markdown",
   "metadata": {
    "colab_type": "text",
    "id": "OrVd_1V8exEf"
   },
   "source": [
    "Visualización de Countplot de Seaborn para las distintas estaciones de la linea B."
   ]
  },
  {
   "cell_type": "code",
   "execution_count": 18,
   "metadata": {
    "colab": {},
    "colab_type": "code",
    "id": "EBsAw89mexEg",
    "outputId": "140a68ad-438f-4934-a19e-2a8f028fc750"
   },
   "outputs": [
    {
     "data": {
      "image/png": "[encoded data removed]",
      "text/plain": [
       "<Figure size 432x288 with 1 Axes>"
      ]
     },
     "metadata": {
      "needs_background": "light"
     },
     "output_type": "display_data"
    }
   ],
   "source": [
    "# luego generamos un countplot de seaborn por la columna estación, esta vez utilizando el nuevo dataframe filtrado\n",
    "# molinetes_b, que solo contiene los datos de la linea B.\n",
    "ax = sns.countplot(x=\"ESTACION\", data=molinetes_b)\n",
    "ax.set_xticklabels(ax.get_xticklabels(), rotation=40, ha=\"right\")\n",
    "plt.title(\"\")\n",
    "plt.show()"
   ]
  },
  {
   "cell_type": "markdown",
   "metadata": {
    "colab_type": "text",
    "id": "G8KlPid_exEn"
   },
   "source": [
    "# Visualizacion: Boxplot con Seaborn para linea B\n",
    "Procedemos a realizar un boxplot por cada estacion, cuantificando asi donde se concentran cada lapso de tiempo en viajes de molinete. Ver que siempre la cantidad de periodos de 15 mins entre el 1er y 3er cuartil esta por debajo de 100 viajes. Es importante comprender la diferencia entre el boxplot visualizado a continuacion y el countplot visualizado en el paso anterior. ¿Que cambia entre uno y otro?"
   ]
  },
  {
   "cell_type": "code",
   "execution_count": 19,
   "metadata": {
    "colab": {},
    "colab_type": "code",
    "id": "w-msFEH8exEn",
    "outputId": "681431f5-947f-4c86-a728-7bd44c0192f4"
   },
   "outputs": [
    {
     "data": {
      "image/png": "[encoded data removed]",
      "text/plain": [
       "<Figure size 432x288 with 1 Axes>"
      ]
     },
     "metadata": {
      "needs_background": "light"
     },
     "output_type": "display_data"
    }
   ],
   "source": [
    "ay = sns.boxplot(x = molinetes_b.ESTACION, y = molinetes_b.TOTAL, data = molinetes_b)\n",
    "ay.set_xticklabels(ay.get_xticklabels(), rotation=40, ha=\"right\")\n",
    "plt.title(\"distribucion de cantidad de tickets en periodos de 15 mins\")\n",
    "plt.show()"
   ]
  },
  {
   "cell_type": "markdown",
   "metadata": {
    "colab_type": "text",
    "id": "ayibfwkqexE-"
   },
   "source": [
    "# Análisis de la estación Lacroze de la linea B\n",
    "Creamos un dataframe llamado \"molinetes_lacroze\" que contiene unicamente las instancias del dataframe \"molinetes_b\" cuyo valor del atributo/feature \"ESTACION\" sea igual a \"FEDERICO LACROZE\""
   ]
  },
  {
   "cell_type": "code",
   "execution_count": 20,
   "metadata": {
    "colab": {},
    "colab_type": "code",
    "id": "xIZx1BO6exE-"
   },
   "outputs": [],
   "source": [
    "# filtramos con \".loc\" el dataframe \"molinetes_b\" por el valor \"Federico Lacroze\" de la columna \"Estacion\"\n",
    "molinetes_lacroze = molinetes_b.loc[molinetes_b.ESTACION== 'FEDERICO LACROZE']"
   ]
  },
  {
   "cell_type": "code",
   "execution_count": 21,
   "metadata": {},
   "outputs": [],
   "source": [
    "#(molinetes_b.ESTACION == 'FEDERICO LACROZE').sum()"
   ]
  },
  {
   "cell_type": "code",
   "execution_count": 22,
   "metadata": {
    "colab": {},
    "colab_type": "code",
    "id": "PE35UjDFexFC",
    "outputId": "1d06778f-e8fd-4d78-884a-9685132c3a09"
   },
   "outputs": [
    {
     "data": {
      "text/html": [
       "<div>\n",
       "<style scoped>\n",
       "    .dataframe tbody tr th:only-of-type {\n",
       "        vertical-align: middle;\n",
       "    }\n",
       "\n",
       "    .dataframe tbody tr th {\n",
       "        vertical-align: top;\n",
       "    }\n",
       "\n",
       "    .dataframe thead th {\n",
       "        text-align: right;\n",
       "    }\n",
       "</style>\n",
       "<table border=\"1\" class=\"dataframe\">\n",
       "  <thead>\n",
       "    <tr style=\"text-align: right;\">\n",
       "      <th></th>\n",
       "      <th>V1</th>\n",
       "      <th>FECHA</th>\n",
       "      <th>DESDE</th>\n",
       "      <th>HASTA</th>\n",
       "      <th>LINEA</th>\n",
       "      <th>MOLINETE</th>\n",
       "      <th>ID_ESTACION</th>\n",
       "      <th>ESTACION</th>\n",
       "      <th>PAX_PAGOS</th>\n",
       "      <th>PAX_PASES_PAGOS</th>\n",
       "      <th>PAX_FREQ</th>\n",
       "      <th>TOTAL</th>\n",
       "    </tr>\n",
       "  </thead>\n",
       "  <tbody>\n",
       "    <tr>\n",
       "      <th>4416682</th>\n",
       "      <td>4416683</td>\n",
       "      <td>01/01/2017</td>\n",
       "      <td>08:00:00</td>\n",
       "      <td>08:15:00</td>\n",
       "      <td>B</td>\n",
       "      <td>LINEA_B_LACROZE_O_TURN09</td>\n",
       "      <td>66</td>\n",
       "      <td>FEDERICO LACROZE</td>\n",
       "      <td>2</td>\n",
       "      <td>0</td>\n",
       "      <td>0</td>\n",
       "      <td>2</td>\n",
       "    </tr>\n",
       "    <tr>\n",
       "      <th>4416683</th>\n",
       "      <td>4416684</td>\n",
       "      <td>01/01/2017</td>\n",
       "      <td>08:00:00</td>\n",
       "      <td>08:15:00</td>\n",
       "      <td>B</td>\n",
       "      <td>LINEA_B_LACROZE_E_TURN05</td>\n",
       "      <td>66</td>\n",
       "      <td>FEDERICO LACROZE</td>\n",
       "      <td>4</td>\n",
       "      <td>0</td>\n",
       "      <td>0</td>\n",
       "      <td>4</td>\n",
       "    </tr>\n",
       "    <tr>\n",
       "      <th>4416684</th>\n",
       "      <td>4416685</td>\n",
       "      <td>01/01/2017</td>\n",
       "      <td>08:00:00</td>\n",
       "      <td>08:15:00</td>\n",
       "      <td>B</td>\n",
       "      <td>LINEA_B_LACROZE_E_TURN06</td>\n",
       "      <td>66</td>\n",
       "      <td>FEDERICO LACROZE</td>\n",
       "      <td>0</td>\n",
       "      <td>0</td>\n",
       "      <td>1</td>\n",
       "      <td>1</td>\n",
       "    </tr>\n",
       "    <tr>\n",
       "      <th>4416685</th>\n",
       "      <td>4416686</td>\n",
       "      <td>01/01/2017</td>\n",
       "      <td>08:00:00</td>\n",
       "      <td>08:15:00</td>\n",
       "      <td>B</td>\n",
       "      <td>LINEA_B_LACROZE_O_TURN03</td>\n",
       "      <td>66</td>\n",
       "      <td>FEDERICO LACROZE</td>\n",
       "      <td>1</td>\n",
       "      <td>0</td>\n",
       "      <td>0</td>\n",
       "      <td>1</td>\n",
       "    </tr>\n",
       "    <tr>\n",
       "      <th>4416686</th>\n",
       "      <td>4416687</td>\n",
       "      <td>01/01/2017</td>\n",
       "      <td>08:00:00</td>\n",
       "      <td>08:15:00</td>\n",
       "      <td>B</td>\n",
       "      <td>LINEA_B_LACROZE_O_TURN07</td>\n",
       "      <td>66</td>\n",
       "      <td>FEDERICO LACROZE</td>\n",
       "      <td>2</td>\n",
       "      <td>0</td>\n",
       "      <td>0</td>\n",
       "      <td>2</td>\n",
       "    </tr>\n",
       "  </tbody>\n",
       "</table>\n",
       "</div>"
      ],
      "text/plain": [
       "              V1       FECHA     DESDE     HASTA LINEA  \\\n",
       "4416682  4416683  01/01/2017  08:00:00  08:15:00     B   \n",
       "4416683  4416684  01/01/2017  08:00:00  08:15:00     B   \n",
       "4416684  4416685  01/01/2017  08:00:00  08:15:00     B   \n",
       "4416685  4416686  01/01/2017  08:00:00  08:15:00     B   \n",
       "4416686  4416687  01/01/2017  08:00:00  08:15:00     B   \n",
       "\n",
       "                         MOLINETE  ID_ESTACION          ESTACION  PAX_PAGOS  \\\n",
       "4416682  LINEA_B_LACROZE_O_TURN09           66  FEDERICO LACROZE          2   \n",
       "4416683  LINEA_B_LACROZE_E_TURN05           66  FEDERICO LACROZE          4   \n",
       "4416684  LINEA_B_LACROZE_E_TURN06           66  FEDERICO LACROZE          0   \n",
       "4416685  LINEA_B_LACROZE_O_TURN03           66  FEDERICO LACROZE          1   \n",
       "4416686  LINEA_B_LACROZE_O_TURN07           66  FEDERICO LACROZE          2   \n",
       "\n",
       "         PAX_PASES_PAGOS  PAX_FREQ  TOTAL  \n",
       "4416682                0         0      2  \n",
       "4416683                0         0      4  \n",
       "4416684                0         1      1  \n",
       "4416685                0         0      1  \n",
       "4416686                0         0      2  "
      ]
     },
     "execution_count": 22,
     "metadata": {},
     "output_type": "execute_result"
    }
   ],
   "source": [
    "molinetes_lacroze.head()"
   ]
  },
  {
   "cell_type": "markdown",
   "metadata": {
    "colab_type": "text",
    "id": "Y5PAZVytexFJ"
   },
   "source": [
    "**estadisticas descriptivas para la columna \"TOTAL\" del dataframe \"molinetes_lacroze\"**"
   ]
  },
  {
   "cell_type": "code",
   "execution_count": 23,
   "metadata": {
    "colab": {},
    "colab_type": "code",
    "id": "GsshADjgexFK",
    "outputId": "0ef15223-ae39-4c78-9476-275221e4917f"
   },
   "outputs": [
    {
     "data": {
      "text/plain": [
       "count    421233.000000\n",
       "mean         19.292629\n",
       "std          25.177922\n",
       "min           0.000000\n",
       "25%           3.000000\n",
       "50%           9.000000\n",
       "75%          27.000000\n",
       "max         248.000000\n",
       "Name: TOTAL, dtype: float64"
      ]
     },
     "execution_count": 23,
     "metadata": {},
     "output_type": "execute_result"
    }
   ],
   "source": [
    "molinetes_lacroze['TOTAL'].describe()"
   ]
  },
  {
   "cell_type": "markdown",
   "metadata": {
    "colab_type": "text",
    "id": "fz60BdCEexFO"
   },
   "source": [
    "**distplot para la columna \"TOTAL\" del dataframe \"molinetes_lacroze\"**"
   ]
  },
  {
   "cell_type": "code",
   "execution_count": 24,
   "metadata": {
    "colab": {},
    "colab_type": "code",
    "id": "qpPezL3bexFO",
    "outputId": "989b0763-8101-4430-a03d-91d87836cb07"
   },
   "outputs": [
    {
     "name": "stderr",
     "output_type": "stream",
     "text": [
      "C:\\Users\\Usuario\\anaconda3\\lib\\site-packages\\seaborn\\distributions.py:2619: FutureWarning: `distplot` is a deprecated function and will be removed in a future version. Please adapt your code to use either `displot` (a figure-level function with similar flexibility) or `histplot` (an axes-level function for histograms).\n",
      "  warnings.warn(msg, FutureWarning)\n"
     ]
    },
    {
     "data": {
      "image/png": "[encoded data removed]",
      "text/plain": [
       "<Figure size 432x288 with 1 Axes>"
      ]
     },
     "metadata": {
      "needs_background": "light"
     },
     "output_type": "display_data"
    }
   ],
   "source": [
    "# displot para la columna \"TOTAL\" nos generará un histograma + la distribución generada de los datos a partir de \n",
    "# sus frecuencias poblacionales.\n",
    "sns.distplot(molinetes_lacroze['TOTAL'])\n",
    "plt.title('Distribución de cantidad de viajes totales de molinetes. Linea B. Mes Abril.')\n",
    "plt.xlabel('Cantidad de Viajes en molinete por cada 15 mins')\n",
    "plt.show()"
   ]
  },
  {
   "cell_type": "markdown",
   "metadata": {
    "colab_type": "text",
    "id": "i0DZt3Y3exFS"
   },
   "source": [
    "**Boxplot para la columna TOTAL del dataframe \"molinetes_lacroze\"**\n",
    "Realizaremos un boxplot con Matplotlib y otro con seaborn, simplemente para aprender que existen 2 maneras de visualizar."
   ]
  },
  {
   "cell_type": "code",
   "execution_count": 25,
   "metadata": {
    "colab": {},
    "colab_type": "code",
    "id": "cY5cCsPMexFT",
    "outputId": "48c4529c-28aa-46ab-b49f-e04749c0c3d3"
   },
   "outputs": [
    {
     "data": {
      "image/png": "[encoded data removed]",
      "text/plain": [
       "<Figure size 432x288 with 1 Axes>"
      ]
     },
     "metadata": {
      "needs_background": "light"
     },
     "output_type": "display_data"
    }
   ],
   "source": [
    "# boxplot realizado con Matplotlib\n",
    "plt.boxplot(molinetes_lacroze['TOTAL'])\n",
    "plt.title('Vueltas de molinete en Lacroze en 2017')\n",
    "plt.ylabel('Cant. de molinetes c/15 mins')\n",
    "plt.xlabel(\"Viajes por molinete Lacroze\")\n",
    "plt.show()"
   ]
  },
  {
   "cell_type": "code",
   "execution_count": 26,
   "metadata": {
    "colab": {},
    "colab_type": "code",
    "id": "FlnsBLtTexFY",
    "outputId": "0c908c95-4aae-4085-9914-513a00184da4"
   },
   "outputs": [
    {
     "data": {
      "image/png": "[encoded data removed]",
      "text/plain": [
       "<Figure size 432x288 with 1 Axes>"
      ]
     },
     "metadata": {
      "needs_background": "light"
     },
     "output_type": "display_data"
    }
   ],
   "source": [
    "# probamos hacer el mismo boxplot con seaborn\n",
    "sns.boxplot(x = \"TOTAL\", data =  molinetes_lacroze)\n",
    "plt.show()"
   ]
  },
  {
   "cell_type": "markdown",
   "metadata": {
    "colab_type": "text",
    "id": "Un8OG9cDexFc"
   },
   "source": [
    "# Filtrado de outliers con cuantiles\n",
    "Calculamos el valor del percentil 90. Lo que este sobre el percentil 90 lo llamaremos \"hora pico\" y lo que este por debajo sera \"hora no pico\"."
   ]
  },
  {
   "cell_type": "markdown",
   "metadata": {
    "colab_type": "text",
    "id": "js59EWAAexFe"
   },
   "source": [
    "Con el comando de pandas .quantile() calculamos los percentiles que deseemos. En algunos casos nos puede llegar a interesar tambien observar lo que se encuentre por debajo del percentil 10, aunque como observamos en el distplot, la distribucion es asimetrica a la derecha."
   ]
  },
  {
   "cell_type": "code",
   "execution_count": 27,
   "metadata": {
    "colab": {},
    "colab_type": "code",
    "id": "aZZvMQypexFf"
   },
   "outputs": [],
   "source": [
    "# calculo el percentil 90 de la columna \"TOTAL\" para el dataframe \"molinetes_lacroze\".\n",
    "percentil_90 = molinetes_lacroze['TOTAL'].quantile(0.9)"
   ]
  },
  {
   "cell_type": "code",
   "execution_count": 28,
   "metadata": {
    "colab": {},
    "colab_type": "code",
    "id": "P8PDPoUdexFi",
    "outputId": "830dcd1f-6c73-42d2-d835-190d06164f7a"
   },
   "outputs": [
    {
     "data": {
      "text/plain": [
       "50.0"
      ]
     },
     "execution_count": 28,
     "metadata": {},
     "output_type": "execute_result"
    }
   ],
   "source": [
    "# imprimimos en pantalla cuanto vale el percentil 0.9\n",
    "percentil_90"
   ]
  },
  {
   "cell_type": "markdown",
   "metadata": {
    "colab_type": "text",
    "id": "LdfdtRbCexFm"
   },
   "source": [
    "Ahora filtramos por los valores de \"TOTAL\" que sean mayores al percentil 90 para guardarlos en otro dataframe llamado \"Lacroze_hora_pico\". Lo mismo hacemos para los que son menores al percentil 90 y los guardamos como \"hora no pico\"."
   ]
  },
  {
   "cell_type": "code",
   "execution_count": 29,
   "metadata": {
    "colab": {},
    "colab_type": "code",
    "id": "H7YjDAiTexFn"
   },
   "outputs": [],
   "source": [
    "lacroze_hora_pico = molinetes_lacroze.loc[molinetes_lacroze['TOTAL']>percentil_90]"
   ]
  },
  {
   "cell_type": "code",
   "execution_count": 30,
   "metadata": {
    "colab": {},
    "colab_type": "code",
    "id": "uZxU1wfHexFq"
   },
   "outputs": [],
   "source": [
    "lacroze_hora_nopico = molinetes_lacroze.loc[molinetes_lacroze['TOTAL']<percentil_90]"
   ]
  },
  {
   "cell_type": "markdown",
   "metadata": {
    "colab_type": "text",
    "id": "-c3LCo2texFu"
   },
   "source": [
    "Observamos que la expresion **\"molinetes_lacroze['TOTAL']<percentil_90\"** es un vector Boolean, es decir que arroja True o False, y al filtrar utilizando un vector boolean solo sobreviven las filas que esten asociadas a un True."
   ]
  },
  {
   "cell_type": "code",
   "execution_count": 31,
   "metadata": {
    "colab": {},
    "colab_type": "code",
    "id": "4G_2YNjVexFu",
    "outputId": "28621edf-a357-482b-ffe7-406fc028ba53"
   },
   "outputs": [
    {
     "data": {
      "text/plain": [
       "4416682    True\n",
       "4416683    True\n",
       "4416684    True\n",
       "4416685    True\n",
       "4416686    True\n",
       "Name: TOTAL, dtype: bool"
      ]
     },
     "execution_count": 31,
     "metadata": {},
     "output_type": "execute_result"
    }
   ],
   "source": [
    "# observamos que cuando indicamos una expresion logica, lo que devuelve python son valores Booleanos como True or False.\n",
    "(molinetes_lacroze['TOTAL']<percentil_90).head()"
   ]
  },
  {
   "cell_type": "code",
   "execution_count": 32,
   "metadata": {
    "colab": {},
    "colab_type": "code",
    "id": "arVPYKh4exFx",
    "outputId": "d079fef0-3ef2-4a5a-cb61-0b5fd7873dd9"
   },
   "outputs": [
    {
     "data": {
      "text/plain": [
       "(378809, 12)"
      ]
     },
     "execution_count": 32,
     "metadata": {},
     "output_type": "execute_result"
    }
   ],
   "source": [
    "# observamos que dimensiones tienen ahora los dataframes de hora pico y hora no pico\n",
    "np.shape(lacroze_hora_nopico)"
   ]
  },
  {
   "cell_type": "code",
   "execution_count": 33,
   "metadata": {
    "colab": {},
    "colab_type": "code",
    "id": "S8uI56YEexF4",
    "outputId": "f8aefadf-247f-4040-832c-bd999722cbb3"
   },
   "outputs": [
    {
     "data": {
      "text/plain": [
       "(40621, 12)"
      ]
     },
     "execution_count": 33,
     "metadata": {},
     "output_type": "execute_result"
    }
   ],
   "source": [
    "np.shape(lacroze_hora_pico)"
   ]
  },
  {
   "cell_type": "markdown",
   "metadata": {
    "colab_type": "text",
    "id": "UIflIyWnexF-"
   },
   "source": [
    "Ploteamos la distribucion / histograma de la hora pico, ver que los valores del eje X comienzan a partir de 50, que fue el umbral que seleccionamos para dividir ambas categorias."
   ]
  },
  {
   "cell_type": "code",
   "execution_count": 34,
   "metadata": {
    "colab": {},
    "colab_type": "code",
    "id": "7uXxJhAVexF-",
    "outputId": "7250dd0f-bcb4-4494-fcca-f6f6f6ebaa0d"
   },
   "outputs": [
    {
     "name": "stderr",
     "output_type": "stream",
     "text": [
      "C:\\Users\\Usuario\\anaconda3\\lib\\site-packages\\seaborn\\distributions.py:2619: FutureWarning: `distplot` is a deprecated function and will be removed in a future version. Please adapt your code to use either `displot` (a figure-level function with similar flexibility) or `histplot` (an axes-level function for histograms).\n",
      "  warnings.warn(msg, FutureWarning)\n"
     ]
    },
    {
     "data": {
      "image/png": "[encoded data removed]",
      "text/plain": [
       "<Figure size 432x288 with 1 Axes>"
      ]
     },
     "metadata": {
      "needs_background": "light"
     },
     "output_type": "display_data"
    }
   ],
   "source": [
    "# hacemos un distplot de la columna TOTAL del dataframe \"lacroze_hora_pico\"\n",
    "sns.distplot(lacroze_hora_pico['TOTAL'], norm_hist = False)\n",
    "plt.title('Distribución de cantidad de viajes en hora pico de la estacion Lacroze')\n",
    "plt.xlabel('Cantidad de Viajes en molinete por cada 15 mins')\n",
    "plt.show()"
   ]
  },
  {
   "cell_type": "code",
   "execution_count": 35,
   "metadata": {
    "colab": {},
    "colab_type": "code",
    "id": "RSNIXF_TexGC",
    "outputId": "db4943b8-74ce-4f2c-8e48-804e66c8388e"
   },
   "outputs": [
    {
     "data": {
      "image/png": "[encoded data removed]",
      "text/plain": [
       "<Figure size 432x288 with 1 Axes>"
      ]
     },
     "metadata": {
      "needs_background": "light"
     },
     "output_type": "display_data"
    }
   ],
   "source": [
    "# con matplotlib hacemos un boxplot sobre la columna TOTAL del dataframe \"lacroze_hora_pico\"\n",
    "plt.boxplot(lacroze_hora_pico['TOTAL'])\n",
    "plt.title('Cant. viajes de Lacroze en 2017 Hora Pico')\n",
    "plt.ylabel('Cant. de vueltas de molinete c/15 mins')\n",
    "plt.xlabel(\"Estacion Lacroze\")\n",
    "plt.show()"
   ]
  },
  {
   "cell_type": "markdown",
   "metadata": {
    "colab_type": "text",
    "id": "S99dAtoWexGF"
   },
   "source": [
    "Calculamos estadisticas descriptivas para la hora pico"
   ]
  },
  {
   "cell_type": "code",
   "execution_count": 36,
   "metadata": {
    "colab": {},
    "colab_type": "code",
    "id": "JmEM66IGexGG",
    "outputId": "e16301dd-6bd8-4780-c71b-4b9323488d9a"
   },
   "outputs": [
    {
     "data": {
      "text/plain": [
       "count    40621.000000\n",
       "mean        80.194604\n",
       "std         28.975506\n",
       "min         51.000000\n",
       "25%         57.000000\n",
       "50%         70.000000\n",
       "75%         96.000000\n",
       "max        248.000000\n",
       "Name: TOTAL, dtype: float64"
      ]
     },
     "execution_count": 36,
     "metadata": {},
     "output_type": "execute_result"
    }
   ],
   "source": [
    "# aplicamos .describe() sobre la columna TOTAL del dataframe \"lacroze_hora_pico\"\n",
    "lacroze_hora_pico['TOTAL'].describe()"
   ]
  },
  {
   "cell_type": "markdown",
   "metadata": {
    "colab_type": "text",
    "id": "g4tBnebRexGO"
   },
   "source": [
    "Ahora calculamos estadisticas descriptivas y graficos para la hora no pico. **¿que diferencias hay en estas estadisticas entre hora pico y hora no pico?**"
   ]
  },
  {
   "cell_type": "code",
   "execution_count": 37,
   "metadata": {
    "colab": {},
    "colab_type": "code",
    "id": "1IBrzumkexGP",
    "outputId": "6aa234a9-94a0-4fc9-d4b9-bc6aedc2fbc0"
   },
   "outputs": [
    {
     "data": {
      "text/plain": [
       "count    378809.000000\n",
       "mean         12.615743\n",
       "std          12.964954\n",
       "min           0.000000\n",
       "25%           2.000000\n",
       "50%           7.000000\n",
       "75%          19.000000\n",
       "max          49.000000\n",
       "Name: TOTAL, dtype: float64"
      ]
     },
     "execution_count": 37,
     "metadata": {},
     "output_type": "execute_result"
    }
   ],
   "source": [
    "# aplicamos .describe() sobre la columna TOTAL del dataframe \"lacroze_hora_nopico\"\n",
    "lacroze_hora_nopico['TOTAL'].describe()"
   ]
  },
  {
   "cell_type": "code",
   "execution_count": 38,
   "metadata": {
    "colab": {},
    "colab_type": "code",
    "id": "LovYxxTwexGT",
    "outputId": "dbc59b41-e956-4c3c-f8d7-4113cf0a0e4a"
   },
   "outputs": [
    {
     "name": "stderr",
     "output_type": "stream",
     "text": [
      "C:\\Users\\Usuario\\anaconda3\\lib\\site-packages\\seaborn\\distributions.py:2619: FutureWarning: `distplot` is a deprecated function and will be removed in a future version. Please adapt your code to use either `displot` (a figure-level function with similar flexibility) or `histplot` (an axes-level function for histograms).\n",
      "  warnings.warn(msg, FutureWarning)\n"
     ]
    },
    {
     "data": {
      "image/png": "[encoded data removed]",
      "text/plain": [
       "<Figure size 432x288 with 1 Axes>"
      ]
     },
     "metadata": {
      "needs_background": "light"
     },
     "output_type": "display_data"
    }
   ],
   "source": [
    "# hacemos un distplot sobre la columna TOTAL del dataframe \"lacroze_hora_nopico\"\n",
    "sns.distplot((lacroze_hora_nopico['TOTAL']))\n",
    "plt.title('Distribución de cantidad de viajes en hora NO pico de la estacion Lacroze')\n",
    "plt.xlabel('Cantidad de Viajes en molinete por cada 15 mins')\n",
    "plt.show()"
   ]
  },
  {
   "cell_type": "code",
   "execution_count": 39,
   "metadata": {
    "colab": {},
    "colab_type": "code",
    "id": "TMlvb5DaexGe",
    "outputId": "dd49de24-f91b-4c61-ec5c-82c090205d5b"
   },
   "outputs": [
    {
     "data": {
      "image/png": "[encoded data removed]",
      "text/plain": [
       "<Figure size 432x288 with 1 Axes>"
      ]
     },
     "metadata": {
      "needs_background": "light"
     },
     "output_type": "display_data"
    }
   ],
   "source": [
    "# hacemos un boxplot con matplotlib sobre la columna TOTAL del dataframe \"lacroze_hora_nopico\"\n",
    "plt.boxplot(lacroze_hora_nopico['TOTAL'])\n",
    "plt.title(\"Dist de cant. de viajes c/15 mins en hora no pico\")\n",
    "plt.xlabel(\"Estacion Lacroze. Hora no pico\")\n",
    "plt.show()"
   ]
  },
  {
   "cell_type": "markdown",
   "metadata": {
    "colab_type": "text",
    "id": "TQBAPrJ0exGk"
   },
   "source": [
    "Ahora comparamos como queda la distribucion de cantidad de viajes cada 15 mins con los datos originales, en hora pico y en hora no pico."
   ]
  },
  {
   "cell_type": "code",
   "execution_count": 40,
   "metadata": {
    "colab": {},
    "colab_type": "code",
    "id": "Y_S7UYJ4exGl",
    "outputId": "85bedfb0-e0ad-4c4c-c386-205dfd9d4341"
   },
   "outputs": [
    {
     "data": {
      "image/png": "[encoded data removed]",
      "text/plain": [
       "<Figure size 432x288 with 1 Axes>"
      ]
     },
     "metadata": {
      "needs_background": "light"
     },
     "output_type": "display_data"
    }
   ],
   "source": [
    "# con matplotlib hacemos un boxplot de los 3 grupos de datos. Ver que ingresamos 3 dataframes filtrados por la columna TOTAL\n",
    "plt.boxplot([molinetes_lacroze['TOTAL'],lacroze_hora_pico['TOTAL'], lacroze_hora_nopico['TOTAL']])\n",
    "plt.title('comparacion de boxplots entre hora pico, no pico y pre filtrado')\n",
    "plt.xlabel(['pre-filtrado', 'hora pico', 'hora no pico'])\n",
    "plt.show()"
   ]
  },
  {
   "cell_type": "markdown",
   "metadata": {
    "colab_type": "text",
    "id": "MtOVHHLxexGr"
   },
   "source": [
    "Tambien podriamos visualizar en simultáneo las distribuciones de los viajes en horas pico y no pico."
   ]
  },
  {
   "cell_type": "code",
   "execution_count": 41,
   "metadata": {
    "colab": {},
    "colab_type": "code",
    "id": "S7TfUQVoexGr",
    "outputId": "80f1fa0b-b3d3-4e34-9165-55dd7530b6bb"
   },
   "outputs": [
    {
     "name": "stderr",
     "output_type": "stream",
     "text": [
      "C:\\Users\\Usuario\\anaconda3\\lib\\site-packages\\seaborn\\distributions.py:2619: FutureWarning: `distplot` is a deprecated function and will be removed in a future version. Please adapt your code to use either `displot` (a figure-level function with similar flexibility) or `histplot` (an axes-level function for histograms).\n",
      "  warnings.warn(msg, FutureWarning)\n",
      "C:\\Users\\Usuario\\anaconda3\\lib\\site-packages\\seaborn\\distributions.py:2619: FutureWarning: `distplot` is a deprecated function and will be removed in a future version. Please adapt your code to use either `displot` (a figure-level function with similar flexibility) or `histplot` (an axes-level function for histograms).\n",
      "  warnings.warn(msg, FutureWarning)\n"
     ]
    },
    {
     "data": {
      "image/png": "[encoded data removed]",
      "text/plain": [
       "<Figure size 432x288 with 1 Axes>"
      ]
     },
     "metadata": {
      "needs_background": "light"
     },
     "output_type": "display_data"
    }
   ],
   "source": [
    "# hacemos dos displots en el mismo grafico. Uno para hora pico y otro para hora no pico.\n",
    "sns.distplot((lacroze_hora_pico['TOTAL']))\n",
    "sns.distplot((lacroze_hora_nopico['TOTAL']))\n",
    "plt.title('Distribución de cantidad de viajes en hora NO pico de la estacion Lacroze')\n",
    "plt.xlabel('Cantidad de Viajes en molinete por cada 15 mins')\n",
    "plt.show()"
   ]
  },
  {
   "cell_type": "markdown",
   "metadata": {
    "colab_type": "text",
    "id": "Kc2lC1-5exGu"
   },
   "source": [
    "# Correlación Lineal entre estaciones Linea C"
   ]
  },
  {
   "cell_type": "markdown",
   "metadata": {
    "colab_type": "text",
    "id": "WEoAoOUhexGv"
   },
   "source": [
    "\\begin{equation}\n",
    "r = \\frac{\\sum_{i}^{n}\\left ( x_i - \\overline{x} \\right )\\left ( y_i - \\overline{y}  \\right )}{\\left [ \\sum_{i}^{n} \\left ( x_i - \\overline{x}  \\right )^{2} \\left ( y_i - \\overline{y} \\right ) ^{2}  \\right ]^{1/2}}\n",
    "\\end{equation}"
   ]
  },
  {
   "cell_type": "markdown",
   "metadata": {
    "colab_type": "text",
    "id": "5cZ9L6EoexGv"
   },
   "source": [
    "La correlacion lineal (Pearson) es un indicador que varia entre -1 y 1. Indica si dos variables supuestas independientes, se comportan linealmente una de la otra al analizalas juntas. Correlacion r>0 implica correlacion lineal positiva y r<0 implica correlacion lineal negativa. Si r=0 quiere decir que no existe correlacion LINEAL, aunque puede existir otro tipo de correlacion no lineal."
   ]
  },
  {
   "cell_type": "markdown",
   "metadata": {
    "colab_type": "text",
    "id": "XAgGg2q7exGw"
   },
   "source": [
    "**IMPORTANTE: Correlacion no implica causalidad**. Si dos variables estan altamente correlacionadas, nada indica que una es la causa de la otra, es decir, nada indica que una depende de otra."
   ]
  },
  {
   "cell_type": "markdown",
   "metadata": {
    "colab_type": "text",
    "id": "989HYia5exGw"
   },
   "source": [
    "Creamos un dataframe solo de la linea C filtrando el dataframe \"molinetes\" por la columna \"LINEA\""
   ]
  },
  {
   "cell_type": "code",
   "execution_count": 42,
   "metadata": {
    "colab": {},
    "colab_type": "code",
    "id": "qs7o6v5QexGx"
   },
   "outputs": [],
   "source": [
    "# f\n",
    "molinetes_c = molinetes[(molinetes['LINEA'] == 'LINEA_C')]"
   ]
  },
  {
   "cell_type": "code",
   "execution_count": 43,
   "metadata": {},
   "outputs": [
    {
     "data": {
      "text/html": [
       "<div>\n",
       "<style scoped>\n",
       "    .dataframe tbody tr th:only-of-type {\n",
       "        vertical-align: middle;\n",
       "    }\n",
       "\n",
       "    .dataframe tbody tr th {\n",
       "        vertical-align: top;\n",
       "    }\n",
       "\n",
       "    .dataframe thead th {\n",
       "        text-align: right;\n",
       "    }\n",
       "</style>\n",
       "<table border=\"1\" class=\"dataframe\">\n",
       "  <thead>\n",
       "    <tr style=\"text-align: right;\">\n",
       "      <th></th>\n",
       "      <th>V1</th>\n",
       "      <th>FECHA</th>\n",
       "      <th>DESDE</th>\n",
       "      <th>HASTA</th>\n",
       "      <th>LINEA</th>\n",
       "      <th>MOLINETE</th>\n",
       "      <th>ID_ESTACION</th>\n",
       "      <th>ESTACION</th>\n",
       "      <th>PAX_PAGOS</th>\n",
       "      <th>PAX_PASES_PAGOS</th>\n",
       "      <th>PAX_FREQ</th>\n",
       "      <th>TOTAL</th>\n",
       "    </tr>\n",
       "  </thead>\n",
       "  <tbody>\n",
       "    <tr>\n",
       "      <th>627230</th>\n",
       "      <td>627231</td>\n",
       "      <td>01/01/2017</td>\n",
       "      <td>08:00:00</td>\n",
       "      <td>08:15:00</td>\n",
       "      <td>LINEA_C</td>\n",
       "      <td>LINEA_C_AVMAYO_S_TURN03</td>\n",
       "      <td>16</td>\n",
       "      <td>AVENIDA DE MAYO</td>\n",
       "      <td>4</td>\n",
       "      <td>0</td>\n",
       "      <td>0</td>\n",
       "      <td>4</td>\n",
       "    </tr>\n",
       "    <tr>\n",
       "      <th>627231</th>\n",
       "      <td>627232</td>\n",
       "      <td>01/01/2017</td>\n",
       "      <td>08:00:00</td>\n",
       "      <td>08:15:00</td>\n",
       "      <td>LINEA_C</td>\n",
       "      <td>LINEA_C_AVMAYO_S_TURN01</td>\n",
       "      <td>16</td>\n",
       "      <td>AVENIDA DE MAYO</td>\n",
       "      <td>1</td>\n",
       "      <td>0</td>\n",
       "      <td>0</td>\n",
       "      <td>1</td>\n",
       "    </tr>\n",
       "    <tr>\n",
       "      <th>627232</th>\n",
       "      <td>627233</td>\n",
       "      <td>01/01/2017</td>\n",
       "      <td>08:15:00</td>\n",
       "      <td>08:30:00</td>\n",
       "      <td>LINEA_C</td>\n",
       "      <td>LINEA_C_AVMAYO_S_TURN02</td>\n",
       "      <td>16</td>\n",
       "      <td>AVENIDA DE MAYO</td>\n",
       "      <td>2</td>\n",
       "      <td>0</td>\n",
       "      <td>0</td>\n",
       "      <td>2</td>\n",
       "    </tr>\n",
       "    <tr>\n",
       "      <th>627233</th>\n",
       "      <td>627234</td>\n",
       "      <td>01/01/2017</td>\n",
       "      <td>08:15:00</td>\n",
       "      <td>08:30:00</td>\n",
       "      <td>LINEA_C</td>\n",
       "      <td>LINEA_C_AVMAYO_S_TURN01</td>\n",
       "      <td>16</td>\n",
       "      <td>AVENIDA DE MAYO</td>\n",
       "      <td>1</td>\n",
       "      <td>0</td>\n",
       "      <td>0</td>\n",
       "      <td>1</td>\n",
       "    </tr>\n",
       "    <tr>\n",
       "      <th>627234</th>\n",
       "      <td>627235</td>\n",
       "      <td>01/01/2017</td>\n",
       "      <td>08:30:00</td>\n",
       "      <td>08:45:00</td>\n",
       "      <td>LINEA_C</td>\n",
       "      <td>LINEA_C_AVMAYO_S_TURN01</td>\n",
       "      <td>16</td>\n",
       "      <td>AVENIDA DE MAYO</td>\n",
       "      <td>2</td>\n",
       "      <td>0</td>\n",
       "      <td>0</td>\n",
       "      <td>2</td>\n",
       "    </tr>\n",
       "  </tbody>\n",
       "</table>\n",
       "</div>"
      ],
      "text/plain": [
       "            V1       FECHA     DESDE     HASTA    LINEA  \\\n",
       "627230  627231  01/01/2017  08:00:00  08:15:00  LINEA_C   \n",
       "627231  627232  01/01/2017  08:00:00  08:15:00  LINEA_C   \n",
       "627232  627233  01/01/2017  08:15:00  08:30:00  LINEA_C   \n",
       "627233  627234  01/01/2017  08:15:00  08:30:00  LINEA_C   \n",
       "627234  627235  01/01/2017  08:30:00  08:45:00  LINEA_C   \n",
       "\n",
       "                       MOLINETE  ID_ESTACION         ESTACION  PAX_PAGOS  \\\n",
       "627230  LINEA_C_AVMAYO_S_TURN03           16  AVENIDA DE MAYO          4   \n",
       "627231  LINEA_C_AVMAYO_S_TURN01           16  AVENIDA DE MAYO          1   \n",
       "627232  LINEA_C_AVMAYO_S_TURN02           16  AVENIDA DE MAYO          2   \n",
       "627233  LINEA_C_AVMAYO_S_TURN01           16  AVENIDA DE MAYO          1   \n",
       "627234  LINEA_C_AVMAYO_S_TURN01           16  AVENIDA DE MAYO          2   \n",
       "\n",
       "        PAX_PASES_PAGOS  PAX_FREQ  TOTAL  \n",
       "627230                0         0      4  \n",
       "627231                0         0      1  \n",
       "627232                0         0      2  \n",
       "627233                0         0      1  \n",
       "627234                0         0      2  "
      ]
     },
     "execution_count": 43,
     "metadata": {},
     "output_type": "execute_result"
    }
   ],
   "source": [
    "molinetes_c.head()"
   ]
  },
  {
   "cell_type": "markdown",
   "metadata": {
    "colab_type": "text",
    "id": "oYziMH-iexG0"
   },
   "source": [
    "Ahora creamos una tabla pivote para resumir por columnas ESTACION y filas FECHA, los valores de cantidad de viajes de molinetes para la linea C"
   ]
  },
  {
   "cell_type": "code",
   "execution_count": 51,
   "metadata": {},
   "outputs": [],
   "source": [
    "from datetime import datetime"
   ]
  },
  {
   "cell_type": "code",
   "execution_count": 59,
   "metadata": {
    "scrolled": true
   },
   "outputs": [
    {
     "name": "stderr",
     "output_type": "stream",
     "text": [
      "C:\\Users\\Usuario\\AppData\\Local\\Temp\\ipykernel_21000\\1023193960.py:2: SettingWithCopyWarning: \n",
      "A value is trying to be set on a copy of a slice from a DataFrame.\n",
      "Try using .loc[row_indexer,col_indexer] = value instead\n",
      "\n",
      "See the caveats in the documentation: https://pandas.pydata.org/pandas-docs/stable/user_guide/indexing.html#returning-a-view-versus-a-copy\n",
      "  molinetes_c['FECHA'] = pd.to_datetime(molinetes_c['FECHA'], format='%d/%m/%Y')\n",
      "C:\\Users\\Usuario\\AppData\\Local\\Temp\\ipykernel_21000\\1023193960.py:3: SettingWithCopyWarning: \n",
      "A value is trying to be set on a copy of a slice from a DataFrame.\n",
      "Try using .loc[row_indexer,col_indexer] = value instead\n",
      "\n",
      "See the caveats in the documentation: https://pandas.pydata.org/pandas-docs/stable/user_guide/indexing.html#returning-a-view-versus-a-copy\n",
      "  molinetes_c['PERIODO'] = molinetes_c['FECHA'].dt.to_period('M')\n"
     ]
    }
   ],
   "source": [
    "# converting the string to datetime format\n",
    "molinetes_c['FECHA'] = pd.to_datetime(molinetes_c['FECHA'], format='%d/%m/%Y')\n",
    "molinetes_c['PERIODO'] = molinetes_c['FECHA'].dt.to_period('M')"
   ]
  },
  {
   "cell_type": "code",
   "execution_count": 60,
   "metadata": {
    "scrolled": true
   },
   "outputs": [
    {
     "data": {
      "text/html": [
       "<div>\n",
       "<style scoped>\n",
       "    .dataframe tbody tr th:only-of-type {\n",
       "        vertical-align: middle;\n",
       "    }\n",
       "\n",
       "    .dataframe tbody tr th {\n",
       "        vertical-align: top;\n",
       "    }\n",
       "\n",
       "    .dataframe thead th {\n",
       "        text-align: right;\n",
       "    }\n",
       "</style>\n",
       "<table border=\"1\" class=\"dataframe\">\n",
       "  <thead>\n",
       "    <tr style=\"text-align: right;\">\n",
       "      <th></th>\n",
       "      <th>V1</th>\n",
       "      <th>FECHA</th>\n",
       "      <th>DESDE</th>\n",
       "      <th>HASTA</th>\n",
       "      <th>LINEA</th>\n",
       "      <th>MOLINETE</th>\n",
       "      <th>ID_ESTACION</th>\n",
       "      <th>ESTACION</th>\n",
       "      <th>PAX_PAGOS</th>\n",
       "      <th>PAX_PASES_PAGOS</th>\n",
       "      <th>PAX_FREQ</th>\n",
       "      <th>TOTAL</th>\n",
       "      <th>PERIODO</th>\n",
       "    </tr>\n",
       "  </thead>\n",
       "  <tbody>\n",
       "    <tr>\n",
       "      <th>627230</th>\n",
       "      <td>627231</td>\n",
       "      <td>2017-01-01</td>\n",
       "      <td>08:00:00</td>\n",
       "      <td>08:15:00</td>\n",
       "      <td>LINEA_C</td>\n",
       "      <td>LINEA_C_AVMAYO_S_TURN03</td>\n",
       "      <td>16</td>\n",
       "      <td>AVENIDA DE MAYO</td>\n",
       "      <td>4</td>\n",
       "      <td>0</td>\n",
       "      <td>0</td>\n",
       "      <td>4</td>\n",
       "      <td>2017-01</td>\n",
       "    </tr>\n",
       "    <tr>\n",
       "      <th>627231</th>\n",
       "      <td>627232</td>\n",
       "      <td>2017-01-01</td>\n",
       "      <td>08:00:00</td>\n",
       "      <td>08:15:00</td>\n",
       "      <td>LINEA_C</td>\n",
       "      <td>LINEA_C_AVMAYO_S_TURN01</td>\n",
       "      <td>16</td>\n",
       "      <td>AVENIDA DE MAYO</td>\n",
       "      <td>1</td>\n",
       "      <td>0</td>\n",
       "      <td>0</td>\n",
       "      <td>1</td>\n",
       "      <td>2017-01</td>\n",
       "    </tr>\n",
       "    <tr>\n",
       "      <th>627232</th>\n",
       "      <td>627233</td>\n",
       "      <td>2017-01-01</td>\n",
       "      <td>08:15:00</td>\n",
       "      <td>08:30:00</td>\n",
       "      <td>LINEA_C</td>\n",
       "      <td>LINEA_C_AVMAYO_S_TURN02</td>\n",
       "      <td>16</td>\n",
       "      <td>AVENIDA DE MAYO</td>\n",
       "      <td>2</td>\n",
       "      <td>0</td>\n",
       "      <td>0</td>\n",
       "      <td>2</td>\n",
       "      <td>2017-01</td>\n",
       "    </tr>\n",
       "    <tr>\n",
       "      <th>627233</th>\n",
       "      <td>627234</td>\n",
       "      <td>2017-01-01</td>\n",
       "      <td>08:15:00</td>\n",
       "      <td>08:30:00</td>\n",
       "      <td>LINEA_C</td>\n",
       "      <td>LINEA_C_AVMAYO_S_TURN01</td>\n",
       "      <td>16</td>\n",
       "      <td>AVENIDA DE MAYO</td>\n",
       "      <td>1</td>\n",
       "      <td>0</td>\n",
       "      <td>0</td>\n",
       "      <td>1</td>\n",
       "      <td>2017-01</td>\n",
       "    </tr>\n",
       "    <tr>\n",
       "      <th>627234</th>\n",
       "      <td>627235</td>\n",
       "      <td>2017-01-01</td>\n",
       "      <td>08:30:00</td>\n",
       "      <td>08:45:00</td>\n",
       "      <td>LINEA_C</td>\n",
       "      <td>LINEA_C_AVMAYO_S_TURN01</td>\n",
       "      <td>16</td>\n",
       "      <td>AVENIDA DE MAYO</td>\n",
       "      <td>2</td>\n",
       "      <td>0</td>\n",
       "      <td>0</td>\n",
       "      <td>2</td>\n",
       "      <td>2017-01</td>\n",
       "    </tr>\n",
       "  </tbody>\n",
       "</table>\n",
       "</div>"
      ],
      "text/plain": [
       "            V1      FECHA     DESDE     HASTA    LINEA  \\\n",
       "627230  627231 2017-01-01  08:00:00  08:15:00  LINEA_C   \n",
       "627231  627232 2017-01-01  08:00:00  08:15:00  LINEA_C   \n",
       "627232  627233 2017-01-01  08:15:00  08:30:00  LINEA_C   \n",
       "627233  627234 2017-01-01  08:15:00  08:30:00  LINEA_C   \n",
       "627234  627235 2017-01-01  08:30:00  08:45:00  LINEA_C   \n",
       "\n",
       "                       MOLINETE  ID_ESTACION         ESTACION  PAX_PAGOS  \\\n",
       "627230  LINEA_C_AVMAYO_S_TURN03           16  AVENIDA DE MAYO          4   \n",
       "627231  LINEA_C_AVMAYO_S_TURN01           16  AVENIDA DE MAYO          1   \n",
       "627232  LINEA_C_AVMAYO_S_TURN02           16  AVENIDA DE MAYO          2   \n",
       "627233  LINEA_C_AVMAYO_S_TURN01           16  AVENIDA DE MAYO          1   \n",
       "627234  LINEA_C_AVMAYO_S_TURN01           16  AVENIDA DE MAYO          2   \n",
       "\n",
       "        PAX_PASES_PAGOS  PAX_FREQ  TOTAL  PERIODO  \n",
       "627230                0         0      4  2017-01  \n",
       "627231                0         0      1  2017-01  \n",
       "627232                0         0      2  2017-01  \n",
       "627233                0         0      1  2017-01  \n",
       "627234                0         0      2  2017-01  "
      ]
     },
     "execution_count": 60,
     "metadata": {},
     "output_type": "execute_result"
    }
   ],
   "source": [
    "molinetes_c.head()"
   ]
  },
  {
   "cell_type": "code",
   "execution_count": 61,
   "metadata": {},
   "outputs": [
    {
     "data": {
      "text/plain": [
       "2017-10    142155\n",
       "2017-08    142116\n",
       "2017-07    141151\n",
       "2017-09    139094\n",
       "2017-11    137282\n",
       "2017-05    136947\n",
       "2017-06    135834\n",
       "2017-12    134288\n",
       "2017-04    126951\n",
       "2017-03    120977\n",
       "2017-01     71167\n",
       "2017-02     65636\n",
       "Freq: M, Name: PERIODO, dtype: int64"
      ]
     },
     "execution_count": 61,
     "metadata": {},
     "output_type": "execute_result"
    }
   ],
   "source": [
    "molinetes_c.PERIODO.value_counts()"
   ]
  },
  {
   "cell_type": "code",
   "execution_count": 62,
   "metadata": {
    "colab": {},
    "colab_type": "code",
    "id": "Sg5QpvspexG1"
   },
   "outputs": [],
   "source": [
    "# hacemos la tabla pivote para \"simplificar o resumir\" los datos provenientes de \"molinetes_c\" \n",
    "molinetes_c_pivot = pd.pivot_table(molinetes_c, values = 'TOTAL', columns = 'ESTACION', index = 'PERIODO',fill_value=0, aggfunc = np.sum)\n"
   ]
  },
  {
   "cell_type": "code",
   "execution_count": 63,
   "metadata": {
    "colab": {},
    "colab_type": "code",
    "id": "IX4pX1vFexG6",
    "outputId": "ec9c04e8-7160-4c39-f518-8adcd4acdf0f"
   },
   "outputs": [
    {
     "data": {
      "text/html": [
       "<div>\n",
       "<style scoped>\n",
       "    .dataframe tbody tr th:only-of-type {\n",
       "        vertical-align: middle;\n",
       "    }\n",
       "\n",
       "    .dataframe tbody tr th {\n",
       "        vertical-align: top;\n",
       "    }\n",
       "\n",
       "    .dataframe thead th {\n",
       "        text-align: right;\n",
       "    }\n",
       "</style>\n",
       "<table border=\"1\" class=\"dataframe\">\n",
       "  <thead>\n",
       "    <tr style=\"text-align: right;\">\n",
       "      <th>ESTACION</th>\n",
       "      <th>AVENIDA DE MAYO</th>\n",
       "      <th>CONSTITUCION</th>\n",
       "      <th>DIAGONAL NORTE</th>\n",
       "      <th>GENERAL SAN MARTIN</th>\n",
       "      <th>INDEPENDENCIA</th>\n",
       "      <th>LAVALLE</th>\n",
       "      <th>MARIANO MORENO</th>\n",
       "      <th>RETIRO</th>\n",
       "      <th>SAN JUAN</th>\n",
       "    </tr>\n",
       "    <tr>\n",
       "      <th>PERIODO</th>\n",
       "      <th></th>\n",
       "      <th></th>\n",
       "      <th></th>\n",
       "      <th></th>\n",
       "      <th></th>\n",
       "      <th></th>\n",
       "      <th></th>\n",
       "      <th></th>\n",
       "      <th></th>\n",
       "    </tr>\n",
       "  </thead>\n",
       "  <tbody>\n",
       "    <tr>\n",
       "      <th>2017-01</th>\n",
       "      <td>106068</td>\n",
       "      <td>8229</td>\n",
       "      <td>88541</td>\n",
       "      <td>135184</td>\n",
       "      <td>195139</td>\n",
       "      <td>118027</td>\n",
       "      <td>110087</td>\n",
       "      <td>511180</td>\n",
       "      <td>705</td>\n",
       "    </tr>\n",
       "    <tr>\n",
       "      <th>2017-02</th>\n",
       "      <td>102016</td>\n",
       "      <td>1</td>\n",
       "      <td>92249</td>\n",
       "      <td>137498</td>\n",
       "      <td>228300</td>\n",
       "      <td>117724</td>\n",
       "      <td>124408</td>\n",
       "      <td>517505</td>\n",
       "      <td>0</td>\n",
       "    </tr>\n",
       "    <tr>\n",
       "      <th>2017-03</th>\n",
       "      <td>179735</td>\n",
       "      <td>1673294</td>\n",
       "      <td>180484</td>\n",
       "      <td>276231</td>\n",
       "      <td>188051</td>\n",
       "      <td>278616</td>\n",
       "      <td>219070</td>\n",
       "      <td>1016705</td>\n",
       "      <td>155478</td>\n",
       "    </tr>\n",
       "    <tr>\n",
       "      <th>2017-04</th>\n",
       "      <td>147947</td>\n",
       "      <td>1674946</td>\n",
       "      <td>152623</td>\n",
       "      <td>233642</td>\n",
       "      <td>161896</td>\n",
       "      <td>244432</td>\n",
       "      <td>184197</td>\n",
       "      <td>941852</td>\n",
       "      <td>157027</td>\n",
       "    </tr>\n",
       "    <tr>\n",
       "      <th>2017-05</th>\n",
       "      <td>173288</td>\n",
       "      <td>1973564</td>\n",
       "      <td>178884</td>\n",
       "      <td>280895</td>\n",
       "      <td>178144</td>\n",
       "      <td>290885</td>\n",
       "      <td>217205</td>\n",
       "      <td>1105674</td>\n",
       "      <td>179406</td>\n",
       "    </tr>\n",
       "    <tr>\n",
       "      <th>2017-06</th>\n",
       "      <td>169204</td>\n",
       "      <td>2014635</td>\n",
       "      <td>175192</td>\n",
       "      <td>273930</td>\n",
       "      <td>175918</td>\n",
       "      <td>288304</td>\n",
       "      <td>215516</td>\n",
       "      <td>1072387</td>\n",
       "      <td>178032</td>\n",
       "    </tr>\n",
       "    <tr>\n",
       "      <th>2017-07</th>\n",
       "      <td>168055</td>\n",
       "      <td>2092928</td>\n",
       "      <td>169996</td>\n",
       "      <td>269759</td>\n",
       "      <td>168864</td>\n",
       "      <td>293409</td>\n",
       "      <td>215680</td>\n",
       "      <td>1075027</td>\n",
       "      <td>166375</td>\n",
       "    </tr>\n",
       "    <tr>\n",
       "      <th>2017-08</th>\n",
       "      <td>183071</td>\n",
       "      <td>2194515</td>\n",
       "      <td>186547</td>\n",
       "      <td>269831</td>\n",
       "      <td>194932</td>\n",
       "      <td>300061</td>\n",
       "      <td>228695</td>\n",
       "      <td>1135572</td>\n",
       "      <td>184422</td>\n",
       "    </tr>\n",
       "    <tr>\n",
       "      <th>2017-09</th>\n",
       "      <td>173832</td>\n",
       "      <td>2192401</td>\n",
       "      <td>174427</td>\n",
       "      <td>266407</td>\n",
       "      <td>187309</td>\n",
       "      <td>288445</td>\n",
       "      <td>223181</td>\n",
       "      <td>1104449</td>\n",
       "      <td>181974</td>\n",
       "    </tr>\n",
       "    <tr>\n",
       "      <th>2017-10</th>\n",
       "      <td>176411</td>\n",
       "      <td>2238514</td>\n",
       "      <td>176679</td>\n",
       "      <td>270483</td>\n",
       "      <td>187678</td>\n",
       "      <td>288039</td>\n",
       "      <td>229240</td>\n",
       "      <td>1156587</td>\n",
       "      <td>173494</td>\n",
       "    </tr>\n",
       "    <tr>\n",
       "      <th>2017-11</th>\n",
       "      <td>175820</td>\n",
       "      <td>2215729</td>\n",
       "      <td>174142</td>\n",
       "      <td>270237</td>\n",
       "      <td>186609</td>\n",
       "      <td>281650</td>\n",
       "      <td>224146</td>\n",
       "      <td>1130518</td>\n",
       "      <td>180887</td>\n",
       "    </tr>\n",
       "    <tr>\n",
       "      <th>2017-12</th>\n",
       "      <td>153279</td>\n",
       "      <td>1988601</td>\n",
       "      <td>153271</td>\n",
       "      <td>242192</td>\n",
       "      <td>160125</td>\n",
       "      <td>262543</td>\n",
       "      <td>196017</td>\n",
       "      <td>1031375</td>\n",
       "      <td>148709</td>\n",
       "    </tr>\n",
       "  </tbody>\n",
       "</table>\n",
       "</div>"
      ],
      "text/plain": [
       "ESTACION  AVENIDA DE MAYO  CONSTITUCION  DIAGONAL NORTE  GENERAL SAN MARTIN  \\\n",
       "PERIODO                                                                       \n",
       "2017-01            106068          8229           88541              135184   \n",
       "2017-02            102016             1           92249              137498   \n",
       "2017-03            179735       1673294          180484              276231   \n",
       "2017-04            147947       1674946          152623              233642   \n",
       "2017-05            173288       1973564          178884              280895   \n",
       "2017-06            169204       2014635          175192              273930   \n",
       "2017-07            168055       2092928          169996              269759   \n",
       "2017-08            183071       2194515          186547              269831   \n",
       "2017-09            173832       2192401          174427              266407   \n",
       "2017-10            176411       2238514          176679              270483   \n",
       "2017-11            175820       2215729          174142              270237   \n",
       "2017-12            153279       1988601          153271              242192   \n",
       "\n",
       "ESTACION  INDEPENDENCIA  LAVALLE  MARIANO MORENO   RETIRO  SAN JUAN  \n",
       "PERIODO                                                              \n",
       "2017-01          195139   118027          110087   511180       705  \n",
       "2017-02          228300   117724          124408   517505         0  \n",
       "2017-03          188051   278616          219070  1016705    155478  \n",
       "2017-04          161896   244432          184197   941852    157027  \n",
       "2017-05          178144   290885          217205  1105674    179406  \n",
       "2017-06          175918   288304          215516  1072387    178032  \n",
       "2017-07          168864   293409          215680  1075027    166375  \n",
       "2017-08          194932   300061          228695  1135572    184422  \n",
       "2017-09          187309   288445          223181  1104449    181974  \n",
       "2017-10          187678   288039          229240  1156587    173494  \n",
       "2017-11          186609   281650          224146  1130518    180887  \n",
       "2017-12          160125   262543          196017  1031375    148709  "
      ]
     },
     "execution_count": 63,
     "metadata": {},
     "output_type": "execute_result"
    }
   ],
   "source": [
    "# observamos como quedo la tabla pivote con un .head()\n",
    "molinetes_c_pivot"
   ]
  },
  {
   "cell_type": "code",
   "execution_count": 64,
   "metadata": {},
   "outputs": [
    {
     "data": {
      "text/plain": [
       "pandas.core.frame.DataFrame"
      ]
     },
     "execution_count": 64,
     "metadata": {},
     "output_type": "execute_result"
    }
   ],
   "source": [
    "type(molinetes_c_pivot)"
   ]
  },
  {
   "cell_type": "markdown",
   "metadata": {
    "colab_type": "text",
    "id": "rH_FLYGiexG-"
   },
   "source": [
    "ahora generamos una matriz de correlacion de Pearson entre cada estacion de la linea C. Con esto queremos entender si cuando aumenta o diminuye los viajes de molinetes de una estacion, el resto de las estaciones evoluciona directa o indirectamente proporcional de manera lineal."
   ]
  },
  {
   "cell_type": "code",
   "execution_count": 65,
   "metadata": {
    "colab": {},
    "colab_type": "code",
    "id": "2bDy2jcGexG_"
   },
   "outputs": [],
   "source": [
    "# creamos una matriz \"mol_c_corr\" que es lo obtenido de aplicar .corr() a \"molinetes_c_pivot\"\n",
    "mol_c_corr = molinetes_c_pivot.corr()"
   ]
  },
  {
   "cell_type": "code",
   "execution_count": 66,
   "metadata": {
    "colab": {},
    "colab_type": "code",
    "id": "igUoW0BoexHD",
    "outputId": "643c9158-95d5-427b-bea1-825b77ef9394"
   },
   "outputs": [
    {
     "data": {
      "text/plain": [
       "(9, 9)"
      ]
     },
     "execution_count": 66,
     "metadata": {},
     "output_type": "execute_result"
    }
   ],
   "source": [
    "# observamos las dimensiones de esta matriz\n",
    "np.shape(mol_c_corr)"
   ]
  },
  {
   "cell_type": "code",
   "execution_count": 67,
   "metadata": {
    "colab": {},
    "colab_type": "code",
    "id": "wXsyYWPSexHH",
    "outputId": "d913e8a6-7f08-47c0-e621-bf3925d43f88"
   },
   "outputs": [
    {
     "data": {
      "text/html": [
       "<div>\n",
       "<style scoped>\n",
       "    .dataframe tbody tr th:only-of-type {\n",
       "        vertical-align: middle;\n",
       "    }\n",
       "\n",
       "    .dataframe tbody tr th {\n",
       "        vertical-align: top;\n",
       "    }\n",
       "\n",
       "    .dataframe thead th {\n",
       "        text-align: right;\n",
       "    }\n",
       "</style>\n",
       "<table border=\"1\" class=\"dataframe\">\n",
       "  <thead>\n",
       "    <tr style=\"text-align: right;\">\n",
       "      <th>ESTACION</th>\n",
       "      <th>AVENIDA DE MAYO</th>\n",
       "      <th>CONSTITUCION</th>\n",
       "      <th>DIAGONAL NORTE</th>\n",
       "      <th>GENERAL SAN MARTIN</th>\n",
       "      <th>INDEPENDENCIA</th>\n",
       "      <th>LAVALLE</th>\n",
       "      <th>MARIANO MORENO</th>\n",
       "      <th>RETIRO</th>\n",
       "      <th>SAN JUAN</th>\n",
       "    </tr>\n",
       "    <tr>\n",
       "      <th>ESTACION</th>\n",
       "      <th></th>\n",
       "      <th></th>\n",
       "      <th></th>\n",
       "      <th></th>\n",
       "      <th></th>\n",
       "      <th></th>\n",
       "      <th></th>\n",
       "      <th></th>\n",
       "      <th></th>\n",
       "    </tr>\n",
       "  </thead>\n",
       "  <tbody>\n",
       "    <tr>\n",
       "      <th>AVENIDA DE MAYO</th>\n",
       "      <td>1.000000</td>\n",
       "      <td>0.944188</td>\n",
       "      <td>0.992863</td>\n",
       "      <td>0.981723</td>\n",
       "      <td>-0.457787</td>\n",
       "      <td>0.976326</td>\n",
       "      <td>0.988167</td>\n",
       "      <td>0.969090</td>\n",
       "      <td>0.957276</td>\n",
       "    </tr>\n",
       "    <tr>\n",
       "      <th>CONSTITUCION</th>\n",
       "      <td>0.944188</td>\n",
       "      <td>1.000000</td>\n",
       "      <td>0.954917</td>\n",
       "      <td>0.960572</td>\n",
       "      <td>-0.619212</td>\n",
       "      <td>0.982128</td>\n",
       "      <td>0.968479</td>\n",
       "      <td>0.993509</td>\n",
       "      <td>0.985945</td>\n",
       "    </tr>\n",
       "    <tr>\n",
       "      <th>DIAGONAL NORTE</th>\n",
       "      <td>0.992863</td>\n",
       "      <td>0.954917</td>\n",
       "      <td>1.000000</td>\n",
       "      <td>0.991764</td>\n",
       "      <td>-0.498654</td>\n",
       "      <td>0.987925</td>\n",
       "      <td>0.989611</td>\n",
       "      <td>0.975702</td>\n",
       "      <td>0.975865</td>\n",
       "    </tr>\n",
       "    <tr>\n",
       "      <th>GENERAL SAN MARTIN</th>\n",
       "      <td>0.981723</td>\n",
       "      <td>0.960572</td>\n",
       "      <td>0.991764</td>\n",
       "      <td>1.000000</td>\n",
       "      <td>-0.561860</td>\n",
       "      <td>0.991635</td>\n",
       "      <td>0.983916</td>\n",
       "      <td>0.978116</td>\n",
       "      <td>0.978627</td>\n",
       "    </tr>\n",
       "    <tr>\n",
       "      <th>INDEPENDENCIA</th>\n",
       "      <td>-0.457787</td>\n",
       "      <td>-0.619212</td>\n",
       "      <td>-0.498654</td>\n",
       "      <td>-0.561860</td>\n",
       "      <td>1.000000</td>\n",
       "      <td>-0.589436</td>\n",
       "      <td>-0.460423</td>\n",
       "      <td>-0.566942</td>\n",
       "      <td>-0.621854</td>\n",
       "    </tr>\n",
       "    <tr>\n",
       "      <th>LAVALLE</th>\n",
       "      <td>0.976326</td>\n",
       "      <td>0.982128</td>\n",
       "      <td>0.987925</td>\n",
       "      <td>0.991635</td>\n",
       "      <td>-0.589436</td>\n",
       "      <td>1.000000</td>\n",
       "      <td>0.984779</td>\n",
       "      <td>0.989564</td>\n",
       "      <td>0.987991</td>\n",
       "    </tr>\n",
       "    <tr>\n",
       "      <th>MARIANO MORENO</th>\n",
       "      <td>0.988167</td>\n",
       "      <td>0.968479</td>\n",
       "      <td>0.989611</td>\n",
       "      <td>0.983916</td>\n",
       "      <td>-0.460423</td>\n",
       "      <td>0.984779</td>\n",
       "      <td>1.000000</td>\n",
       "      <td>0.985829</td>\n",
       "      <td>0.969720</td>\n",
       "    </tr>\n",
       "    <tr>\n",
       "      <th>RETIRO</th>\n",
       "      <td>0.969090</td>\n",
       "      <td>0.993509</td>\n",
       "      <td>0.975702</td>\n",
       "      <td>0.978116</td>\n",
       "      <td>-0.566942</td>\n",
       "      <td>0.989564</td>\n",
       "      <td>0.985829</td>\n",
       "      <td>1.000000</td>\n",
       "      <td>0.986176</td>\n",
       "    </tr>\n",
       "    <tr>\n",
       "      <th>SAN JUAN</th>\n",
       "      <td>0.957276</td>\n",
       "      <td>0.985945</td>\n",
       "      <td>0.975865</td>\n",
       "      <td>0.978627</td>\n",
       "      <td>-0.621854</td>\n",
       "      <td>0.987991</td>\n",
       "      <td>0.969720</td>\n",
       "      <td>0.986176</td>\n",
       "      <td>1.000000</td>\n",
       "    </tr>\n",
       "  </tbody>\n",
       "</table>\n",
       "</div>"
      ],
      "text/plain": [
       "ESTACION            AVENIDA DE MAYO  CONSTITUCION  DIAGONAL NORTE  \\\n",
       "ESTACION                                                            \n",
       "AVENIDA DE MAYO            1.000000      0.944188        0.992863   \n",
       "CONSTITUCION               0.944188      1.000000        0.954917   \n",
       "DIAGONAL NORTE             0.992863      0.954917        1.000000   \n",
       "GENERAL SAN MARTIN         0.981723      0.960572        0.991764   \n",
       "INDEPENDENCIA             -0.457787     -0.619212       -0.498654   \n",
       "LAVALLE                    0.976326      0.982128        0.987925   \n",
       "MARIANO MORENO             0.988167      0.968479        0.989611   \n",
       "RETIRO                     0.969090      0.993509        0.975702   \n",
       "SAN JUAN                   0.957276      0.985945        0.975865   \n",
       "\n",
       "ESTACION            GENERAL SAN MARTIN  INDEPENDENCIA   LAVALLE  \\\n",
       "ESTACION                                                          \n",
       "AVENIDA DE MAYO               0.981723      -0.457787  0.976326   \n",
       "CONSTITUCION                  0.960572      -0.619212  0.982128   \n",
       "DIAGONAL NORTE                0.991764      -0.498654  0.987925   \n",
       "GENERAL SAN MARTIN            1.000000      -0.561860  0.991635   \n",
       "INDEPENDENCIA                -0.561860       1.000000 -0.589436   \n",
       "LAVALLE                       0.991635      -0.589436  1.000000   \n",
       "MARIANO MORENO                0.983916      -0.460423  0.984779   \n",
       "RETIRO                        0.978116      -0.566942  0.989564   \n",
       "SAN JUAN                      0.978627      -0.621854  0.987991   \n",
       "\n",
       "ESTACION            MARIANO MORENO    RETIRO  SAN JUAN  \n",
       "ESTACION                                                \n",
       "AVENIDA DE MAYO           0.988167  0.969090  0.957276  \n",
       "CONSTITUCION              0.968479  0.993509  0.985945  \n",
       "DIAGONAL NORTE            0.989611  0.975702  0.975865  \n",
       "GENERAL SAN MARTIN        0.983916  0.978116  0.978627  \n",
       "INDEPENDENCIA            -0.460423 -0.566942 -0.621854  \n",
       "LAVALLE                   0.984779  0.989564  0.987991  \n",
       "MARIANO MORENO            1.000000  0.985829  0.969720  \n",
       "RETIRO                    0.985829  1.000000  0.986176  \n",
       "SAN JUAN                  0.969720  0.986176  1.000000  "
      ]
     },
     "execution_count": 67,
     "metadata": {},
     "output_type": "execute_result"
    }
   ],
   "source": [
    "# visualizamos las primeras 3 filas de la matriz de correlacion\n",
    "mol_c_corr"
   ]
  },
  {
   "cell_type": "markdown",
   "metadata": {
    "colab_type": "text",
    "id": "i7dReUadexHP"
   },
   "source": [
    "# Heatmap de correlacion estaciones linea C\n",
    "Utilizamos la funcion Heatmap de seaborn para visualizar la matriz de correlacion que generamos en el paso anterior. Observamos que la estacion Independencia correlaciona negativamente con el resto. Esto quiere decir que cuando el resto de las estaciones incrementa su numero de pasajeros por molinete, en Independencia decrece demanera lineal."
   ]
  },
  {
   "cell_type": "code",
   "execution_count": 68,
   "metadata": {},
   "outputs": [
    {
     "data": {
      "text/plain": [
       "<AxesSubplot:xlabel='ESTACION', ylabel='ESTACION'>"
      ]
     },
     "execution_count": 68,
     "metadata": {},
     "output_type": "execute_result"
    },
    {
     "data": {
      "image/png": "[encoded data removed]",
      "text/plain": [
       "<Figure size 432x288 with 2 Axes>"
      ]
     },
     "metadata": {
      "needs_background": "light"
     },
     "output_type": "display_data"
    }
   ],
   "source": [
    "sns.heatmap(mol_c_corr)"
   ]
  },
  {
   "cell_type": "code",
   "execution_count": 69,
   "metadata": {
    "colab": {},
    "colab_type": "code",
    "id": "eN6bM1w7exHQ",
    "outputId": "e0615f27-54c9-442a-c0f3-b5a22c92ae51"
   },
   "outputs": [
    {
     "data": {
      "image/png": "[encoded data removed]",
      "text/plain": [
       "<Figure size 432x288 with 2 Axes>"
      ]
     },
     "metadata": {
      "needs_background": "light"
     },
     "output_type": "display_data"
    }
   ],
   "source": [
    "corr_c_plot = sns.heatmap(mol_c_corr, xticklabels=1, yticklabels=1)\n",
    "corr_c_plot.set_xticklabels(corr_c_plot.get_xticklabels(), rotation=40, ha=\"right\")\n",
    "plt.title(\"matriz de correlacion viajes en estaciones linea C\")\n",
    "plt.show()"
   ]
  },
  {
   "cell_type": "markdown",
   "metadata": {
    "colab_type": "text",
    "id": "6qYrSyv0exHT"
   },
   "source": [
    "Observamos que la estacion Independencia correlaciona negativamente con respecto al resto de las estaciones. Posiblemente sea un efecto de que Independencia es un nodo que intersecta a la linea E."
   ]
  },
  {
   "cell_type": "code",
   "execution_count": null,
   "metadata": {},
   "outputs": [],
   "source": []
  }
 ],
 "metadata": {
  "colab": {
   "name": "clusterai_2020_clase01_eda_subtes.ipynb",
   "provenance": []
  },
  "kernelspec": {
   "display_name": "Python 3 (ipykernel)",
   "language": "python",
   "name": "python3"
  },
  "language_info": {
   "codemirror_mode": {
    "name": "ipython",
    "version": 3
   },
   "file_extension": ".py",
   "mimetype": "text/x-python",
   "name": "python",
   "nbconvert_exporter": "python",
   "pygments_lexer": "ipython3",
   "version": "3.9.12"
  }
 },
 "nbformat": 4,
 "nbformat_minor": 1
}
