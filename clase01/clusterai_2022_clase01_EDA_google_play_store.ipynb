{
 "cells": [
  {
   "cell_type": "markdown",
   "metadata": {
    "colab_type": "text",
    "id": "nP84DR6FiNDw"
   },
   "source": [
    "**ClusterAI 2022**\n",
    "\n",
    "**Ciencia de Datos - Ingenieria Industrial UTN BA**\n",
    "\n",
    "**Curso I5521**\n",
    "\n",
    "**Clase 01: Analisis Exploratorio de Datos (EDA) con datos de Google Play Store Apps**\n",
    "\n",
    "**Elaborado por: Nicolás Aguirre**"
   ]
  },
  {
   "cell_type": "markdown",
   "metadata": {
    "colab_type": "text",
    "id": "EtSj3GImiNDz"
   },
   "source": [
    " # Import"
   ]
  },
  {
   "cell_type": "code",
   "execution_count": null,
   "metadata": {
    "colab": {},
    "colab_type": "code",
    "id": "E3LVbuOgJYwc"
   },
   "outputs": [],
   "source": [
    "#Importar paquetes de herramientas:\n",
    "\n",
    "#Datos\n",
    "import pandas as pd\n",
    "import numpy as np\n",
    "#Graficos \n",
    "import matplotlib.pyplot as plt\n",
    "import seaborn as sns\n",
    "#Otros \n",
    "import warnings\n",
    "warnings.filterwarnings('ignore')"
   ]
  },
  {
   "cell_type": "markdown",
   "metadata": {
    "colab_type": "text",
    "id": "ABY_m2g2hr3m"
   },
   "source": [
    "# Dataset"
   ]
  },
  {
   "cell_type": "markdown",
   "metadata": {
    "colab_type": "text",
    "id": "FVp6LLaGhr3m"
   },
   "source": [
    "El dataset  que usaremos se encuentra en:\n",
    "  \n",
    "https://www.kaggle.com/lava18/google-play-store-apps\n",
    "\n",
    "Una vez descargado, indicamos la direccion del archivo descargado a la funcion **pd.read_csv()** para importarlo como un objeto Pandas DataFrame. \n",
    "Si el archivo se encuentra en la misma carpeta que la notebook, con indicarle el nombre es suficiente.\n",
    "\n",
    "Ademas, usaremos la funcion **np.shape()** y y el metodo **.head()** para:\n",
    "\n",
    "* **Verificar que se haya cargado bien el dataset**: En algunos casos, debido a un error en el formato del archivo \".csv\", las columnas y/o registros se cargan incorrectamente. En estos casos \"pd.read_csv()\" no devuelve error pero lo notaremos cuando usemos la funcion \".head()\".\n",
    "\n",
    "\n",
    "* **Obtener la dimension del dataset**: Cantidad de registros y cantidad de columnas.\n",
    "\n",
    "\n",
    "* **Tener una base de la cantidad original de registros**: Para que a medida que vayamos aplicando distintos filtros que limpien nuestros datos tengamos una numero de referencia. Si aplicamos un filtro, y de repente perdemos el 90% de los datos, lo mas probable es que en algo nos hayamos equivocado."
   ]
  },
  {
   "cell_type": "markdown",
   "metadata": {},
   "source": [
    "## Loading"
   ]
  },
  {
   "cell_type": "code",
   "execution_count": null,
   "metadata": {
    "colab": {},
    "colab_type": "code",
    "id": "Jh-ZGb5CJbWM"
   },
   "outputs": [],
   "source": [
    "google_df = pd.read_csv('googleplaystore.csv')"
   ]
  },
  {
   "cell_type": "markdown",
   "metadata": {},
   "source": [
    "## Shape"
   ]
  },
  {
   "cell_type": "code",
   "execution_count": null,
   "metadata": {
    "colab": {},
    "colab_type": "code",
    "id": "RZzJCEGJiND5",
    "outputId": "9258528c-34fa-447b-d90b-98926957dfbd"
   },
   "outputs": [],
   "source": [
    "print(f'np.shape --> {np.shape(google_df)}')\n",
    "\n",
    "filas = np.shape(google_df)[0] # [0] para la primera dimension\n",
    "print(f'Filas: {filas}')\n",
    "\n",
    "columnas = np.shape(google_df)[1] # [1] para la segunda dimension\n",
    "print(f'Columnas: {columnas}')\n",
    "\n",
    "print('Output de \".head(5)\": ')\n",
    "google_df.head(5)"
   ]
  },
  {
   "cell_type": "markdown",
   "metadata": {
    "colab_type": "text",
    "id": "SPeEL8tghr3v"
   },
   "source": [
    "## Columnas\n",
    "Si queremos saber el nombre de las columas en pd.DataFrame utilizamos el metodo **.columns()**.\n",
    "\n",
    "Para guardarlo, simplemente lo asignamos a una variable"
   ]
  },
  {
   "cell_type": "code",
   "execution_count": null,
   "metadata": {
    "colab": {},
    "colab_type": "code",
    "id": "tMsIy64qJdPe",
    "outputId": "e0aef413-b973-4681-89d3-0935ab63eea0",
    "scrolled": true
   },
   "outputs": [],
   "source": [
    "nombre_columnas = google_df.columns.values\n",
    "nombre_columnas"
   ]
  },
  {
   "cell_type": "markdown",
   "metadata": {
    "colab_type": "text",
    "id": "H--QSzalhr30"
   },
   "source": [
    "# Limpieza de Datos"
   ]
  },
  {
   "cell_type": "markdown",
   "metadata": {
    "colab_type": "text",
    "id": "JNeRb9A3hr31"
   },
   "source": [
    "En esta parte nos vamos a encargar de limpiar:\n",
    "\n",
    "* **Duplicados** $\\rightarrow$  [.drop_duplicates( )](https://pandas.pydata.org/pandas-docs/stable/reference/api/pandas.DataFrame.drop_duplicates.html)\n",
    "\n",
    "\n",
    "* **Simbolos** $\\rightarrow$ [str.replace](https://pandas.pydata.org/pandas-docs/stable/reference/api/pandas.Series.str.replace.html) and [str.extract](https://pandas.pydata.org/pandas-docs/stable/reference/api/pandas.Series.str.extract.html)\n",
    "\n",
    "\n",
    "\n",
    "* **NaN** $\\rightarrow$ [.dropna( )](https://pandas.pydata.org/pandas-docs/stable/reference/api/pandas.DataFrame.dropna.html)\n"
   ]
  },
  {
   "cell_type": "markdown",
   "metadata": {
    "colab_type": "text",
    "id": "SkuVrfxvhr32"
   },
   "source": [
    "## Duplicados"
   ]
  },
  {
   "cell_type": "code",
   "execution_count": null,
   "metadata": {
    "colab": {},
    "colab_type": "code",
    "id": "XOO49Ikqhr33"
   },
   "outputs": [],
   "source": [
    "# Vamos a eliminar de la columna 'App' los valores repetidos, conservando unicamente la primera ocurrencia.\n",
    "\n",
    "# Las columnas para quitar los duplicados se indican en el argumento 'subset'\n",
    "# mientras que la primera ocurrencia se indica con el argumento 'keep'\n",
    "\n",
    "google_df.drop_duplicates(subset='App', inplace=True, keep='first')\n",
    "\n",
    "# La opcion 'inplace' nos evitar tener asignar la salida a una variable.\n",
    "# Directamente se guarda sobre 'google_df'. Equivale a:\n",
    "\n",
    "#google_df = google_df.drop_duplicates(subset='App', keep='first')"
   ]
  },
  {
   "cell_type": "markdown",
   "metadata": {
    "colab_type": "text",
    "id": "LT8KvWXlhr37"
   },
   "source": [
    "## Simbolos"
   ]
  },
  {
   "cell_type": "markdown",
   "metadata": {
    "colab_type": "text",
    "id": "sYZl7ebChr39"
   },
   "source": [
    "Supongamos que las columnas **Installs**, **Size**, **Price** y **Reviews** tienen informacion en la que estamos interesados.\n",
    "\n",
    "El problema es que estan en formato texto (o *string*) y hay simbolos y valores que nos impiden manipularlos en formato numerico ( *int* o *float*)"
   ]
  },
  {
   "cell_type": "markdown",
   "metadata": {},
   "source": [
    "### Installs"
   ]
  },
  {
   "cell_type": "code",
   "execution_count": null,
   "metadata": {
    "colab": {},
    "colab_type": "code",
    "id": "InE3kQl1hr39",
    "outputId": "c7ac96bb-3be0-4bfe-bf5c-f23ec0ef8510",
    "scrolled": false
   },
   "outputs": [],
   "source": [
    "# Installs\n",
    "q_installs = len(google_df['Installs'].unique()) # Cantidad de valores unicos en 'Installs'\n",
    "\n",
    "print(f'En total hay {q_installs} tipos de valores en \"Install\"\\r\\n\\n')\n",
    "print(google_df['Installs'].unique())"
   ]
  },
  {
   "cell_type": "markdown",
   "metadata": {
    "colab_type": "text",
    "id": "lZFb9KtGhr4B"
   },
   "source": [
    "Podemos notar 2 simbolos de la cell anterior que debemos eliminar para poder usar el dato como numero y no como cadena de texto, y un string \"Free\" en algun registro que esta mal cargado.\n",
    "\n",
    "Entonces debemos:\n",
    "\n",
    "1. Conservar los registros que tengan en la colmna 'Install' distinto (!=) a 'Free',\n",
    "\n",
    "\n",
    "2. Reemplazaar/eliminar los simbolos \"+\" y \",\"\n",
    "\n",
    "\n",
    "3. Cambiar el formato string a int"
   ]
  },
  {
   "cell_type": "code",
   "execution_count": null,
   "metadata": {
    "colab": {},
    "colab_type": "code",
    "id": "jUuOM9_lhr4C",
    "outputId": "61fc3428-66e5-4fc4-851f-1da79e9ae65e"
   },
   "outputs": [],
   "source": [
    "#1)\n",
    "# Eliminacion manual de valores que no deberiamos tener en columas\n",
    "google_df = google_df[google_df['Installs'] != 'Free']\n",
    "\n",
    "# Aqui lo que hicimos fue conservar unicamente los registros cuyos valores en la columa \"Installs\" sean distintos (=!) a 'Free'\n",
    "filas = np.shape(google_df)[0] # [0] para la primera dimension\n",
    "print(f'Filas: {filas}')"
   ]
  },
  {
   "cell_type": "code",
   "execution_count": null,
   "metadata": {
    "colab": {},
    "colab_type": "code",
    "id": "vku046dRhr4H"
   },
   "outputs": [],
   "source": [
    "#2)\n",
    "#Reemplaamos los caraccteres '+' y ',' con el comando 'str.replace(a,b)' donde:\n",
    "# 'a' es el string a reemplazar y 'b' es el string nuevo.  \n",
    "google_df['Installs'] = google_df['Installs'].str.replace(',','')\n",
    "google_df['Installs'] = google_df['Installs'].str.replace('+','')"
   ]
  },
  {
   "cell_type": "code",
   "execution_count": null,
   "metadata": {},
   "outputs": [],
   "source": [
    "#3) Cambiar el formato string a int\n",
    "google_df = google_df.astype({\"Installs\": int})"
   ]
  },
  {
   "cell_type": "markdown",
   "metadata": {},
   "source": [
    "Veamos como quedo nuestra columna 'Install'"
   ]
  },
  {
   "cell_type": "code",
   "execution_count": null,
   "metadata": {
    "colab": {},
    "colab_type": "code",
    "id": "TrrYaqqghr4L",
    "outputId": "020a688c-4e4e-40aa-c1b2-6e9036a8d7f5",
    "scrolled": true
   },
   "outputs": [],
   "source": [
    "q_installs = len(google_df['Installs'].unique())\n",
    "print(f'En total hay {q_installs} labels de Install\\r\\n\\n')\n",
    "print(google_df['Installs'].unique())\n",
    "print(\"Type: \", type(google_df['Installs'].unique()[0]))"
   ]
  },
  {
   "cell_type": "markdown",
   "metadata": {},
   "source": [
    "### Size"
   ]
  },
  {
   "cell_type": "code",
   "execution_count": null,
   "metadata": {
    "colab": {},
    "colab_type": "code",
    "id": "IBEh4E56hr4P",
    "outputId": "adb3de2b-ada8-4e27-d954-d1e61b377b61"
   },
   "outputs": [],
   "source": [
    "#Size\n",
    "q_size = len(google_df['Size'].unique()) # Cantidad de valores unicos en 'Size'\n",
    "print(f'En total hay {q_size} tipos de valores en \"Size\"\\r\\n')\n",
    "print(\"\\n\", google_df['Size'].unique())\n",
    "filas = np.shape(google_df)[0]\n",
    "print(f'Filas: {filas}')"
   ]
  },
  {
   "cell_type": "markdown",
   "metadata": {
    "colab_type": "text",
    "id": "HSS1umGohr4T"
   },
   "source": [
    "En la columna **\"Size\"**, tenemos problemas de unidades, en algunos casos tenemos el tamaño en Megabytes (M) y en otras en Kilobytes (k), y algunos valores con el texto \"Varies with device\".\n",
    "\n",
    "Entonces debemos:\n",
    "\n",
    "1. Reemplazar los valores 'Varies with device' por NaN's.\n",
    "\n",
    "\n",
    "2. Separar los numeros que esten en formato texto y guardarlos en formato numerico. Ademas, homogeinizaremos el tamaño a 'M'. Para eso, extraeremos y reemplazaremos los caracteres 'k' y 'M'. \n",
    "\n",
    "\n",
    "3. Finalmente, los NaN's correspondiente a los valores \"Varies with device\", vamos a reemplazarlos por la media de cada categoria, para eliminar la menor cantidad de registros. "
   ]
  },
  {
   "cell_type": "code",
   "execution_count": null,
   "metadata": {
    "colab": {},
    "colab_type": "code",
    "id": "OCEMs5q3hr4Y"
   },
   "outputs": [],
   "source": [
    "# 1)\n",
    "#Dejamos el peso de las app en Mb y convertimos aquellas que esten en Kb.\n",
    "google_df['Size'].replace('Varies with device', np.nan, inplace = True )"
   ]
  },
  {
   "cell_type": "code",
   "execution_count": null,
   "metadata": {
    "colab": {},
    "colab_type": "code",
    "id": "VKP9qc5shr4c",
    "outputId": "99301822-3895-454f-b2ef-15983040433e"
   },
   "outputs": [],
   "source": [
    "# 2.1)\n",
    "#Eliminamos las letras k y M que estan al final de cada valor.\n",
    "\n",
    "output = google_df.Size.replace(r'[kM]', '', regex=True).astype(float) # Valores enteros sin las letras k/M\n",
    "print(output,'\\r\\n')\n",
    "print(output.value_counts())"
   ]
  },
  {
   "cell_type": "code",
   "execution_count": null,
   "metadata": {
    "colab": {},
    "colab_type": "code",
    "id": "PPwshuejhr4g",
    "outputId": "2aa146c0-aa00-4018-a3b5-ef44c1a8088e"
   },
   "outputs": [],
   "source": [
    "# 2.2)\n",
    "# Separamos los grupos K y M\n",
    "output = google_df.Size.str.extract(r'([kM])', expand=False)\n",
    "print(output,'\\r\\n')\n",
    "print(output.value_counts())"
   ]
  },
  {
   "cell_type": "code",
   "execution_count": null,
   "metadata": {
    "colab": {},
    "colab_type": "code",
    "id": "_7GZpO8yhr4j",
    "outputId": "602d8e46-94b2-4ada-9b01-12aee136f7cf"
   },
   "outputs": [],
   "source": [
    "# 2.3)\n",
    "#Los NaN los reemplazamos por 1 para no perder registros\n",
    "output = google_df.Size.str.extract(r'([kM])', expand=False).fillna(1)\n",
    "print(output,'\\r\\n')\n",
    "print(output.value_counts())"
   ]
  },
  {
   "cell_type": "code",
   "execution_count": null,
   "metadata": {
    "colab": {},
    "colab_type": "code",
    "id": "JUHlVIe5hr4m",
    "outputId": "82cfa042-ab0a-496f-ae99-838ca981700f"
   },
   "outputs": [],
   "source": [
    "# 2.4)\n",
    "#Homogeneizamos las unidades, k = 10**-3 y M = 1\n",
    "output = google_df.Size.str.extract(r'([kM])', expand=False).fillna(1)\\\n",
    ".replace(['k','M'], [10**-3, 1]).astype(float)\n",
    "#print(output,'\\r\\n')\n",
    "print(output.value_counts())"
   ]
  },
  {
   "cell_type": "code",
   "execution_count": null,
   "metadata": {
    "colab": {},
    "colab_type": "code",
    "id": "mKOLBkrihr4q"
   },
   "outputs": [],
   "source": [
    "# Juntamos todo [2.1 a 2.4]\n",
    "google_df.Size = (google_df.Size.replace(r'[kM]', '', regex=True).astype(float) * \\\n",
    "             google_df.Size.str.extract(r'([KM])', expand=False)\n",
    "            .fillna(1)\n",
    "            .replace(['k','M'], [10**-3, 1]).astype(float))\n",
    "\n",
    "# comentario:\n",
    "# El simbolo ' \\ ' permite escribir una misma linea de codigo en distintas lineas de texto"
   ]
  },
  {
   "cell_type": "markdown",
   "metadata": {},
   "source": [
    "Veamos como quedo ahora la columna 'Size'"
   ]
  },
  {
   "cell_type": "code",
   "execution_count": null,
   "metadata": {
    "colab": {},
    "colab_type": "code",
    "id": "vLaZ2LdFhr4u",
    "outputId": "0f0479aa-5135-47f4-c1e9-1354de64a130"
   },
   "outputs": [],
   "source": [
    "google_df.Size"
   ]
  },
  {
   "cell_type": "code",
   "execution_count": null,
   "metadata": {
    "colab": {},
    "colab_type": "code",
    "id": "dKpl8_bHhr4x"
   },
   "outputs": [],
   "source": [
    "# 3)\n",
    "#Reemplazamos aquellos registros con 'Varies with device' (ahora NaN) con la media del peso segun la categoria\n",
    "google_df['Size'].fillna(google_df.groupby('Genres')['Size'].transform('mean'), inplace = True)"
   ]
  },
  {
   "cell_type": "code",
   "execution_count": null,
   "metadata": {
    "colab": {},
    "colab_type": "code",
    "id": "akyI21Sshr40"
   },
   "outputs": [],
   "source": [
    "# A float\n",
    "google_df['Size'] = google_df['Size'].astype(float)\n",
    "google_df['Installs'] = google_df['Installs'].astype(float)"
   ]
  },
  {
   "cell_type": "markdown",
   "metadata": {},
   "source": [
    "### Price & Reviews"
   ]
  },
  {
   "cell_type": "code",
   "execution_count": null,
   "metadata": {
    "colab": {},
    "colab_type": "code",
    "id": "0WLiY1Hshr43"
   },
   "outputs": [],
   "source": [
    "# Quitamos simbolo '$' y pasamos a float.\n",
    "google_df['Price'] = google_df['Price'].str.replace('$','')\n",
    "google_df['Price'] = google_df['Price'].astype(float)"
   ]
  },
  {
   "cell_type": "code",
   "execution_count": null,
   "metadata": {
    "colab": {},
    "colab_type": "code",
    "id": "FziXdcfEhr47"
   },
   "outputs": [],
   "source": [
    "google_df['Reviews'] = google_df['Reviews'].astype(int)"
   ]
  },
  {
   "cell_type": "markdown",
   "metadata": {
    "colab_type": "text",
    "id": "4j9vrmkShr4-"
   },
   "source": [
    "**Links para curiosos**\n",
    "\n",
    "Regular Expressions:\n",
    "   - [Documentacion](https://docs.python.org/3/howto/regex.html) \n",
    "   - [YouTube](https://www.youtube.com/watch?v=8DvywoWv6fI&list=WL&index=2&t=21317s) \n",
    "   - [Ejemplos](https://www.geeksforgeeks.org/pattern-matching-python-regex/)"
   ]
  },
  {
   "cell_type": "markdown",
   "metadata": {
    "colab_type": "text",
    "id": "YqR7B9R4JeV6"
   },
   "source": [
    "## NaN"
   ]
  },
  {
   "cell_type": "markdown",
   "metadata": {
    "colab_type": "text",
    "id": "yFygLzG-hr5A"
   },
   "source": [
    "Ahora verificamos que las columnas no tengan NaN.\n",
    "\n",
    "En caso de haberlos, tendremos que decidir:\n",
    "\n",
    "- si son suficientes como para eliminar TODA la columa y perder esa informacion, o\n",
    "\n",
    "        \n",
    "- decidir eliminar unicamente los registros."
   ]
  },
  {
   "cell_type": "code",
   "execution_count": null,
   "metadata": {
    "colab": {},
    "colab_type": "code",
    "id": "qd2gVY8Bhr5A",
    "outputId": "2ba3a190-8254-4bd0-b9f0-c8f0e1d39b09"
   },
   "outputs": [],
   "source": [
    "# Columnas que tienen al menos un nan\n",
    "col_NaN = google_df.isnull().any()\n",
    "print(col_NaN,'\\r\\n')"
   ]
  },
  {
   "cell_type": "code",
   "execution_count": null,
   "metadata": {
    "colab": {},
    "colab_type": "code",
    "id": "cHkQhYS5hr5E",
    "outputId": "60712aab-cc66-482f-d008-5d6b91251041",
    "scrolled": true
   },
   "outputs": [],
   "source": [
    "# Cantidad de valores nulos ordenados descendentemente\n",
    "total = google_df.isnull().sum().sort_values(ascending=False)\n",
    "total"
   ]
  },
  {
   "cell_type": "code",
   "execution_count": null,
   "metadata": {
    "colab": {},
    "colab_type": "code",
    "id": "Ssn7oGRZJgxn",
    "outputId": "7a5da4cd-dade-46d1-952f-0f8266c085f5",
    "scrolled": true
   },
   "outputs": [],
   "source": [
    "# Cantidad de valores nulos ordenados descendentemente\n",
    "total = google_df.isnull().sum().sort_values(ascending=False)\n",
    "# Porcetaje de lo que representa para cada columna\n",
    "percent = (google_df.isnull().sum()/len(google_df)).sort_values(ascending=False)\n",
    "# Mostramos los 2 resultados en conjunto.\n",
    "missing_data = pd.concat([total, percent], axis=1, keys=['Total', 'Percent'])\n",
    "missing_data.head(6)"
   ]
  },
  {
   "cell_type": "code",
   "execution_count": null,
   "metadata": {
    "colab": {},
    "colab_type": "code",
    "id": "3jNAZYrJJiBQ"
   },
   "outputs": [],
   "source": [
    "# Limpiamos registros '.dropna'\n",
    "google_df.dropna(how ='any', inplace = True)"
   ]
  },
  {
   "cell_type": "code",
   "execution_count": null,
   "metadata": {
    "colab": {},
    "colab_type": "code",
    "id": "cFAVSErSiNEQ",
    "outputId": "f58c5cac-36ee-49c9-ce18-764a13b73874",
    "scrolled": true
   },
   "outputs": [],
   "source": [
    "# Verificamos como quedo el dataset\n",
    "print(f'Nos quedamos con un dataframe de {google_df.shape[0]} filas x {google_df.shape[1]} columnas')"
   ]
  },
  {
   "cell_type": "markdown",
   "metadata": {
    "colab_type": "text",
    "id": "fPV9_jEOhr5Q"
   },
   "source": [
    "# Analisis\n",
    "\n",
    "**Ahora que terminamos con la limpieza general del dataset, pasemos a analizar:**\n",
    "\n",
    "    1. Rating\n",
    "    \n",
    "    2. Categorias\n",
    "    \n",
    "    3. Categorias vs Rating\n",
    "    \n",
    "    4. Reviews\n",
    "    \n",
    "    5. Precio"
   ]
  },
  {
   "cell_type": "markdown",
   "metadata": {
    "colab_type": "text",
    "id": "w8diOjARhr5Q"
   },
   "source": [
    "# 1) Rating"
   ]
  },
  {
   "cell_type": "markdown",
   "metadata": {
    "colab_type": "text",
    "id": "9BIfpS3Phr5R"
   },
   "source": [
    "**A continuacion veamos la distribucion estimada del 'Rating' y su histograma**"
   ]
  },
  {
   "cell_type": "code",
   "execution_count": null,
   "metadata": {
    "colab": {},
    "colab_type": "code",
    "id": "LejgbNGbhr5S",
    "outputId": "66705501-8e0a-4275-8270-bf689419c351",
    "scrolled": false
   },
   "outputs": [],
   "source": [
    "plt.figure(figsize=(10,3))\n",
    "sns.histplot(data=google_df,\n",
    "             x='Rating',stat='count',kde=False)\n",
    "plt.xlabel(\"Rating\",size = 20)\n",
    "plt.ylabel(\"Cantidades\",size = 20)\n",
    "#plt.xticks([]) # por si deseamos eliminar los intervalos en el eje-x\n",
    "#plt.imsave('Histogram',format='png') # Guardar la imagen\n",
    "plt.title('Histograma de Rating',size = 20)\n",
    "plt.show()\n",
    "\n",
    "\n",
    "plt.figure(figsize=(10,3))\n",
    "sns.histplot(data=google_df,\n",
    "             x='Rating',stat='density',kde=True)\n",
    "plt.xlabel(\"Rating\",size = 20)\n",
    "plt.ylabel(\"Density\",size = 20)\n",
    "#plt.xticks([]) # por si deseamos eliminar los intervalos en el eje-x\n",
    "#plt.imsave('Histogram',format='png') # Guardar la imagen\n",
    "plt.show()"
   ]
  },
  {
   "cell_type": "markdown",
   "metadata": {
    "colab_type": "text",
    "id": "ezdfw-PUhr5V"
   },
   "source": [
    "# 2) Categorias"
   ]
  },
  {
   "cell_type": "markdown",
   "metadata": {
    "colab_type": "text",
    "id": "f6ioB7OVhr5W"
   },
   "source": [
    "A modo de ejemplo, podriamos querer saber como es el comportamiento del Rating por Categoria:\n",
    "    \n",
    "* Vamos a visualizar el top 10 de categorias con mayor cantidad de apps.\n",
    "\n",
    "* Boxplot de Categoria vs Rating"
   ]
  },
  {
   "cell_type": "code",
   "execution_count": null,
   "metadata": {
    "colab": {},
    "colab_type": "code",
    "id": "TgohRtWghr5X",
    "outputId": "8ad9ee90-59c4-4e64-f4e3-0ed8a1c43d46",
    "scrolled": false
   },
   "outputs": [],
   "source": [
    "# Gardamos en una variable la cantidad de categorias\n",
    "q_categorias = len(google_df['Category'].unique())\n",
    "print(f'En total hay {q_categorias} categorias\\r\\n')\n",
    "# Mostramos en la cell los tipos de categorias\n",
    "print(\"\\n\", google_df['Category'].unique())"
   ]
  },
  {
   "cell_type": "code",
   "execution_count": null,
   "metadata": {
    "colab": {},
    "colab_type": "code",
    "id": "NvvQJAjkhr5a",
    "outputId": "afc8fb0f-1997-4a8a-d816-f29ed1109b06"
   },
   "outputs": [],
   "source": [
    "# top\n",
    "top_n = 10\n",
    "# Guardamos los indices de los top_n categorias\n",
    "idx_top = google_df['Category'].value_counts(ascending=False).index[0:top_n]\n",
    "\n",
    "plt.figure(figsize=(15,3))\n",
    "# Indicamos la columna 'Category', de los datos 'google_df', en el orden 'idx_top'\n",
    "g = sns.countplot(data=google_df,\n",
    "                  x=\"Category\",\n",
    "                  order=idx_top,\n",
    "                  palette = \"muted\")\n",
    "g.set_xticklabels(g.get_xticklabels(), rotation=90, ha=\"right\")\n",
    "plt.title('Cantidad de App por Categorias', size = 20)\n",
    "plt.xlabel(\"Categoria\", size = 20)\n",
    "plt.ylabel(\"Cantidades\", size = 20)\n",
    "plt.show()"
   ]
  },
  {
   "cell_type": "markdown",
   "metadata": {
    "colab_type": "text",
    "id": "DY6pkSoIhr5c"
   },
   "source": [
    "# 3) Categoria vs Rating"
   ]
  },
  {
   "cell_type": "code",
   "execution_count": null,
   "metadata": {
    "colab": {},
    "colab_type": "code",
    "id": "rYN67Js3hr5d",
    "outputId": "a279aa3f-f3a0-4733-ff9e-ca310399e6bb",
    "scrolled": false
   },
   "outputs": [],
   "source": [
    "# Todas las categorias\n",
    "g = sns.catplot(data=google_df,\n",
    "                x=\"Category\",y=\"Rating\", \n",
    "                kind=\"box\",\n",
    "                order=idx_top,\n",
    "                palette = \"muted\",\n",
    "                height = 5 ,aspect=3)\n",
    "\n",
    "g.despine(left=True) # Para quitar linea del Y del plot\n",
    "g.set_xticklabels(rotation=90)\n",
    "plt.xlabel(\"Categoria\",size = 20)\n",
    "plt.ylabel(\"Rating\",size = 20)\n",
    "plt.title('Boxplot de Rating VS Categorias',size = 20)\n",
    "plt.show()"
   ]
  },
  {
   "cell_type": "markdown",
   "metadata": {
    "colab_type": "text",
    "id": "xHHM8In3hr5g"
   },
   "source": [
    "## Mediana, Q1-Q3, whiskers y  outliers \n",
    "En algunas ocaciones, luego de ver los plots vamos a querer guardar en variables valores como la media, los valores atipicos y los \"whiskers\" para cada categoria.\n",
    "\n",
    "A modo de ejemplo, veamos como obtenerlos para una unica categoria."
   ]
  },
  {
   "cell_type": "code",
   "execution_count": null,
   "metadata": {
    "colab": {},
    "colab_type": "code",
    "id": "rd091jDbhr5g",
    "outputId": "6efb1180-880a-4d40-8a71-8328ab0ea1d9"
   },
   "outputs": [],
   "source": [
    "cat_select = 'LIFESTYLE'\n",
    "df_pivot = google_df[google_df['Category']==cat_select]\n",
    "plt.figure()\n",
    "bxplot = plt.boxplot(df_pivot['Rating'])\n",
    "#bxplot = plt.boxplot(df_pivot['Rating'],whis=[15, 82])\n",
    "plt.show()"
   ]
  },
  {
   "cell_type": "code",
   "execution_count": null,
   "metadata": {
    "colab": {},
    "colab_type": "code",
    "id": "BoCdh6fohr5j"
   },
   "outputs": [],
   "source": [
    "# Mediana\n",
    "medians = bxplot[\"medians\"][0].get_ydata()\n",
    "\n",
    "# Marcas de Boxplot\n",
    "low_limits = bxplot[\"whiskers\"][0].get_ydata()\n",
    "up_limits = bxplot[\"whiskers\"][1].get_ydata()\n",
    "\n",
    "# Valores Q1 - Q3\n",
    "Q1 =  low_limits[0]\n",
    "Q3 =  up_limits[0]\n",
    "\n",
    "# whiskers: Valores extremos de las lineas que salen del intervalo [Q1-Q3]\n",
    "low_whiskers =  low_limits[1]\n",
    "up_whiskers = up_limits[1]\n",
    "\n",
    "# Outliers = fliers: Valores mas alla de los whiskers \n",
    "outliers = bxplot[\"fliers\"][0].get_ydata()"
   ]
  },
  {
   "cell_type": "code",
   "execution_count": null,
   "metadata": {
    "colab": {},
    "colab_type": "code",
    "id": "1G7xw2arhr5m",
    "outputId": "a95018aa-9a0c-4b2f-9d45-a8b2c9b2a246"
   },
   "outputs": [],
   "source": [
    "print(f'Valor Mediana:\\r\\n {medians[0]}\\r\\n')\n",
    "print(f'[Q1 - Q3] : [{Q1} - {Q3}]\\r\\n')\n",
    "print(f'[Inferior  - Superior]: [{low_whiskers} - {up_whiskers}] \\r\\n')\n",
    "print(f'Valores outliers:\\r\\n{outliers}\\r\\n')"
   ]
  },
  {
   "cell_type": "markdown",
   "metadata": {
    "colab_type": "text",
    "id": "jbDjdGmLhr5p"
   },
   "source": [
    "# 4) Reviews"
   ]
  },
  {
   "cell_type": "code",
   "execution_count": null,
   "metadata": {
    "colab": {},
    "colab_type": "code",
    "id": "zi7Rlhwehr5q",
    "outputId": "5709ce40-b292-4f85-c9ab-d5ebc13febdf",
    "scrolled": false
   },
   "outputs": [],
   "source": [
    "# En este segundo plot vamos a ver el histograma de la cantidad de reviews.\n",
    "# El parametro bins define la cantidad de sub-intervalos en los que vamos a dividir el eje-x\n",
    "plt.figure(figsize=(20,6))\n",
    "plt.hist(google_df['Reviews'], bins=100,color='g' ,alpha=0.5)\n",
    "plt.xlabel(\"Reviews\",size = 20)\n",
    "plt.ylabel(\"Cantidades\",size = 20)\n",
    "plt.show()"
   ]
  },
  {
   "cell_type": "markdown",
   "metadata": {
    "colab_type": "text",
    "id": "dLvJQc6ahr5s"
   },
   "source": [
    "**Este ultimo grafico nos da alguna informacion?**\n",
    "\n",
    "Muchas veces los graficos parecen que no nos muestran nada.\n",
    "\n",
    "En los casos donde tenemos muchas informacion concentrada, una buena practica es hacer un cambio de escala."
   ]
  },
  {
   "cell_type": "code",
   "execution_count": null,
   "metadata": {
    "colab": {},
    "colab_type": "code",
    "id": "-rnL7QxMhr5t",
    "outputId": "b050c898-0d9f-49b8-d5b2-2eab3d3b5588",
    "scrolled": true
   },
   "outputs": [],
   "source": [
    "plt.figure(figsize=(20,6))\n",
    "plt.hist(np.log(1+google_df.Reviews),bins=100, color='g' ,alpha=0.5)\n",
    "plt.xlabel(\"Log(Reviews)\",size = 20)\n",
    "plt.ylabel(\"Cantidades\",size = 20)\n",
    "plt.show()"
   ]
  },
  {
   "cell_type": "markdown",
   "metadata": {
    "colab_type": "text",
    "id": "f0rr48u8hr5w"
   },
   "source": [
    "Ahora podemos ver mejor como se distribuyen las cantidades de reviews ...\n",
    "\n",
    "Alla en el fondo, donde antes no veiamos nada, ahora podemos ver que hay un par de apps con muchisimos reviews...\n",
    "veamos cuales son ..."
   ]
  },
  {
   "cell_type": "code",
   "execution_count": null,
   "metadata": {
    "colab": {},
    "colab_type": "code",
    "id": "ouL_tKTlhr5w",
    "outputId": "eef5e9ab-2175-4144-8bb6-d260ef9f7fce",
    "scrolled": false
   },
   "outputs": [],
   "source": [
    "google_df[google_df.Reviews > 5000000].head()"
   ]
  },
  {
   "cell_type": "markdown",
   "metadata": {
    "colab_type": "text",
    "id": "3KSapDTrhr50"
   },
   "source": [
    "**Habra alguna relacion entre los \"Reviews\" y alguna otra variable?**"
   ]
  },
  {
   "cell_type": "code",
   "execution_count": null,
   "metadata": {
    "colab": {},
    "colab_type": "code",
    "id": "Twd8wFF-hr50",
    "outputId": "c9a9821b-ba22-4215-8a00-58a5b27d4ea9"
   },
   "outputs": [],
   "source": [
    "corrmat = google_df.corr()\n",
    "\n",
    "f, ax = plt.subplots(figsize=(12, 9))\n",
    "ax = sns.heatmap(corrmat,\n",
    "               annot=True,\n",
    "               cmap=sns.diverging_palette(240, 10, as_cmap=True))"
   ]
  },
  {
   "cell_type": "markdown",
   "metadata": {
    "colab_type": "text",
    "id": "98WMlAQkhr54"
   },
   "source": [
    "**Tiene sentido?**"
   ]
  },
  {
   "cell_type": "markdown",
   "metadata": {
    "colab_type": "text",
    "id": "dZAWUp5Ihr54"
   },
   "source": [
    "# 5) Precio"
   ]
  },
  {
   "cell_type": "markdown",
   "metadata": {
    "colab_type": "text",
    "id": "A-H_suvWhr55"
   },
   "source": [
    "Tenemos a nuestra disposicion tambien los precios de las Apps, asi que vamos a usarlos!\n",
    "\n",
    "* Estadistica descriptiva que nos da [**.describe( )**](https://pandas.pydata.org/pandas-docs/stable/reference/api/pandas.DataFrame.describe.html) y si algo nos llama la atencion, explorarlo y si hace falta corregirlo.\n",
    "\n",
    "\n",
    "* Vamos a armar a criterio nuestro categorias de precio de las apps.\n",
    "\n",
    "\n",
    "* Crucemos informacion entre las categorias de precio Precio y Rating, y saquemos conclusiones."
   ]
  },
  {
   "cell_type": "code",
   "execution_count": null,
   "metadata": {
    "colab": {},
    "colab_type": "code",
    "id": "E8slCUohiNFS",
    "outputId": "ac6fbf54-325a-43f1-f4d7-de761d28a0e3",
    "scrolled": true
   },
   "outputs": [],
   "source": [
    "google_df['Price'].describe()"
   ]
  },
  {
   "cell_type": "markdown",
   "metadata": {
    "colab_type": "text",
    "id": "mnZJiVFPhr6A"
   },
   "source": [
    "**Hay una app que cuesta USD 400!!**"
   ]
  },
  {
   "cell_type": "code",
   "execution_count": null,
   "metadata": {
    "colab": {},
    "colab_type": "code",
    "id": "FYNVYZcwhr6B",
    "outputId": "28424032-b835-4013-eba7-bf844b0055f4",
    "scrolled": true
   },
   "outputs": [],
   "source": [
    "google_df[google_df['Price'] == 400]"
   ]
  },
  {
   "cell_type": "markdown",
   "metadata": {
    "colab_type": "text",
    "id": "4k-0iiYBhr6F"
   },
   "source": [
    "**Ahora armemos a nuestro gusto brands segun los precios y veamos como se distribuyen**"
   ]
  },
  {
   "cell_type": "code",
   "execution_count": null,
   "metadata": {
    "colab": {},
    "colab_type": "code",
    "id": "195CywCPhr6F"
   },
   "outputs": [],
   "source": [
    "#Primero defininmos los limites de cada categoria y creamos la columna 'PriceBand'\n",
    "\n",
    "google_df.loc[ google_df['Price'] == 0, 'PriceBand'] = '0 Free'\n",
    "google_df.loc[(google_df['Price'] > 0) & (google_df['Price'] <= 0.99), 'PriceBand'] = '1 Muy Barato'\n",
    "google_df.loc[(google_df['Price'] > 0.99) & (google_df['Price'] <= 2.99), 'PriceBand']   = '2 Barato'\n",
    "google_df.loc[(google_df['Price'] > 2.99) & (google_df['Price'] <= 4.99), 'PriceBand']   = '3 Normal'\n",
    "google_df.loc[(google_df['Price'] > 4.99) & (google_df['Price'] <= 14.99), 'PriceBand']   = '4 Caro'\n",
    "google_df.loc[(google_df['Price'] > 14.99) & (google_df['Price'] <= 29.99), 'PriceBand']   = '5 Muy Caro'\n",
    "google_df.loc[(google_df['Price'] > 29.99), 'PriceBand']  = '6 #VamoACalmarnos'"
   ]
  },
  {
   "cell_type": "code",
   "execution_count": null,
   "metadata": {},
   "outputs": [],
   "source": [
    "# Veamos si se creo la columna ...\n",
    "google_df.head()"
   ]
  },
  {
   "cell_type": "markdown",
   "metadata": {},
   "source": [
    "Nota: \n",
    "\n",
    "**df.loc()** filtra por labels (y por eso se pueden usar 'nombres' de columna/filas) mientras que **df.iloc()** es como usar arrays (e.g.,  [ 0:2, 3:-1] )\n",
    "\n",
    "Se recomienda leer y entender la diferencia entre los metodos ya que probablemente los usen continuamente.\n",
    "* [**df.loc( )**](https://pandas.pydata.org/docs/reference/api/pandas.DataFrame.loc.html)\n",
    "* [**df.iloc( )**](https://pandas.pydata.org/docs/reference/api/pandas.DataFrame.iloc.html)"
   ]
  },
  {
   "cell_type": "code",
   "execution_count": null,
   "metadata": {
    "colab": {},
    "colab_type": "code",
    "id": "_j1QQI1Jhr6I",
    "outputId": "46bb08f1-4cc9-471f-9752-7c91ba86b211",
    "scrolled": true
   },
   "outputs": [],
   "source": [
    "#Veamos como es el mean value para las bandas que definimos\n",
    "google_df[['PriceBand', 'Rating']].groupby(['PriceBand'], as_index=False).mean()"
   ]
  },
  {
   "cell_type": "code",
   "execution_count": null,
   "metadata": {
    "colab": {},
    "colab_type": "code",
    "id": "72kQ0qgrhr6N",
    "outputId": "2acfcef1-f47b-43ff-a4dd-f5862c71f783",
    "scrolled": false
   },
   "outputs": [],
   "source": [
    "# Ahora en vez de utilizar 'box'(boxplot)\n",
    "# ingresaremos 'boxen' al argumento 'kind' de la funcion 'catplot'\n",
    "g = sns.catplot(data=google_df,\n",
    "                x=\"PriceBand\", y=\"Rating\", \n",
    "                kind=\"boxen\", # box , violin\n",
    "                height = 5,aspect=3 ,palette = \"muted\")\n",
    "g.despine(left=True)\n",
    "g.set_xticklabels(rotation=90)\n",
    "g = g.set_ylabels(\"Rating\")\n",
    "plt.title('Boxen plot Rating VS PriceBand',size = 20)\n",
    "plt.show()"
   ]
  },
  {
   "cell_type": "markdown",
   "metadata": {
    "colab_type": "text",
    "id": "KS60cAd-hr6Q"
   },
   "source": [
    "Para bases de datos muy grandes, muchas veces los limites de confiabilidad del boxplot por defecto consideran erroneamente \"outliers\" a muestras con muy baja probabilidad, que si deberian considerarse como parte del espacio de muestra.\n",
    "\n",
    "Ademas, el \"boxplot\" no deja visualizar como se distribuyen de muestras en los extremos.\n",
    "\n",
    "Si creemos que alguno de estos factores, entre otros, nos puede estar sucediendo y nos esconde informacion que creemos relevante mostrar, lo mejor es probar con algun otro tipo de ploteo ([boxen](https://vita.had.co.nz/papers/letter-value-plot.pdf) o  \"violin\")."
   ]
  },
  {
   "cell_type": "markdown",
   "metadata": {},
   "source": [
    "**Preguntas ? ?**"
   ]
  },
  {
   "cell_type": "markdown",
   "metadata": {
    "colab_type": "text",
    "id": "yNlsY7oBhr6R"
   },
   "source": [
    "# Propuesta\n",
    "    \n",
    "    a. Apps Pagas vs Apps Free\n",
    "    \n",
    "    b. Content Rating (Everyone, Teen, +18, etc)\n",
    "         Hint: google_df['Genres'] = google_df['Genres'].str.split(';').str[0]\n",
    "         \n",
    "    c. Genres vs Rating\n",
    "    \n",
    "    d. Genres (Estadistica descriptiva w.r.t , i.e, \"Rating\")\n",
    "    \n",
    "    e. Mismo analisis, pero en vez de reemplazar Varies with device por la media de w.r.t. categoria, \n",
    "    eliminando los registros y ver si el supuesto que hicimos impacta en los resultados. "
   ]
  }
 ],
 "metadata": {
  "colab": {
   "collapsed_sections": [],
   "name": "clusterai_2020_clase01_EDA_google_play_store.ipynb",
   "provenance": [
    {
     "file_id": "1h80uh-WLmCat_GdzGdh_jFXo_QD2blT1",
     "timestamp": 1532902915080
    }
   ]
  },
  "kernelspec": {
   "display_name": "Python [conda env:PhD] *",
   "language": "python",
   "name": "conda-env-PhD-py"
  },
  "language_info": {
   "codemirror_mode": {
    "name": "ipython",
    "version": 3
   },
   "file_extension": ".py",
   "mimetype": "text/x-python",
   "name": "python",
   "nbconvert_exporter": "python",
   "pygments_lexer": "ipython3",
   "version": "3.9.6"
  },
  "latex_envs": {
   "LaTeX_envs_menu_present": true,
   "autoclose": false,
   "autocomplete": true,
   "bibliofile": "biblio.bib",
   "cite_by": "apalike",
   "current_citInitial": 1,
   "eqLabelWithNumbers": true,
   "eqNumInitial": 1,
   "hotkeys": {
    "equation": "Ctrl-E",
    "itemize": "Ctrl-I"
   },
   "labels_anchors": false,
   "latex_user_defs": false,
   "report_style_numbering": false,
   "user_envs_cfg": false
  },
  "toc": {
   "base_numbering": 1,
   "nav_menu": {},
   "number_sections": false,
   "sideBar": true,
   "skip_h1_title": false,
   "title_cell": "Table of Contents",
   "title_sidebar": "Contents",
   "toc_cell": false,
   "toc_position": {
    "height": "calc(100% - 180px)",
    "left": "10px",
    "top": "150px",
    "width": "165px"
   },
   "toc_section_display": true,
   "toc_window_display": true
  },
  "vscode": {
   "interpreter": {
    "hash": "4c3760444b418b510111f445cc2c46200fe77d738ac8bb8298f5c5cbe546de8e"
   }
  }
 },
 "nbformat": 4,
 "nbformat_minor": 1
}
