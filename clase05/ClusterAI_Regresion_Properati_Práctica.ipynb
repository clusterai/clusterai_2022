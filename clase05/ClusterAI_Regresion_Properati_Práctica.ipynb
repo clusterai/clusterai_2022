{
 "cells": [
  {
   "cell_type": "markdown",
   "id": "flexible-spouse",
   "metadata": {},
   "source": [
    "# Ejercicio de Regresion"
   ]
  },
  {
   "cell_type": "code",
   "execution_count": null,
   "id": "adjusted-estonia",
   "metadata": {},
   "outputs": [],
   "source": []
  },
  {
   "cell_type": "code",
   "execution_count": 2,
   "id": "excess-management",
   "metadata": {},
   "outputs": [],
   "source": [
    "# Data Manipulation\n",
    "import numpy as np\n",
    "import pandas as pd\n",
    "from scipy import stats\n",
    "from scipy.stats import norm, skew \n",
    "\n",
    "# Visualization\n",
    "import matplotlib.pyplot as plt\n",
    "import seaborn as sns\n",
    "plt.style.use('seaborn-whitegrid')\n",
    "\n",
    "#GoogleColab\n",
    "#from google.colab import files\n",
    "\n",
    "#MachineLearning\n",
    "from sklearn import ensemble, tree, linear_model\n",
    "from sklearn.model_selection import train_test_split, cross_val_score\n",
    "from sklearn.metrics import r2_score, mean_squared_error\n",
    "from sklearn.utils import shuffle\n",
    "from sklearn.model_selection import cross_val_score, train_test_split\n",
    "from sklearn.preprocessing import StandardScaler\n",
    "from sklearn import preprocessing\n",
    "from sklearn.preprocessing import LabelEncoder\n",
    "from sklearn.linear_model import LinearRegression, RidgeCV, LassoCV, ElasticNetCV\n",
    "from sklearn.svm import SVR, LinearSVR\n",
    "from sklearn.neighbors import KNeighborsRegressor\n",
    "from sklearn.metrics import mean_squared_error, make_scorer\n",
    "from sklearn.model_selection import GridSearchCV\n",
    "from sklearn.ensemble import RandomForestRegressor"
   ]
  },
  {
   "cell_type": "code",
   "execution_count": 4,
   "id": "medium-sessions",
   "metadata": {},
   "outputs": [],
   "source": [
    " prop = pd.read_csv(r\"C:\\Users\\santi\\OneDrive\\Escritorio\\Santi Documentos Viejo\\Facultad UTN\\5° Año\\Ciencia de datos\\Data sets\\dataset_properati_caba.csv\",delimiter=',')"
   ]
  },
  {
   "cell_type": "code",
   "execution_count": 5,
   "id": "reasonable-platinum",
   "metadata": {},
   "outputs": [
    {
     "data": {
      "text/html": [
       "<div>\n",
       "<style scoped>\n",
       "    .dataframe tbody tr th:only-of-type {\n",
       "        vertical-align: middle;\n",
       "    }\n",
       "\n",
       "    .dataframe tbody tr th {\n",
       "        vertical-align: top;\n",
       "    }\n",
       "\n",
       "    .dataframe thead th {\n",
       "        text-align: right;\n",
       "    }\n",
       "</style>\n",
       "<table border=\"1\" class=\"dataframe\">\n",
       "  <thead>\n",
       "    <tr style=\"text-align: right;\">\n",
       "      <th></th>\n",
       "      <th>id</th>\n",
       "      <th>created_on</th>\n",
       "      <th>operation</th>\n",
       "      <th>property_type</th>\n",
       "      <th>neighbourhood</th>\n",
       "      <th>lat</th>\n",
       "      <th>lon</th>\n",
       "      <th>price</th>\n",
       "      <th>surface_total_in_m2</th>\n",
       "      <th>surface_covered_in_m2</th>\n",
       "      <th>floor</th>\n",
       "      <th>rooms</th>\n",
       "      <th>expenses</th>\n",
       "    </tr>\n",
       "  </thead>\n",
       "  <tbody>\n",
       "    <tr>\n",
       "      <th>0</th>\n",
       "      <td>1649a3c35359d681abae4a63d9a8545054d2096b</td>\n",
       "      <td>2017-09-22</td>\n",
       "      <td>sell</td>\n",
       "      <td>house</td>\n",
       "      <td>Palermo Viejo</td>\n",
       "      <td>-34.588953</td>\n",
       "      <td>-58.429882</td>\n",
       "      <td>2000000.0</td>\n",
       "      <td>312.0</td>\n",
       "      <td>NaN</td>\n",
       "      <td>NaN</td>\n",
       "      <td>NaN</td>\n",
       "      <td>NaN</td>\n",
       "    </tr>\n",
       "    <tr>\n",
       "      <th>1</th>\n",
       "      <td>1ab035ccbe77702987c3f09850d12c634e612aa2</td>\n",
       "      <td>2017-09-01</td>\n",
       "      <td>sell</td>\n",
       "      <td>PH</td>\n",
       "      <td>Parque Chacabuco</td>\n",
       "      <td>-34.635866</td>\n",
       "      <td>-58.431048</td>\n",
       "      <td>131500.0</td>\n",
       "      <td>80.0</td>\n",
       "      <td>50.0</td>\n",
       "      <td>NaN</td>\n",
       "      <td>3.0</td>\n",
       "      <td>NaN</td>\n",
       "    </tr>\n",
       "    <tr>\n",
       "      <th>2</th>\n",
       "      <td>90fc7c61b6fbc6ef99368a21cd9ac0d30d54c697</td>\n",
       "      <td>2017-09-01</td>\n",
       "      <td>sell</td>\n",
       "      <td>apartment</td>\n",
       "      <td>Barracas</td>\n",
       "      <td>-34.644924</td>\n",
       "      <td>-58.371919</td>\n",
       "      <td>140000.0</td>\n",
       "      <td>125.0</td>\n",
       "      <td>85.0</td>\n",
       "      <td>NaN</td>\n",
       "      <td>NaN</td>\n",
       "      <td>NaN</td>\n",
       "    </tr>\n",
       "    <tr>\n",
       "      <th>3</th>\n",
       "      <td>c195e8f3a596ab49b95d699c07e1a04be503ba68</td>\n",
       "      <td>2017-09-01</td>\n",
       "      <td>sell</td>\n",
       "      <td>apartment</td>\n",
       "      <td>Recoleta</td>\n",
       "      <td>-34.596511</td>\n",
       "      <td>-58.385747</td>\n",
       "      <td>109000.0</td>\n",
       "      <td>45.0</td>\n",
       "      <td>45.0</td>\n",
       "      <td>2.0</td>\n",
       "      <td>2.0</td>\n",
       "      <td>3350.0</td>\n",
       "    </tr>\n",
       "    <tr>\n",
       "      <th>4</th>\n",
       "      <td>f891875ff44e6f99e30e101b3901d1e7510ef41b</td>\n",
       "      <td>2017-09-01</td>\n",
       "      <td>sell</td>\n",
       "      <td>apartment</td>\n",
       "      <td>Parque Patricios</td>\n",
       "      <td>-34.639173</td>\n",
       "      <td>-58.417069</td>\n",
       "      <td>94000.0</td>\n",
       "      <td>38.0</td>\n",
       "      <td>38.0</td>\n",
       "      <td>NaN</td>\n",
       "      <td>NaN</td>\n",
       "      <td>NaN</td>\n",
       "    </tr>\n",
       "  </tbody>\n",
       "</table>\n",
       "</div>"
      ],
      "text/plain": [
       "                                         id  created_on operation  \\\n",
       "0  1649a3c35359d681abae4a63d9a8545054d2096b  2017-09-22      sell   \n",
       "1  1ab035ccbe77702987c3f09850d12c634e612aa2  2017-09-01      sell   \n",
       "2  90fc7c61b6fbc6ef99368a21cd9ac0d30d54c697  2017-09-01      sell   \n",
       "3  c195e8f3a596ab49b95d699c07e1a04be503ba68  2017-09-01      sell   \n",
       "4  f891875ff44e6f99e30e101b3901d1e7510ef41b  2017-09-01      sell   \n",
       "\n",
       "  property_type     neighbourhood        lat        lon      price  \\\n",
       "0         house     Palermo Viejo -34.588953 -58.429882  2000000.0   \n",
       "1            PH  Parque Chacabuco -34.635866 -58.431048   131500.0   \n",
       "2     apartment          Barracas -34.644924 -58.371919   140000.0   \n",
       "3     apartment          Recoleta -34.596511 -58.385747   109000.0   \n",
       "4     apartment  Parque Patricios -34.639173 -58.417069    94000.0   \n",
       "\n",
       "   surface_total_in_m2  surface_covered_in_m2  floor  rooms  expenses  \n",
       "0                312.0                    NaN    NaN    NaN       NaN  \n",
       "1                 80.0                   50.0    NaN    3.0       NaN  \n",
       "2                125.0                   85.0    NaN    NaN       NaN  \n",
       "3                 45.0                   45.0    2.0    2.0    3350.0  \n",
       "4                 38.0                   38.0    NaN    NaN       NaN  "
      ]
     },
     "execution_count": 5,
     "metadata": {},
     "output_type": "execute_result"
    }
   ],
   "source": [
    "prop.head()"
   ]
  },
  {
   "cell_type": "code",
   "execution_count": 6,
   "id": "blessed-vegetable",
   "metadata": {},
   "outputs": [],
   "source": [
    "#Imprimir las dimensiones del dataset\n",
    "\n",
    "#code"
   ]
  },
  {
   "cell_type": "code",
   "execution_count": 7,
   "id": "underlying-creek",
   "metadata": {},
   "outputs": [],
   "source": [
    "#sumar la cantidad de nulos por columna\n",
    "\n",
    "#code"
   ]
  },
  {
   "cell_type": "code",
   "execution_count": null,
   "id": "legendary-clinic",
   "metadata": {},
   "outputs": [],
   "source": [
    "total = prop.isnull().sum().sort_values(ascending=False)\n",
    "porcentaje = (prop.isnull().sum()/prop.isnull().count()).sort_values(ascending=False)\n",
    "missing_data = pd.concat([total, porcentaje], axis=1, keys=['Total', 'Porcentaje'])\n",
    "missing_data"
   ]
  },
  {
   "cell_type": "code",
   "execution_count": null,
   "id": "cubic-posting",
   "metadata": {},
   "outputs": [],
   "source": [
    "#Vemos los distintos valores que puede tomar la variable \"operation\"\n",
    "prop.operation.unique()"
   ]
  },
  {
   "cell_type": "code",
   "execution_count": null,
   "id": "precious-investment",
   "metadata": {},
   "outputs": [],
   "source": [
    "#Eliminar los registros nans de la variable price\n",
    "\n",
    "#code"
   ]
  },
  {
   "cell_type": "code",
   "execution_count": null,
   "id": "posted-burden",
   "metadata": {},
   "outputs": [],
   "source": [
    "#Corroborar que se hayan eliminado correctamente\n",
    "\n",
    "#code"
   ]
  },
  {
   "cell_type": "code",
   "execution_count": null,
   "id": "roman-marker",
   "metadata": {},
   "outputs": [],
   "source": [
    "prop.describe()"
   ]
  },
  {
   "cell_type": "code",
   "execution_count": null,
   "id": "impressed-armenia",
   "metadata": {},
   "outputs": [],
   "source": [
    "#Plot Precio\n",
    "sns.kdeplot(prop.price, color=\"b\", shade = True)\n",
    "plt.xlabel(\"Price\")\n",
    "plt.title('Distribucion de Precio',size = 20)\n",
    "plt.show()\n"
   ]
  },
  {
   "cell_type": "code",
   "execution_count": null,
   "id": "retired-blind",
   "metadata": {},
   "outputs": [],
   "source": [
    "#Filtraremos el dataset por un quantile determinado de la variable price para eliminar los outliers\n",
    "price_quantile = ##code\n",
    "prop = ##code"
   ]
  },
  {
   "cell_type": "code",
   "execution_count": null,
   "id": "mechanical-circular",
   "metadata": {},
   "outputs": [],
   "source": [
    "##Dist Plot de Price y con una normal fiteada\n",
    "sns.distplot(prop['price'] , fit=norm)\n",
    "(mu, sigma) = norm.fit(prop['price'])\n",
    "print( '\\n mu = {:.2f} and sigma = {:.2f}\\n'.format(mu, sigma))\n",
    "plt.legend(['Normal dist. ($\\mu=$ {:.2f} and $\\sigma=$ {:.2f} )'.format(mu, sigma)],\n",
    "            loc='best')\n",
    "plt.ylabel('Frequency')\n",
    "plt.title('Price distribution')"
   ]
  },
  {
   "cell_type": "code",
   "execution_count": null,
   "id": "delayed-coupon",
   "metadata": {},
   "outputs": [],
   "source": [
    "prop.property_type.value_counts()"
   ]
  },
  {
   "cell_type": "code",
   "execution_count": null,
   "id": "million-bathroom",
   "metadata": {},
   "outputs": [],
   "source": [
    "prop.neighbourhood.value_counts()"
   ]
  },
  {
   "cell_type": "code",
   "execution_count": null,
   "id": "sharp-wheel",
   "metadata": {},
   "outputs": [],
   "source": [
    "top5_neigh = [\"Palermo\", \"Belgrano\", \"Caballito\", \"Recoleta\", \"Villa Crespo\"]\n",
    "prop_top_neigh = prop[prop[\"neighbourhood\"].isin(top5_neigh)]\n",
    "#prop_top_neigh.head(10)"
   ]
  },
  {
   "cell_type": "code",
   "execution_count": null,
   "id": "straight-fetish",
   "metadata": {},
   "outputs": [],
   "source": [
    "#Count Plot de los 5 barrios con mayor cantidad de hogares en venta\n",
    "\n",
    "plt.figure(figsize=(15,3))\n",
    "g = sns.countplot(x='neighbourhood',data=prop, palette = \"muted\",order=top5_neigh)\n",
    "g.set_xticklabels(g.get_xticklabels(), rotation=90, ha=\"right\")\n",
    "plt.title('Cuenta por Barrio',size = 20)\n",
    "plt.xlabel(\"Barrio\")\n",
    "plt.ylabel(\"Count\")\n",
    "plt.show()\n",
    "\n",
    "\n",
    "#Box Plot del precio de los hogares en función del barrio\n",
    "\n",
    "g = sns.catplot(x=\"neighbourhood\",y='price',data=prop_top_neigh, kind=\"box\", height = 5,aspect=3 ,palette = \"muted\")\n",
    "g.despine(left=True)\n",
    "g.set_xticklabels(rotation=90)\n",
    "g = g.set_ylabels(\"price\")\n",
    "plt.title('Box plot Barrio VS Price',size = 20)\n",
    "plt.show()"
   ]
  },
  {
   "cell_type": "code",
   "execution_count": null,
   "id": "confirmed-bermuda",
   "metadata": {},
   "outputs": [],
   "source": [
    "#Count Plot de los tipo de hogares en venta\n",
    "\n",
    "#code\n",
    "#code\n",
    "#code\n",
    "#code\n",
    "#code\n",
    "#code\n",
    "\n",
    "#Box Plot del precio de los hogares en función del tipo de casa\n",
    "\n",
    "#code\n",
    "#code\n",
    "#code\n",
    "#code\n",
    "#code\n",
    "#code\n",
    "#code"
   ]
  },
  {
   "cell_type": "code",
   "execution_count": null,
   "id": "occupied-receiver",
   "metadata": {},
   "outputs": [],
   "source": [
    "#Imprimir la matriz de correlación para ver si existe correlaciones entre las variables \n",
    "\n",
    "#code\n",
    "#code"
   ]
  },
  {
   "cell_type": "code",
   "execution_count": null,
   "id": "particular-spain",
   "metadata": {},
   "outputs": [],
   "source": [
    "#Imputacion de Missings:\n",
    "# Para las variables surface_total_in_m2 y surface_covered_in_m2 imputarlas con la media\n",
    "# Para la variable rooms imputarla con la mediana\n",
    "\n",
    "#code\n",
    "#code\n",
    "#code"
   ]
  },
  {
   "cell_type": "code",
   "execution_count": null,
   "id": "healthy-paraguay",
   "metadata": {},
   "outputs": [],
   "source": [
    "prop.loc[(prop['expenses'].isnull()) & (prop[\"property_type\"]==\"house\"), \"expenses\"] = 0\n",
    "prop['expenses'].fillna(prop['expenses'].mean(), inplace = True)"
   ]
  },
  {
   "cell_type": "code",
   "execution_count": null,
   "id": "blank-state",
   "metadata": {},
   "outputs": [],
   "source": [
    "#Verificar que se imputaron los nans\n",
    "\n",
    "#code"
   ]
  },
  {
   "cell_type": "code",
   "execution_count": null,
   "id": "living-royal",
   "metadata": {},
   "outputs": [],
   "source": [
    "prop = prop.drop(['id', 'created_on', 'operation', 'lat', 'lon', 'floor'], axis=1)"
   ]
  },
  {
   "cell_type": "code",
   "execution_count": null,
   "id": "former-zoning",
   "metadata": {},
   "outputs": [],
   "source": [
    "prop.head()"
   ]
  },
  {
   "cell_type": "code",
   "execution_count": null,
   "id": "delayed-suicide",
   "metadata": {},
   "outputs": [],
   "source": [
    "y = np.array(prop[[\"price\"]])"
   ]
  },
  {
   "cell_type": "code",
   "execution_count": null,
   "id": "frank-diving",
   "metadata": {},
   "outputs": [],
   "source": [
    "x = prop.drop(['price'], axis=1)"
   ]
  },
  {
   "cell_type": "code",
   "execution_count": null,
   "id": "opening-paint",
   "metadata": {},
   "outputs": [],
   "source": [
    "#Armar las dummies para las variables categoricas\n",
    "\n",
    "#code"
   ]
  },
  {
   "cell_type": "code",
   "execution_count": null,
   "id": "egyptian-mistake",
   "metadata": {},
   "outputs": [],
   "source": [
    "x.shape"
   ]
  },
  {
   "cell_type": "code",
   "execution_count": null,
   "id": "arranged-drawing",
   "metadata": {},
   "outputs": [],
   "source": [
    "xtrain, xtest, ytrain, ytest = train_test_split(x, y, test_size=0.20, random_state=42)"
   ]
  },
  {
   "cell_type": "code",
   "execution_count": null,
   "id": "driving-guess",
   "metadata": {},
   "outputs": [],
   "source": [
    "#Escalar las variables\n",
    "\n",
    "scaler = preprocessing.StandardScaler().fit(xtrain)\n",
    "xtrain_scal = scaler.transform(xtrain)\n",
    "xtest_scal = scaler.transform(xtest)"
   ]
  },
  {
   "cell_type": "markdown",
   "id": "distributed-moderator",
   "metadata": {},
   "source": [
    "## KNN Regressor"
   ]
  },
  {
   "cell_type": "code",
   "execution_count": null,
   "id": "collaborative-extension",
   "metadata": {},
   "outputs": [],
   "source": [
    "knn = KNeighborsRegressor(weights = \"distance\")\n",
    "parameters_k = np.arange(20,41,5)\n",
    "parameters_knn = [{'n_neighbors': parameters_k}]"
   ]
  },
  {
   "cell_type": "code",
   "execution_count": null,
   "id": "ceramic-klein",
   "metadata": {},
   "outputs": [],
   "source": [
    "#Inicializar GridSearchCV con los paramentros dados y cv=5\n",
    "\n",
    "#code"
   ]
  },
  {
   "cell_type": "code",
   "execution_count": null,
   "id": "parliamentary-intelligence",
   "metadata": {},
   "outputs": [],
   "source": [
    "regressor_knn.fit(xtrain_scal, ytrain)"
   ]
  },
  {
   "cell_type": "code",
   "execution_count": null,
   "id": "drawn-worse",
   "metadata": {},
   "outputs": [],
   "source": [
    "#Obtener los mejores parámetros\n",
    "\n",
    "#code"
   ]
  },
  {
   "cell_type": "code",
   "execution_count": null,
   "id": "authentic-course",
   "metadata": {},
   "outputs": [],
   "source": [
    "# calcula el R2\n",
    "regressor_knn.best_score_"
   ]
  },
  {
   "cell_type": "code",
   "execution_count": null,
   "id": "opposite-webster",
   "metadata": {},
   "outputs": [],
   "source": [
    "# realizo con mi modelo entrenado, predicciones de Y (ypred) utilizando solo xtest\n",
    "\n",
    "#code"
   ]
  },
  {
   "cell_type": "code",
   "execution_count": null,
   "id": "finnish-variable",
   "metadata": {},
   "outputs": [],
   "source": [
    "np.sqrt(mean_squared_error(ytest, ypred2))"
   ]
  },
  {
   "cell_type": "markdown",
   "id": "unable-mapping",
   "metadata": {},
   "source": [
    "## Support Vector Regressor"
   ]
  },
  {
   "cell_type": "code",
   "execution_count": null,
   "id": "european-thousand",
   "metadata": {},
   "outputs": [],
   "source": [
    "svreg = SVR()\n",
    "param_svreg = {'kernel':('linear', 'rbf'), 'C':[1, 10 ], 'gamma':[ 0.1,1]}"
   ]
  },
  {
   "cell_type": "code",
   "execution_count": null,
   "id": "standard-pressing",
   "metadata": {},
   "outputs": [],
   "source": [
    "#Inicializo el GridSearch\n",
    "regressor_svr = GridSearchCV(svreg, param_svreg, cv=3, verbose=True)"
   ]
  },
  {
   "cell_type": "code",
   "execution_count": null,
   "id": "single-coating",
   "metadata": {},
   "outputs": [],
   "source": [
    "#Entreno al xtrain e y train con el modelo inicializado\n",
    "\n",
    "#code\n",
    "\n",
    "#Aviso Importante -- Este algortimo lleva aprox 10 mins en entrenarse"
   ]
  },
  {
   "cell_type": "code",
   "execution_count": null,
   "id": "sophisticated-colors",
   "metadata": {},
   "outputs": [],
   "source": [
    "#Obtener los mejores parámetros\n",
    "\n",
    "#code"
   ]
  },
  {
   "cell_type": "code",
   "execution_count": null,
   "id": "eligible-enforcement",
   "metadata": {},
   "outputs": [],
   "source": [
    "# calcula el R2\n",
    "regressor_knn.best_score_"
   ]
  },
  {
   "cell_type": "code",
   "execution_count": null,
   "id": "patient-marsh",
   "metadata": {},
   "outputs": [],
   "source": [
    "# realizo con mi modelo entrenado, predicciones de Y (ypred) utilizando solo xtest\n",
    "\n",
    "#code"
   ]
  },
  {
   "cell_type": "code",
   "execution_count": null,
   "id": "conscious-publisher",
   "metadata": {},
   "outputs": [],
   "source": [
    "np.sqrt(mean_squared_error(ytest, ypred2))"
   ]
  },
  {
   "cell_type": "markdown",
   "id": "corporate-disabled",
   "metadata": {},
   "source": [
    "## RandomForest Regressor"
   ]
  },
  {
   "cell_type": "code",
   "execution_count": null,
   "id": "auburn-humanity",
   "metadata": {},
   "outputs": [],
   "source": [
    "#Inicializo el RandomForest\n",
    "\n",
    "rf= RandomForestRegressor()"
   ]
  },
  {
   "cell_type": "code",
   "execution_count": null,
   "id": "virgin-tract",
   "metadata": {},
   "outputs": [],
   "source": [
    "#Seteo los parámetros a entrenar\n",
    "\n",
    "param_trees = {'n_estimators': [50, 200], \n",
    "               'max_features': [0.5, 'sqrt','log2'],  \n",
    "               'min_samples_leaf':[1, 5]}"
   ]
  },
  {
   "cell_type": "code",
   "execution_count": null,
   "id": "leading-aspect",
   "metadata": {},
   "outputs": [],
   "source": [
    "#Inicializo el GridSearchCV \n",
    "\n",
    "#code\n",
    "\n",
    "#Entreno con el GridSearchCV\n",
    "\n",
    "#code"
   ]
  },
  {
   "cell_type": "code",
   "execution_count": null,
   "id": "physical-accounting",
   "metadata": {},
   "outputs": [],
   "source": [
    "#Obtener los mejores parámetros\n",
    "\n",
    "#code"
   ]
  },
  {
   "cell_type": "code",
   "execution_count": null,
   "id": "efficient-pantyhose",
   "metadata": {},
   "outputs": [],
   "source": [
    "# calcula el R2\n",
    "regressor_knn.best_score_"
   ]
  },
  {
   "cell_type": "code",
   "execution_count": null,
   "id": "economic-theta",
   "metadata": {},
   "outputs": [],
   "source": [
    "# realizo con mi modelo entrenado, predicciones de Y (ypred) utilizando solo xtest\n",
    "\n",
    "#code"
   ]
  },
  {
   "cell_type": "code",
   "execution_count": null,
   "id": "graduate-bargain",
   "metadata": {},
   "outputs": [],
   "source": [
    "np.sqrt(mean_squared_error(ytest, ypred2))"
   ]
  },
  {
   "cell_type": "code",
   "execution_count": null,
   "id": "interior-blanket",
   "metadata": {},
   "outputs": [],
   "source": []
  }
 ],
 "metadata": {
  "kernelspec": {
   "display_name": "Python 3",
   "language": "python",
   "name": "python3"
  },
  "language_info": {
   "codemirror_mode": {
    "name": "ipython",
    "version": 3
   },
   "file_extension": ".py",
   "mimetype": "text/x-python",
   "name": "python",
   "nbconvert_exporter": "python",
   "pygments_lexer": "ipython3",
   "version": "3.7.10"
  }
 },
 "nbformat": 4,
 "nbformat_minor": 5
}
