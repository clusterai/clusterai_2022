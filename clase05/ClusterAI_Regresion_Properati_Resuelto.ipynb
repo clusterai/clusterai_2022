{
 "cells": [
  {
   "cell_type": "code",
   "execution_count": 1,
   "metadata": {
    "id": "wvexWAiX6d-E"
   },
   "outputs": [],
   "source": [
    "# Data Manipulation\n",
    "import numpy as np\n",
    "import pandas as pd\n",
    "from scipy import stats\n",
    "from scipy.stats import norm, skew \n",
    "\n",
    "# Visualization\n",
    "import matplotlib.pyplot as plt\n",
    "import seaborn as sns\n",
    "plt.style.use('seaborn-whitegrid')\n",
    "\n",
    "#GoogleColab\n",
    "#from google.colab import files\n",
    "\n",
    "#MachineLearning\n",
    "from sklearn import ensemble, tree, linear_model\n",
    "from sklearn.model_selection import train_test_split, cross_val_score\n",
    "from sklearn.metrics import r2_score, mean_squared_error\n",
    "from sklearn.utils import shuffle\n",
    "from sklearn.model_selection import cross_val_score, train_test_split\n",
    "from sklearn.preprocessing import StandardScaler\n",
    "from sklearn import preprocessing\n",
    "from sklearn.preprocessing import LabelEncoder\n",
    "from sklearn.linear_model import LinearRegression, RidgeCV, LassoCV, ElasticNetCV\n",
    "from sklearn.svm import SVR, LinearSVR\n",
    "from sklearn.neighbors import KNeighborsRegressor\n",
    "from sklearn.metrics import mean_squared_error, make_scorer\n",
    "from sklearn.model_selection import GridSearchCV\n",
    "from sklearn.ensemble import RandomForestRegressor"
   ]
  },
  {
   "cell_type": "code",
   "execution_count": 2,
   "metadata": {
    "id": "6hmS9Yy26u5p"
   },
   "outputs": [],
   "source": [
    "#uploaded = files.upload()\n",
    "#prop = pd.read_csv(\"\")"
   ]
  },
  {
   "cell_type": "code",
   "execution_count": 3,
   "metadata": {
    "id": "osfq5A-m65Sc"
   },
   "outputs": [],
   "source": [
    " prop = pd.read_csv(r\"C:\\Users\\santi\\OneDrive\\Escritorio\\Santi Documentos Viejo\\Facultad UTN\\5° Año\\Ciencia de datos\\Data sets\\dataset_properati_caba.csv\",delimiter=',')"
   ]
  },
  {
   "cell_type": "code",
   "execution_count": 4,
   "metadata": {
    "id": "oobtrixZ7O9h"
   },
   "outputs": [
    {
     "data": {
      "text/html": [
       "<div>\n",
       "<style scoped>\n",
       "    .dataframe tbody tr th:only-of-type {\n",
       "        vertical-align: middle;\n",
       "    }\n",
       "\n",
       "    .dataframe tbody tr th {\n",
       "        vertical-align: top;\n",
       "    }\n",
       "\n",
       "    .dataframe thead th {\n",
       "        text-align: right;\n",
       "    }\n",
       "</style>\n",
       "<table border=\"1\" class=\"dataframe\">\n",
       "  <thead>\n",
       "    <tr style=\"text-align: right;\">\n",
       "      <th></th>\n",
       "      <th>id</th>\n",
       "      <th>created_on</th>\n",
       "      <th>operation</th>\n",
       "      <th>property_type</th>\n",
       "      <th>neighbourhood</th>\n",
       "      <th>lat</th>\n",
       "      <th>lon</th>\n",
       "      <th>price</th>\n",
       "      <th>surface_total_in_m2</th>\n",
       "      <th>surface_covered_in_m2</th>\n",
       "      <th>floor</th>\n",
       "      <th>rooms</th>\n",
       "      <th>expenses</th>\n",
       "    </tr>\n",
       "  </thead>\n",
       "  <tbody>\n",
       "    <tr>\n",
       "      <th>0</th>\n",
       "      <td>1649a3c35359d681abae4a63d9a8545054d2096b</td>\n",
       "      <td>2017-09-22</td>\n",
       "      <td>sell</td>\n",
       "      <td>house</td>\n",
       "      <td>Palermo Viejo</td>\n",
       "      <td>-34.588953</td>\n",
       "      <td>-58.429882</td>\n",
       "      <td>2000000.0</td>\n",
       "      <td>312.0</td>\n",
       "      <td>NaN</td>\n",
       "      <td>NaN</td>\n",
       "      <td>NaN</td>\n",
       "      <td>NaN</td>\n",
       "    </tr>\n",
       "    <tr>\n",
       "      <th>1</th>\n",
       "      <td>1ab035ccbe77702987c3f09850d12c634e612aa2</td>\n",
       "      <td>2017-09-01</td>\n",
       "      <td>sell</td>\n",
       "      <td>PH</td>\n",
       "      <td>Parque Chacabuco</td>\n",
       "      <td>-34.635866</td>\n",
       "      <td>-58.431048</td>\n",
       "      <td>131500.0</td>\n",
       "      <td>80.0</td>\n",
       "      <td>50.0</td>\n",
       "      <td>NaN</td>\n",
       "      <td>3.0</td>\n",
       "      <td>NaN</td>\n",
       "    </tr>\n",
       "    <tr>\n",
       "      <th>2</th>\n",
       "      <td>90fc7c61b6fbc6ef99368a21cd9ac0d30d54c697</td>\n",
       "      <td>2017-09-01</td>\n",
       "      <td>sell</td>\n",
       "      <td>apartment</td>\n",
       "      <td>Barracas</td>\n",
       "      <td>-34.644924</td>\n",
       "      <td>-58.371919</td>\n",
       "      <td>140000.0</td>\n",
       "      <td>125.0</td>\n",
       "      <td>85.0</td>\n",
       "      <td>NaN</td>\n",
       "      <td>NaN</td>\n",
       "      <td>NaN</td>\n",
       "    </tr>\n",
       "    <tr>\n",
       "      <th>3</th>\n",
       "      <td>c195e8f3a596ab49b95d699c07e1a04be503ba68</td>\n",
       "      <td>2017-09-01</td>\n",
       "      <td>sell</td>\n",
       "      <td>apartment</td>\n",
       "      <td>Recoleta</td>\n",
       "      <td>-34.596511</td>\n",
       "      <td>-58.385747</td>\n",
       "      <td>109000.0</td>\n",
       "      <td>45.0</td>\n",
       "      <td>45.0</td>\n",
       "      <td>2.0</td>\n",
       "      <td>2.0</td>\n",
       "      <td>3350.0</td>\n",
       "    </tr>\n",
       "    <tr>\n",
       "      <th>4</th>\n",
       "      <td>f891875ff44e6f99e30e101b3901d1e7510ef41b</td>\n",
       "      <td>2017-09-01</td>\n",
       "      <td>sell</td>\n",
       "      <td>apartment</td>\n",
       "      <td>Parque Patricios</td>\n",
       "      <td>-34.639173</td>\n",
       "      <td>-58.417069</td>\n",
       "      <td>94000.0</td>\n",
       "      <td>38.0</td>\n",
       "      <td>38.0</td>\n",
       "      <td>NaN</td>\n",
       "      <td>NaN</td>\n",
       "      <td>NaN</td>\n",
       "    </tr>\n",
       "  </tbody>\n",
       "</table>\n",
       "</div>"
      ],
      "text/plain": [
       "                                         id  created_on operation  \\\n",
       "0  1649a3c35359d681abae4a63d9a8545054d2096b  2017-09-22      sell   \n",
       "1  1ab035ccbe77702987c3f09850d12c634e612aa2  2017-09-01      sell   \n",
       "2  90fc7c61b6fbc6ef99368a21cd9ac0d30d54c697  2017-09-01      sell   \n",
       "3  c195e8f3a596ab49b95d699c07e1a04be503ba68  2017-09-01      sell   \n",
       "4  f891875ff44e6f99e30e101b3901d1e7510ef41b  2017-09-01      sell   \n",
       "\n",
       "  property_type     neighbourhood        lat        lon      price  \\\n",
       "0         house     Palermo Viejo -34.588953 -58.429882  2000000.0   \n",
       "1            PH  Parque Chacabuco -34.635866 -58.431048   131500.0   \n",
       "2     apartment          Barracas -34.644924 -58.371919   140000.0   \n",
       "3     apartment          Recoleta -34.596511 -58.385747   109000.0   \n",
       "4     apartment  Parque Patricios -34.639173 -58.417069    94000.0   \n",
       "\n",
       "   surface_total_in_m2  surface_covered_in_m2  floor  rooms  expenses  \n",
       "0                312.0                    NaN    NaN    NaN       NaN  \n",
       "1                 80.0                   50.0    NaN    3.0       NaN  \n",
       "2                125.0                   85.0    NaN    NaN       NaN  \n",
       "3                 45.0                   45.0    2.0    2.0    3350.0  \n",
       "4                 38.0                   38.0    NaN    NaN       NaN  "
      ]
     },
     "execution_count": 4,
     "metadata": {},
     "output_type": "execute_result"
    }
   ],
   "source": [
    "prop.head()"
   ]
  },
  {
   "cell_type": "code",
   "execution_count": 5,
   "metadata": {
    "id": "XyM009xj7QZp"
   },
   "outputs": [
    {
     "data": {
      "text/plain": [
       "(25319, 13)"
      ]
     },
     "execution_count": 5,
     "metadata": {},
     "output_type": "execute_result"
    }
   ],
   "source": [
    "prop.shape"
   ]
  },
  {
   "cell_type": "code",
   "execution_count": 6,
   "metadata": {
    "id": "n8bKktpR7Rqk"
   },
   "outputs": [
    {
     "data": {
      "text/plain": [
       "array(['sell'], dtype=object)"
      ]
     },
     "execution_count": 6,
     "metadata": {},
     "output_type": "execute_result"
    }
   ],
   "source": [
    "prop.operation.unique()"
   ]
  },
  {
   "cell_type": "code",
   "execution_count": 7,
   "metadata": {
    "id": "TlILEt_fH5Ei"
   },
   "outputs": [
    {
     "data": {
      "text/plain": [
       "id                           0\n",
       "created_on                   0\n",
       "operation                    0\n",
       "property_type                0\n",
       "neighbourhood                0\n",
       "lat                       1048\n",
       "lon                       1048\n",
       "price                     1928\n",
       "surface_total_in_m2       3323\n",
       "surface_covered_in_m2     2529\n",
       "floor                    22093\n",
       "rooms                     6607\n",
       "expenses                 20289\n",
       "dtype: int64"
      ]
     },
     "execution_count": 7,
     "metadata": {},
     "output_type": "execute_result"
    }
   ],
   "source": [
    "prop.isnull().sum()"
   ]
  },
  {
   "cell_type": "code",
   "execution_count": 8,
   "metadata": {
    "id": "Bd0O8b5vNjd0"
   },
   "outputs": [
    {
     "data": {
      "text/html": [
       "<div>\n",
       "<style scoped>\n",
       "    .dataframe tbody tr th:only-of-type {\n",
       "        vertical-align: middle;\n",
       "    }\n",
       "\n",
       "    .dataframe tbody tr th {\n",
       "        vertical-align: top;\n",
       "    }\n",
       "\n",
       "    .dataframe thead th {\n",
       "        text-align: right;\n",
       "    }\n",
       "</style>\n",
       "<table border=\"1\" class=\"dataframe\">\n",
       "  <thead>\n",
       "    <tr style=\"text-align: right;\">\n",
       "      <th></th>\n",
       "      <th>Total</th>\n",
       "      <th>Porcentaje</th>\n",
       "    </tr>\n",
       "  </thead>\n",
       "  <tbody>\n",
       "    <tr>\n",
       "      <th>floor</th>\n",
       "      <td>22093</td>\n",
       "      <td>0.872586</td>\n",
       "    </tr>\n",
       "    <tr>\n",
       "      <th>expenses</th>\n",
       "      <td>20289</td>\n",
       "      <td>0.801335</td>\n",
       "    </tr>\n",
       "    <tr>\n",
       "      <th>rooms</th>\n",
       "      <td>6607</td>\n",
       "      <td>0.260950</td>\n",
       "    </tr>\n",
       "    <tr>\n",
       "      <th>surface_total_in_m2</th>\n",
       "      <td>3323</td>\n",
       "      <td>0.131245</td>\n",
       "    </tr>\n",
       "    <tr>\n",
       "      <th>surface_covered_in_m2</th>\n",
       "      <td>2529</td>\n",
       "      <td>0.099885</td>\n",
       "    </tr>\n",
       "    <tr>\n",
       "      <th>price</th>\n",
       "      <td>1928</td>\n",
       "      <td>0.076148</td>\n",
       "    </tr>\n",
       "    <tr>\n",
       "      <th>lat</th>\n",
       "      <td>1048</td>\n",
       "      <td>0.041392</td>\n",
       "    </tr>\n",
       "    <tr>\n",
       "      <th>lon</th>\n",
       "      <td>1048</td>\n",
       "      <td>0.041392</td>\n",
       "    </tr>\n",
       "    <tr>\n",
       "      <th>id</th>\n",
       "      <td>0</td>\n",
       "      <td>0.000000</td>\n",
       "    </tr>\n",
       "    <tr>\n",
       "      <th>created_on</th>\n",
       "      <td>0</td>\n",
       "      <td>0.000000</td>\n",
       "    </tr>\n",
       "    <tr>\n",
       "      <th>operation</th>\n",
       "      <td>0</td>\n",
       "      <td>0.000000</td>\n",
       "    </tr>\n",
       "    <tr>\n",
       "      <th>property_type</th>\n",
       "      <td>0</td>\n",
       "      <td>0.000000</td>\n",
       "    </tr>\n",
       "    <tr>\n",
       "      <th>neighbourhood</th>\n",
       "      <td>0</td>\n",
       "      <td>0.000000</td>\n",
       "    </tr>\n",
       "  </tbody>\n",
       "</table>\n",
       "</div>"
      ],
      "text/plain": [
       "                       Total  Porcentaje\n",
       "floor                  22093    0.872586\n",
       "expenses               20289    0.801335\n",
       "rooms                   6607    0.260950\n",
       "surface_total_in_m2     3323    0.131245\n",
       "surface_covered_in_m2   2529    0.099885\n",
       "price                   1928    0.076148\n",
       "lat                     1048    0.041392\n",
       "lon                     1048    0.041392\n",
       "id                         0    0.000000\n",
       "created_on                 0    0.000000\n",
       "operation                  0    0.000000\n",
       "property_type              0    0.000000\n",
       "neighbourhood              0    0.000000"
      ]
     },
     "execution_count": 8,
     "metadata": {},
     "output_type": "execute_result"
    }
   ],
   "source": [
    "total = prop.isnull().sum().sort_values(ascending=False)\n",
    "porcentaje = (prop.isnull().sum()/prop.isnull().count()).sort_values(ascending=False)\n",
    "missing_data = pd.concat([total, porcentaje], axis=1, keys=['Total', 'Porcentaje'])\n",
    "missing_data"
   ]
  },
  {
   "cell_type": "code",
   "execution_count": 9,
   "metadata": {
    "id": "TFr_jepgILWu"
   },
   "outputs": [],
   "source": [
    "prop = prop[prop['price'].notna()]"
   ]
  },
  {
   "cell_type": "code",
   "execution_count": 10,
   "metadata": {
    "id": "heYa0iZPL9tx"
   },
   "outputs": [
    {
     "data": {
      "text/plain": [
       "(23391, 13)"
      ]
     },
     "execution_count": 10,
     "metadata": {},
     "output_type": "execute_result"
    }
   ],
   "source": [
    "prop.shape"
   ]
  },
  {
   "cell_type": "code",
   "execution_count": 11,
   "metadata": {
    "id": "Iqqz14Xd5Z1Y"
   },
   "outputs": [
    {
     "data": {
      "text/plain": [
       "id                           0\n",
       "created_on                   0\n",
       "operation                    0\n",
       "property_type                0\n",
       "neighbourhood                0\n",
       "lat                        946\n",
       "lon                        946\n",
       "price                        0\n",
       "surface_total_in_m2       2252\n",
       "surface_covered_in_m2     1484\n",
       "floor                    20267\n",
       "rooms                     5408\n",
       "expenses                 18477\n",
       "dtype: int64"
      ]
     },
     "execution_count": 11,
     "metadata": {},
     "output_type": "execute_result"
    }
   ],
   "source": [
    "prop.isnull().sum()"
   ]
  },
  {
   "cell_type": "code",
   "execution_count": 12,
   "metadata": {
    "id": "neIgavA4oqHr"
   },
   "outputs": [
    {
     "data": {
      "text/html": [
       "<div>\n",
       "<style scoped>\n",
       "    .dataframe tbody tr th:only-of-type {\n",
       "        vertical-align: middle;\n",
       "    }\n",
       "\n",
       "    .dataframe tbody tr th {\n",
       "        vertical-align: top;\n",
       "    }\n",
       "\n",
       "    .dataframe thead th {\n",
       "        text-align: right;\n",
       "    }\n",
       "</style>\n",
       "<table border=\"1\" class=\"dataframe\">\n",
       "  <thead>\n",
       "    <tr style=\"text-align: right;\">\n",
       "      <th></th>\n",
       "      <th>lat</th>\n",
       "      <th>lon</th>\n",
       "      <th>price</th>\n",
       "      <th>surface_total_in_m2</th>\n",
       "      <th>surface_covered_in_m2</th>\n",
       "      <th>floor</th>\n",
       "      <th>rooms</th>\n",
       "      <th>expenses</th>\n",
       "    </tr>\n",
       "  </thead>\n",
       "  <tbody>\n",
       "    <tr>\n",
       "      <th>count</th>\n",
       "      <td>22445.000000</td>\n",
       "      <td>22445.000000</td>\n",
       "      <td>2.339100e+04</td>\n",
       "      <td>21139.000000</td>\n",
       "      <td>21907.000000</td>\n",
       "      <td>3124.000000</td>\n",
       "      <td>17983.000000</td>\n",
       "      <td>4914.000000</td>\n",
       "    </tr>\n",
       "    <tr>\n",
       "      <th>mean</th>\n",
       "      <td>-34.596604</td>\n",
       "      <td>-58.459926</td>\n",
       "      <td>3.795836e+05</td>\n",
       "      <td>134.762761</td>\n",
       "      <td>116.203268</td>\n",
       "      <td>10.341869</td>\n",
       "      <td>2.900906</td>\n",
       "      <td>4480.657102</td>\n",
       "    </tr>\n",
       "    <tr>\n",
       "      <th>std</th>\n",
       "      <td>0.238875</td>\n",
       "      <td>0.388389</td>\n",
       "      <td>6.740833e+05</td>\n",
       "      <td>1652.989255</td>\n",
       "      <td>1360.581258</td>\n",
       "      <td>50.385434</td>\n",
       "      <td>1.777550</td>\n",
       "      <td>6690.418046</td>\n",
       "    </tr>\n",
       "    <tr>\n",
       "      <th>min</th>\n",
       "      <td>-38.416097</td>\n",
       "      <td>-68.466206</td>\n",
       "      <td>1.111100e+04</td>\n",
       "      <td>0.000000</td>\n",
       "      <td>1.000000</td>\n",
       "      <td>1.000000</td>\n",
       "      <td>1.000000</td>\n",
       "      <td>1.000000</td>\n",
       "    </tr>\n",
       "    <tr>\n",
       "      <th>25%</th>\n",
       "      <td>-34.618937</td>\n",
       "      <td>-58.463871</td>\n",
       "      <td>1.210000e+05</td>\n",
       "      <td>45.000000</td>\n",
       "      <td>41.000000</td>\n",
       "      <td>2.000000</td>\n",
       "      <td>2.000000</td>\n",
       "      <td>1500.000000</td>\n",
       "    </tr>\n",
       "    <tr>\n",
       "      <th>50%</th>\n",
       "      <td>-34.600678</td>\n",
       "      <td>-58.434186</td>\n",
       "      <td>1.870000e+05</td>\n",
       "      <td>70.000000</td>\n",
       "      <td>62.000000</td>\n",
       "      <td>4.000000</td>\n",
       "      <td>3.000000</td>\n",
       "      <td>2800.000000</td>\n",
       "    </tr>\n",
       "    <tr>\n",
       "      <th>75%</th>\n",
       "      <td>-34.582460</td>\n",
       "      <td>-58.400716</td>\n",
       "      <td>3.450000e+05</td>\n",
       "      <td>121.000000</td>\n",
       "      <td>107.000000</td>\n",
       "      <td>7.000000</td>\n",
       "      <td>4.000000</td>\n",
       "      <td>5000.000000</td>\n",
       "    </tr>\n",
       "    <tr>\n",
       "      <th>max</th>\n",
       "      <td>-26.861151</td>\n",
       "      <td>-58.353227</td>\n",
       "      <td>1.725144e+07</td>\n",
       "      <td>184000.000000</td>\n",
       "      <td>150000.000000</td>\n",
       "      <td>904.000000</td>\n",
       "      <td>38.000000</td>\n",
       "      <td>184361.000000</td>\n",
       "    </tr>\n",
       "  </tbody>\n",
       "</table>\n",
       "</div>"
      ],
      "text/plain": [
       "                lat           lon         price  surface_total_in_m2  \\\n",
       "count  22445.000000  22445.000000  2.339100e+04         21139.000000   \n",
       "mean     -34.596604    -58.459926  3.795836e+05           134.762761   \n",
       "std        0.238875      0.388389  6.740833e+05          1652.989255   \n",
       "min      -38.416097    -68.466206  1.111100e+04             0.000000   \n",
       "25%      -34.618937    -58.463871  1.210000e+05            45.000000   \n",
       "50%      -34.600678    -58.434186  1.870000e+05            70.000000   \n",
       "75%      -34.582460    -58.400716  3.450000e+05           121.000000   \n",
       "max      -26.861151    -58.353227  1.725144e+07        184000.000000   \n",
       "\n",
       "       surface_covered_in_m2        floor         rooms       expenses  \n",
       "count           21907.000000  3124.000000  17983.000000    4914.000000  \n",
       "mean              116.203268    10.341869      2.900906    4480.657102  \n",
       "std              1360.581258    50.385434      1.777550    6690.418046  \n",
       "min                 1.000000     1.000000      1.000000       1.000000  \n",
       "25%                41.000000     2.000000      2.000000    1500.000000  \n",
       "50%                62.000000     4.000000      3.000000    2800.000000  \n",
       "75%               107.000000     7.000000      4.000000    5000.000000  \n",
       "max            150000.000000   904.000000     38.000000  184361.000000  "
      ]
     },
     "execution_count": 12,
     "metadata": {},
     "output_type": "execute_result"
    }
   ],
   "source": [
    "prop.describe()"
   ]
  },
  {
   "cell_type": "code",
   "execution_count": 13,
   "metadata": {
    "id": "uZ1_jiZK5mW5"
   },
   "outputs": [
    {
     "data": {
      "image/png": "[encoded data removed]",
      "text/plain": [
       "<Figure size 432x288 with 1 Axes>"
      ]
     },
     "metadata": {},
     "output_type": "display_data"
    }
   ],
   "source": [
    "#Plot Precio\n",
    "sns.kdeplot(prop.price, color=\"b\", shade = True)\n",
    "plt.xlabel(\"Price\")\n",
    "plt.title('Distribucion de Precio',size = 20)\n",
    "plt.show()\n"
   ]
  },
  {
   "cell_type": "code",
   "execution_count": 14,
   "metadata": {
    "id": "9I-he2-657E_"
   },
   "outputs": [],
   "source": [
    "price_quantile95 = prop.price.quantile(0.95)\n",
    "prop = prop.loc[(prop.price < price_quantile95)]"
   ]
  },
  {
   "cell_type": "code",
   "execution_count": 15,
   "metadata": {
    "id": "ECjNL_7N6gdM"
   },
   "outputs": [
    {
     "name": "stdout",
     "output_type": "stream",
     "text": [
      "\n",
      " mu = 258970.41 and sigma = 229743.69\n",
      "\n"
     ]
    },
    {
     "name": "stderr",
     "output_type": "stream",
     "text": [
      "C:\\Users\\santi\\Anaconda3\\lib\\site-packages\\seaborn\\distributions.py:2557: FutureWarning: `distplot` is a deprecated function and will be removed in a future version. Please adapt your code to use either `displot` (a figure-level function with similar flexibility) or `histplot` (an axes-level function for histograms).\n",
      "  warnings.warn(msg, FutureWarning)\n"
     ]
    },
    {
     "data": {
      "text/plain": [
       "Text(0.5, 1.0, 'Price distribution')"
      ]
     },
     "execution_count": 15,
     "metadata": {},
     "output_type": "execute_result"
    },
    {
     "data": {
      "image/png": "[encoded data removed]",
      "text/plain": [
       "<Figure size 432x288 with 1 Axes>"
      ]
     },
     "metadata": {},
     "output_type": "display_data"
    }
   ],
   "source": [
    "sns.distplot(prop['price'] , fit=norm)\n",
    "(mu, sigma) = norm.fit(prop['price'])\n",
    "print( '\\n mu = {:.2f} and sigma = {:.2f}\\n'.format(mu, sigma))\n",
    "plt.legend(['Normal dist. ($\\mu=$ {:.2f} and $\\sigma=$ {:.2f} )'.format(mu, sigma)],\n",
    "            loc='best')\n",
    "plt.ylabel('Frequency')\n",
    "plt.title('Price distribution')"
   ]
  },
  {
   "cell_type": "code",
   "execution_count": 16,
   "metadata": {
    "id": "0BiGIhNL6gpb"
   },
   "outputs": [
    {
     "data": {
      "text/plain": [
       "apartment    17903\n",
       "house         1713\n",
       "PH            1647\n",
       "store          957\n",
       "Name: property_type, dtype: int64"
      ]
     },
     "execution_count": 16,
     "metadata": {},
     "output_type": "execute_result"
    }
   ],
   "source": [
    "prop.property_type.value_counts()"
   ]
  },
  {
   "cell_type": "code",
   "execution_count": 17,
   "metadata": {
    "id": "UBo_8GgB6gsi"
   },
   "outputs": [
    {
     "data": {
      "text/plain": [
       "Palermo            1960\n",
       "Belgrano           1813\n",
       "Caballito          1689\n",
       "Recoleta           1441\n",
       "Villa Crespo        896\n",
       "                   ... \n",
       "Villa Real           27\n",
       "Palermo Viejo        25\n",
       "Villa Soldati        21\n",
       "Catalinas             3\n",
       "Villa Riachuelo       3\n",
       "Name: neighbourhood, Length: 62, dtype: int64"
      ]
     },
     "execution_count": 17,
     "metadata": {},
     "output_type": "execute_result"
    }
   ],
   "source": [
    "prop.neighbourhood.value_counts()"
   ]
  },
  {
   "cell_type": "code",
   "execution_count": 18,
   "metadata": {
    "id": "f1_IVRjDDumI"
   },
   "outputs": [],
   "source": [
    "top5_neigh = [\"Palermo\", \"Belgrano\", \"Caballito\", \"Recoleta\", \"Villa Crespo\"]\n",
    "prop_top_neigh = prop[prop[\"neighbourhood\"].isin(top5_neigh)]\n",
    "#prop_top_neigh.head(10)\n"
   ]
  },
  {
   "cell_type": "code",
   "execution_count": 19,
   "metadata": {
    "id": "RnZk5O5q6gyk"
   },
   "outputs": [
    {
     "data": {
      "image/png": "[encoded data removed]",
      "text/plain": [
       "<Figure size 1080x216 with 1 Axes>"
      ]
     },
     "metadata": {},
     "output_type": "display_data"
    },
    {
     "data": {
      "image/png": "[encoded data removed]",
      "text/plain": [
       "<Figure size 1080x360 with 1 Axes>"
      ]
     },
     "metadata": {},
     "output_type": "display_data"
    }
   ],
   "source": [
    "\n",
    "plt.figure(figsize=(15,3))\n",
    "g = sns.countplot(x='neighbourhood',data=prop, palette = \"muted\",order=top5_neigh)\n",
    "g.set_xticklabels(g.get_xticklabels(), rotation=90, ha=\"right\")\n",
    "plt.title('Cuenta por Barrio',size = 20)\n",
    "plt.xlabel(\"Barrio\")\n",
    "plt.ylabel(\"Count\")\n",
    "plt.show()\n",
    "\n",
    "g = sns.catplot(x=\"neighbourhood\",y='price',data=prop_top_neigh, kind=\"box\", height = 5,aspect=3 ,palette = \"muted\")\n",
    "g.despine(left=True)\n",
    "g.set_xticklabels(rotation=90)\n",
    "g = g.set_ylabels(\"price\")\n",
    "plt.title('Box plot Barrio VS Price',size = 20)\n",
    "plt.show()"
   ]
  },
  {
   "cell_type": "code",
   "execution_count": 20,
   "metadata": {
    "id": "UTwwZsQm6g1n"
   },
   "outputs": [
    {
     "data": {
      "image/png": "[encoded data removed]",
      "text/plain": [
       "<Figure size 1080x216 with 1 Axes>"
      ]
     },
     "metadata": {},
     "output_type": "display_data"
    },
    {
     "data": {
      "image/png": "[encoded data removed]",
      "text/plain": [
       "<Figure size 1080x360 with 1 Axes>"
      ]
     },
     "metadata": {},
     "output_type": "display_data"
    }
   ],
   "source": [
    "property = prop['property_type'].value_counts().index[0:10]\n",
    "\n",
    "plt.figure(figsize=(15,3))\n",
    "g = sns.countplot(x='property_type',data=prop, palette = \"muted\",order=property)\n",
    "g.set_xticklabels(g.get_xticklabels(), rotation=90, ha=\"right\")\n",
    "plt.title('Cuenta por Tipo de Propiedad',size = 20)\n",
    "plt.xlabel(\"Tipo de Propiedad\", size = 15)\n",
    "plt.ylabel(\"Count\")\n",
    "plt.show()\n",
    "\n",
    "\n",
    "\n",
    "\n",
    "g = sns.catplot(x=\"property_type\",y='price',data=prop, kind=\"box\", height = 5,aspect=3 ,palette = \"muted\")\n",
    "g.despine(left=True)\n",
    "g.set_xticklabels(rotation=90)\n",
    "g = g.set_ylabels(\"price\")\n",
    "plt.title('Box plot Tipo de Propiedad VS Price',size = 20)\n",
    "plt.show()"
   ]
  },
  {
   "cell_type": "code",
   "execution_count": 21,
   "metadata": {
    "id": "m3lsILkWCi08"
   },
   "outputs": [
    {
     "data": {
      "image/png": "[encoded data removed]",
      "text/plain": [
       "<Figure size 720x720 with 2 Axes>"
      ]
     },
     "metadata": {},
     "output_type": "display_data"
    }
   ],
   "source": [
    "corrmat = prop.corr()\n",
    "plt.figure(figsize=(10,10))\n",
    "g = sns.heatmap(prop.corr(),annot=True,cmap=\"RdYlGn\")"
   ]
  },
  {
   "cell_type": "code",
   "execution_count": 22,
   "metadata": {
    "id": "VfG0Jz5_HdhK"
   },
   "outputs": [
    {
     "name": "stdout",
     "output_type": "stream",
     "text": [
      "<class 'pandas.core.frame.DataFrame'>\n",
      "Int64Index: 22220 entries, 1 to 25318\n",
      "Data columns (total 13 columns):\n",
      " #   Column                 Non-Null Count  Dtype  \n",
      "---  ------                 --------------  -----  \n",
      " 0   id                     22220 non-null  object \n",
      " 1   created_on             22220 non-null  object \n",
      " 2   operation              22220 non-null  object \n",
      " 3   property_type          22220 non-null  object \n",
      " 4   neighbourhood          22220 non-null  object \n",
      " 5   lat                    21288 non-null  float64\n",
      " 6   lon                    21288 non-null  float64\n",
      " 7   price                  22220 non-null  float64\n",
      " 8   surface_total_in_m2    22220 non-null  float64\n",
      " 9   surface_covered_in_m2  22220 non-null  float64\n",
      " 10  floor                  3053 non-null   float64\n",
      " 11  rooms                  22220 non-null  float64\n",
      " 12  expenses               4834 non-null   float64\n",
      "dtypes: float64(8), object(5)\n",
      "memory usage: 2.9+ MB\n"
     ]
    }
   ],
   "source": [
    "prop['surface_total_in_m2'].fillna(prop['surface_total_in_m2'].mean(), inplace = True)\n",
    "prop['surface_covered_in_m2'].fillna(prop['surface_covered_in_m2'].mean(), inplace = True)\n",
    "prop['rooms'].fillna(prop['rooms'].median(), inplace = True)\n",
    "prop.info()"
   ]
  },
  {
   "cell_type": "code",
   "execution_count": 23,
   "metadata": {
    "id": "a0L_pWd_HdpW"
   },
   "outputs": [],
   "source": [
    "prop.loc[(prop['expenses'].isnull()) & (prop[\"property_type\"]==\"house\"), \"expenses\"] = 0\n",
    "prop['expenses'].fillna(prop['expenses'].mean(), inplace = True)"
   ]
  },
  {
   "cell_type": "code",
   "execution_count": 24,
   "metadata": {
    "id": "nWx9B5P8PqZu"
   },
   "outputs": [
    {
     "data": {
      "text/html": [
       "<div>\n",
       "<style scoped>\n",
       "    .dataframe tbody tr th:only-of-type {\n",
       "        vertical-align: middle;\n",
       "    }\n",
       "\n",
       "    .dataframe tbody tr th {\n",
       "        vertical-align: top;\n",
       "    }\n",
       "\n",
       "    .dataframe thead th {\n",
       "        text-align: right;\n",
       "    }\n",
       "</style>\n",
       "<table border=\"1\" class=\"dataframe\">\n",
       "  <thead>\n",
       "    <tr style=\"text-align: right;\">\n",
       "      <th></th>\n",
       "      <th>id</th>\n",
       "      <th>created_on</th>\n",
       "      <th>operation</th>\n",
       "      <th>property_type</th>\n",
       "      <th>neighbourhood</th>\n",
       "      <th>lat</th>\n",
       "      <th>lon</th>\n",
       "      <th>price</th>\n",
       "      <th>surface_total_in_m2</th>\n",
       "      <th>surface_covered_in_m2</th>\n",
       "      <th>floor</th>\n",
       "      <th>rooms</th>\n",
       "      <th>expenses</th>\n",
       "    </tr>\n",
       "  </thead>\n",
       "  <tbody>\n",
       "    <tr>\n",
       "      <th>1</th>\n",
       "      <td>1ab035ccbe77702987c3f09850d12c634e612aa2</td>\n",
       "      <td>2017-09-01</td>\n",
       "      <td>sell</td>\n",
       "      <td>PH</td>\n",
       "      <td>Parque Chacabuco</td>\n",
       "      <td>-34.635866</td>\n",
       "      <td>-58.431048</td>\n",
       "      <td>131500.0</td>\n",
       "      <td>80.0</td>\n",
       "      <td>50.0</td>\n",
       "      <td>NaN</td>\n",
       "      <td>3.0</td>\n",
       "      <td>3089.672395</td>\n",
       "    </tr>\n",
       "    <tr>\n",
       "      <th>2</th>\n",
       "      <td>90fc7c61b6fbc6ef99368a21cd9ac0d30d54c697</td>\n",
       "      <td>2017-09-01</td>\n",
       "      <td>sell</td>\n",
       "      <td>apartment</td>\n",
       "      <td>Barracas</td>\n",
       "      <td>-34.644924</td>\n",
       "      <td>-58.371919</td>\n",
       "      <td>140000.0</td>\n",
       "      <td>125.0</td>\n",
       "      <td>85.0</td>\n",
       "      <td>NaN</td>\n",
       "      <td>3.0</td>\n",
       "      <td>3089.672395</td>\n",
       "    </tr>\n",
       "    <tr>\n",
       "      <th>3</th>\n",
       "      <td>c195e8f3a596ab49b95d699c07e1a04be503ba68</td>\n",
       "      <td>2017-09-01</td>\n",
       "      <td>sell</td>\n",
       "      <td>apartment</td>\n",
       "      <td>Recoleta</td>\n",
       "      <td>-34.596511</td>\n",
       "      <td>-58.385747</td>\n",
       "      <td>109000.0</td>\n",
       "      <td>45.0</td>\n",
       "      <td>45.0</td>\n",
       "      <td>2.0</td>\n",
       "      <td>2.0</td>\n",
       "      <td>3350.000000</td>\n",
       "    </tr>\n",
       "    <tr>\n",
       "      <th>4</th>\n",
       "      <td>f891875ff44e6f99e30e101b3901d1e7510ef41b</td>\n",
       "      <td>2017-09-01</td>\n",
       "      <td>sell</td>\n",
       "      <td>apartment</td>\n",
       "      <td>Parque Patricios</td>\n",
       "      <td>-34.639173</td>\n",
       "      <td>-58.417069</td>\n",
       "      <td>94000.0</td>\n",
       "      <td>38.0</td>\n",
       "      <td>38.0</td>\n",
       "      <td>NaN</td>\n",
       "      <td>3.0</td>\n",
       "      <td>3089.672395</td>\n",
       "    </tr>\n",
       "    <tr>\n",
       "      <th>5</th>\n",
       "      <td>8bffade33a2412d614e82cc3d828175f63443549</td>\n",
       "      <td>2017-09-01</td>\n",
       "      <td>sell</td>\n",
       "      <td>apartment</td>\n",
       "      <td>Flores</td>\n",
       "      <td>-34.639497</td>\n",
       "      <td>-58.531714</td>\n",
       "      <td>160000.0</td>\n",
       "      <td>76.0</td>\n",
       "      <td>76.0</td>\n",
       "      <td>13.0</td>\n",
       "      <td>3.0</td>\n",
       "      <td>6700.000000</td>\n",
       "    </tr>\n",
       "  </tbody>\n",
       "</table>\n",
       "</div>"
      ],
      "text/plain": [
       "                                         id  created_on operation  \\\n",
       "1  1ab035ccbe77702987c3f09850d12c634e612aa2  2017-09-01      sell   \n",
       "2  90fc7c61b6fbc6ef99368a21cd9ac0d30d54c697  2017-09-01      sell   \n",
       "3  c195e8f3a596ab49b95d699c07e1a04be503ba68  2017-09-01      sell   \n",
       "4  f891875ff44e6f99e30e101b3901d1e7510ef41b  2017-09-01      sell   \n",
       "5  8bffade33a2412d614e82cc3d828175f63443549  2017-09-01      sell   \n",
       "\n",
       "  property_type     neighbourhood        lat        lon     price  \\\n",
       "1            PH  Parque Chacabuco -34.635866 -58.431048  131500.0   \n",
       "2     apartment          Barracas -34.644924 -58.371919  140000.0   \n",
       "3     apartment          Recoleta -34.596511 -58.385747  109000.0   \n",
       "4     apartment  Parque Patricios -34.639173 -58.417069   94000.0   \n",
       "5     apartment            Flores -34.639497 -58.531714  160000.0   \n",
       "\n",
       "   surface_total_in_m2  surface_covered_in_m2  floor  rooms     expenses  \n",
       "1                 80.0                   50.0    NaN    3.0  3089.672395  \n",
       "2                125.0                   85.0    NaN    3.0  3089.672395  \n",
       "3                 45.0                   45.0    2.0    2.0  3350.000000  \n",
       "4                 38.0                   38.0    NaN    3.0  3089.672395  \n",
       "5                 76.0                   76.0   13.0    3.0  6700.000000  "
      ]
     },
     "execution_count": 24,
     "metadata": {},
     "output_type": "execute_result"
    }
   ],
   "source": [
    "prop.head()"
   ]
  },
  {
   "cell_type": "code",
   "execution_count": 25,
   "metadata": {
    "id": "BCuxpBQ8Hdr5"
   },
   "outputs": [],
   "source": [
    "prop = prop.drop(['id', 'created_on', 'operation', 'lat', 'lon', 'floor'], axis=1)"
   ]
  },
  {
   "cell_type": "code",
   "execution_count": 26,
   "metadata": {
    "id": "Q_XUv_pDP8aO"
   },
   "outputs": [
    {
     "name": "stdout",
     "output_type": "stream",
     "text": [
      "<class 'pandas.core.frame.DataFrame'>\n",
      "Int64Index: 22220 entries, 1 to 25318\n",
      "Data columns (total 7 columns):\n",
      " #   Column                 Non-Null Count  Dtype  \n",
      "---  ------                 --------------  -----  \n",
      " 0   property_type          22220 non-null  object \n",
      " 1   neighbourhood          22220 non-null  object \n",
      " 2   price                  22220 non-null  float64\n",
      " 3   surface_total_in_m2    22220 non-null  float64\n",
      " 4   surface_covered_in_m2  22220 non-null  float64\n",
      " 5   rooms                  22220 non-null  float64\n",
      " 6   expenses               22220 non-null  float64\n",
      "dtypes: float64(5), object(2)\n",
      "memory usage: 1.9+ MB\n"
     ]
    }
   ],
   "source": [
    "prop.info()"
   ]
  },
  {
   "cell_type": "code",
   "execution_count": 27,
   "metadata": {
    "id": "WS02yWsEP90Z"
   },
   "outputs": [
    {
     "data": {
      "text/html": [
       "<div>\n",
       "<style scoped>\n",
       "    .dataframe tbody tr th:only-of-type {\n",
       "        vertical-align: middle;\n",
       "    }\n",
       "\n",
       "    .dataframe tbody tr th {\n",
       "        vertical-align: top;\n",
       "    }\n",
       "\n",
       "    .dataframe thead th {\n",
       "        text-align: right;\n",
       "    }\n",
       "</style>\n",
       "<table border=\"1\" class=\"dataframe\">\n",
       "  <thead>\n",
       "    <tr style=\"text-align: right;\">\n",
       "      <th></th>\n",
       "      <th>property_type</th>\n",
       "      <th>neighbourhood</th>\n",
       "      <th>price</th>\n",
       "      <th>surface_total_in_m2</th>\n",
       "      <th>surface_covered_in_m2</th>\n",
       "      <th>rooms</th>\n",
       "      <th>expenses</th>\n",
       "    </tr>\n",
       "  </thead>\n",
       "  <tbody>\n",
       "    <tr>\n",
       "      <th>1</th>\n",
       "      <td>PH</td>\n",
       "      <td>Parque Chacabuco</td>\n",
       "      <td>131500.0</td>\n",
       "      <td>80.0</td>\n",
       "      <td>50.0</td>\n",
       "      <td>3.0</td>\n",
       "      <td>3089.672395</td>\n",
       "    </tr>\n",
       "    <tr>\n",
       "      <th>2</th>\n",
       "      <td>apartment</td>\n",
       "      <td>Barracas</td>\n",
       "      <td>140000.0</td>\n",
       "      <td>125.0</td>\n",
       "      <td>85.0</td>\n",
       "      <td>3.0</td>\n",
       "      <td>3089.672395</td>\n",
       "    </tr>\n",
       "    <tr>\n",
       "      <th>3</th>\n",
       "      <td>apartment</td>\n",
       "      <td>Recoleta</td>\n",
       "      <td>109000.0</td>\n",
       "      <td>45.0</td>\n",
       "      <td>45.0</td>\n",
       "      <td>2.0</td>\n",
       "      <td>3350.000000</td>\n",
       "    </tr>\n",
       "    <tr>\n",
       "      <th>4</th>\n",
       "      <td>apartment</td>\n",
       "      <td>Parque Patricios</td>\n",
       "      <td>94000.0</td>\n",
       "      <td>38.0</td>\n",
       "      <td>38.0</td>\n",
       "      <td>3.0</td>\n",
       "      <td>3089.672395</td>\n",
       "    </tr>\n",
       "    <tr>\n",
       "      <th>5</th>\n",
       "      <td>apartment</td>\n",
       "      <td>Flores</td>\n",
       "      <td>160000.0</td>\n",
       "      <td>76.0</td>\n",
       "      <td>76.0</td>\n",
       "      <td>3.0</td>\n",
       "      <td>6700.000000</td>\n",
       "    </tr>\n",
       "  </tbody>\n",
       "</table>\n",
       "</div>"
      ],
      "text/plain": [
       "  property_type     neighbourhood     price  surface_total_in_m2  \\\n",
       "1            PH  Parque Chacabuco  131500.0                 80.0   \n",
       "2     apartment          Barracas  140000.0                125.0   \n",
       "3     apartment          Recoleta  109000.0                 45.0   \n",
       "4     apartment  Parque Patricios   94000.0                 38.0   \n",
       "5     apartment            Flores  160000.0                 76.0   \n",
       "\n",
       "   surface_covered_in_m2  rooms     expenses  \n",
       "1                   50.0    3.0  3089.672395  \n",
       "2                   85.0    3.0  3089.672395  \n",
       "3                   45.0    2.0  3350.000000  \n",
       "4                   38.0    3.0  3089.672395  \n",
       "5                   76.0    3.0  6700.000000  "
      ]
     },
     "execution_count": 27,
     "metadata": {},
     "output_type": "execute_result"
    }
   ],
   "source": [
    "prop.head()"
   ]
  },
  {
   "cell_type": "code",
   "execution_count": 28,
   "metadata": {
    "id": "ATect5jfQS4i"
   },
   "outputs": [
    {
     "data": {
      "text/html": [
       "<div>\n",
       "<style scoped>\n",
       "    .dataframe tbody tr th:only-of-type {\n",
       "        vertical-align: middle;\n",
       "    }\n",
       "\n",
       "    .dataframe tbody tr th {\n",
       "        vertical-align: top;\n",
       "    }\n",
       "\n",
       "    .dataframe thead th {\n",
       "        text-align: right;\n",
       "    }\n",
       "</style>\n",
       "<table border=\"1\" class=\"dataframe\">\n",
       "  <thead>\n",
       "    <tr style=\"text-align: right;\">\n",
       "      <th></th>\n",
       "      <th>property_type</th>\n",
       "      <th>neighbourhood</th>\n",
       "      <th>price</th>\n",
       "      <th>surface_total_in_m2</th>\n",
       "      <th>surface_covered_in_m2</th>\n",
       "      <th>rooms</th>\n",
       "      <th>expenses</th>\n",
       "    </tr>\n",
       "  </thead>\n",
       "  <tbody>\n",
       "    <tr>\n",
       "      <th>1</th>\n",
       "      <td>PH</td>\n",
       "      <td>Parque Chacabuco</td>\n",
       "      <td>131500.0</td>\n",
       "      <td>80.0</td>\n",
       "      <td>50.0</td>\n",
       "      <td>3.0</td>\n",
       "      <td>3089.672395</td>\n",
       "    </tr>\n",
       "    <tr>\n",
       "      <th>2</th>\n",
       "      <td>apartment</td>\n",
       "      <td>Barracas</td>\n",
       "      <td>140000.0</td>\n",
       "      <td>125.0</td>\n",
       "      <td>85.0</td>\n",
       "      <td>3.0</td>\n",
       "      <td>3089.672395</td>\n",
       "    </tr>\n",
       "    <tr>\n",
       "      <th>3</th>\n",
       "      <td>apartment</td>\n",
       "      <td>Recoleta</td>\n",
       "      <td>109000.0</td>\n",
       "      <td>45.0</td>\n",
       "      <td>45.0</td>\n",
       "      <td>2.0</td>\n",
       "      <td>3350.000000</td>\n",
       "    </tr>\n",
       "    <tr>\n",
       "      <th>4</th>\n",
       "      <td>apartment</td>\n",
       "      <td>Parque Patricios</td>\n",
       "      <td>94000.0</td>\n",
       "      <td>38.0</td>\n",
       "      <td>38.0</td>\n",
       "      <td>3.0</td>\n",
       "      <td>3089.672395</td>\n",
       "    </tr>\n",
       "    <tr>\n",
       "      <th>5</th>\n",
       "      <td>apartment</td>\n",
       "      <td>Flores</td>\n",
       "      <td>160000.0</td>\n",
       "      <td>76.0</td>\n",
       "      <td>76.0</td>\n",
       "      <td>3.0</td>\n",
       "      <td>6700.000000</td>\n",
       "    </tr>\n",
       "  </tbody>\n",
       "</table>\n",
       "</div>"
      ],
      "text/plain": [
       "  property_type     neighbourhood     price  surface_total_in_m2  \\\n",
       "1            PH  Parque Chacabuco  131500.0                 80.0   \n",
       "2     apartment          Barracas  140000.0                125.0   \n",
       "3     apartment          Recoleta  109000.0                 45.0   \n",
       "4     apartment  Parque Patricios   94000.0                 38.0   \n",
       "5     apartment            Flores  160000.0                 76.0   \n",
       "\n",
       "   surface_covered_in_m2  rooms     expenses  \n",
       "1                   50.0    3.0  3089.672395  \n",
       "2                   85.0    3.0  3089.672395  \n",
       "3                   45.0    2.0  3350.000000  \n",
       "4                   38.0    3.0  3089.672395  \n",
       "5                   76.0    3.0  6700.000000  "
      ]
     },
     "execution_count": 28,
     "metadata": {},
     "output_type": "execute_result"
    }
   ],
   "source": [
    "prop.head()"
   ]
  },
  {
   "cell_type": "code",
   "execution_count": 29,
   "metadata": {
    "id": "-9p3HKS3UDtX"
   },
   "outputs": [],
   "source": [
    "y = np.array(prop[[\"price\"]])"
   ]
  },
  {
   "cell_type": "code",
   "execution_count": 30,
   "metadata": {
    "id": "mGGo-47oUGHK"
   },
   "outputs": [],
   "source": [
    "x = prop.drop(['price'], axis=1)"
   ]
  },
  {
   "cell_type": "code",
   "execution_count": 31,
   "metadata": {
    "id": "oAlLKLilUGm3"
   },
   "outputs": [
    {
     "data": {
      "text/html": [
       "<div>\n",
       "<style scoped>\n",
       "    .dataframe tbody tr th:only-of-type {\n",
       "        vertical-align: middle;\n",
       "    }\n",
       "\n",
       "    .dataframe tbody tr th {\n",
       "        vertical-align: top;\n",
       "    }\n",
       "\n",
       "    .dataframe thead th {\n",
       "        text-align: right;\n",
       "    }\n",
       "</style>\n",
       "<table border=\"1\" class=\"dataframe\">\n",
       "  <thead>\n",
       "    <tr style=\"text-align: right;\">\n",
       "      <th></th>\n",
       "      <th>property_type</th>\n",
       "      <th>neighbourhood</th>\n",
       "      <th>surface_total_in_m2</th>\n",
       "      <th>surface_covered_in_m2</th>\n",
       "      <th>rooms</th>\n",
       "      <th>expenses</th>\n",
       "    </tr>\n",
       "  </thead>\n",
       "  <tbody>\n",
       "    <tr>\n",
       "      <th>1</th>\n",
       "      <td>PH</td>\n",
       "      <td>Parque Chacabuco</td>\n",
       "      <td>80.0</td>\n",
       "      <td>50.0</td>\n",
       "      <td>3.0</td>\n",
       "      <td>3089.672395</td>\n",
       "    </tr>\n",
       "    <tr>\n",
       "      <th>2</th>\n",
       "      <td>apartment</td>\n",
       "      <td>Barracas</td>\n",
       "      <td>125.0</td>\n",
       "      <td>85.0</td>\n",
       "      <td>3.0</td>\n",
       "      <td>3089.672395</td>\n",
       "    </tr>\n",
       "    <tr>\n",
       "      <th>3</th>\n",
       "      <td>apartment</td>\n",
       "      <td>Recoleta</td>\n",
       "      <td>45.0</td>\n",
       "      <td>45.0</td>\n",
       "      <td>2.0</td>\n",
       "      <td>3350.000000</td>\n",
       "    </tr>\n",
       "    <tr>\n",
       "      <th>4</th>\n",
       "      <td>apartment</td>\n",
       "      <td>Parque Patricios</td>\n",
       "      <td>38.0</td>\n",
       "      <td>38.0</td>\n",
       "      <td>3.0</td>\n",
       "      <td>3089.672395</td>\n",
       "    </tr>\n",
       "    <tr>\n",
       "      <th>5</th>\n",
       "      <td>apartment</td>\n",
       "      <td>Flores</td>\n",
       "      <td>76.0</td>\n",
       "      <td>76.0</td>\n",
       "      <td>3.0</td>\n",
       "      <td>6700.000000</td>\n",
       "    </tr>\n",
       "  </tbody>\n",
       "</table>\n",
       "</div>"
      ],
      "text/plain": [
       "  property_type     neighbourhood  surface_total_in_m2  surface_covered_in_m2  \\\n",
       "1            PH  Parque Chacabuco                 80.0                   50.0   \n",
       "2     apartment          Barracas                125.0                   85.0   \n",
       "3     apartment          Recoleta                 45.0                   45.0   \n",
       "4     apartment  Parque Patricios                 38.0                   38.0   \n",
       "5     apartment            Flores                 76.0                   76.0   \n",
       "\n",
       "   rooms     expenses  \n",
       "1    3.0  3089.672395  \n",
       "2    3.0  3089.672395  \n",
       "3    2.0  3350.000000  \n",
       "4    3.0  3089.672395  \n",
       "5    3.0  6700.000000  "
      ]
     },
     "execution_count": 31,
     "metadata": {},
     "output_type": "execute_result"
    }
   ],
   "source": [
    "x.head()"
   ]
  },
  {
   "cell_type": "code",
   "execution_count": 32,
   "metadata": {
    "id": "XknnHhmQUGpp"
   },
   "outputs": [],
   "source": [
    "x = pd.get_dummies(data=x, columns=['property_type','neighbourhood'])"
   ]
  },
  {
   "cell_type": "code",
   "execution_count": 33,
   "metadata": {
    "id": "ZFKKSDABUGvI"
   },
   "outputs": [
    {
     "data": {
      "text/plain": [
       "(22220, 70)"
      ]
     },
     "execution_count": 33,
     "metadata": {},
     "output_type": "execute_result"
    }
   ],
   "source": [
    "x.shape"
   ]
  },
  {
   "cell_type": "code",
   "execution_count": 34,
   "metadata": {
    "id": "Atb8Hr5ZUGx9"
   },
   "outputs": [],
   "source": [
    "xtrain, xtest, ytrain, ytest = train_test_split(x, y, test_size=0.20, random_state=42)"
   ]
  },
  {
   "cell_type": "code",
   "execution_count": 35,
   "metadata": {
    "id": "a3Cd6oYsUG1F"
   },
   "outputs": [],
   "source": [
    "scaler = preprocessing.StandardScaler().fit(xtrain)\n",
    "xtrain_scal = scaler.transform(xtrain)\n",
    "xtest_scal = scaler.transform(xtest)"
   ]
  },
  {
   "cell_type": "code",
   "execution_count": null,
   "metadata": {
    "id": "awRQ2H1BkZI3"
   },
   "outputs": [],
   "source": []
  },
  {
   "cell_type": "markdown",
   "metadata": {
    "id": "Db3pF_IAkZu3"
   },
   "source": [
    "# KNN Regressor"
   ]
  },
  {
   "cell_type": "code",
   "execution_count": 40,
   "metadata": {
    "id": "GwDimq1SUG3S"
   },
   "outputs": [],
   "source": [
    "knn = KNeighborsRegressor(weights = \"distance\")\n",
    "parameters_k = np.arange(20,41,5)\n",
    "parameters_knn = [{'n_neighbors': parameters_k}]\n",
    "regressor_knn = GridSearchCV(knn, parameters_knn, refit = True, cv=5, verbose=True)"
   ]
  },
  {
   "cell_type": "code",
   "execution_count": 41,
   "metadata": {
    "id": "83jpWQycXXOg"
   },
   "outputs": [
    {
     "name": "stdout",
     "output_type": "stream",
     "text": [
      "Fitting 5 folds for each of 5 candidates, totalling 25 fits\n"
     ]
    },
    {
     "name": "stderr",
     "output_type": "stream",
     "text": [
      "[Parallel(n_jobs=1)]: Using backend SequentialBackend with 1 concurrent workers.\n",
      "[Parallel(n_jobs=1)]: Done  25 out of  25 | elapsed:  2.5min finished\n"
     ]
    },
    {
     "data": {
      "text/plain": [
       "GridSearchCV(cv=5, error_score=nan,\n",
       "             estimator=KNeighborsRegressor(algorithm='auto', leaf_size=30,\n",
       "                                           metric='minkowski',\n",
       "                                           metric_params=None, n_jobs=None,\n",
       "                                           n_neighbors=5, p=2,\n",
       "                                           weights='distance'),\n",
       "             iid='deprecated', n_jobs=None,\n",
       "             param_grid=[{'n_neighbors': array([20, 25, 30, 35, 40])}],\n",
       "             pre_dispatch='2*n_jobs', refit=True, return_train_score=False,\n",
       "             scoring=None, verbose=True)"
      ]
     },
     "execution_count": 41,
     "metadata": {},
     "output_type": "execute_result"
    }
   ],
   "source": [
    "regressor_knn.fit(xtrain_scal, ytrain)"
   ]
  },
  {
   "cell_type": "code",
   "execution_count": 42,
   "metadata": {
    "id": "PhtYe2S5XXSn"
   },
   "outputs": [
    {
     "data": {
      "text/plain": [
       "{'n_neighbors': 20}"
      ]
     },
     "execution_count": 42,
     "metadata": {},
     "output_type": "execute_result"
    }
   ],
   "source": [
    "regressor_knn.best_params_"
   ]
  },
  {
   "cell_type": "code",
   "execution_count": 43,
   "metadata": {
    "id": "w7jpVxwKXXV-"
   },
   "outputs": [
    {
     "data": {
      "text/plain": [
       "0.6829511854185839"
      ]
     },
     "execution_count": 43,
     "metadata": {},
     "output_type": "execute_result"
    }
   ],
   "source": [
    "regressor_knn.best_score_"
   ]
  },
  {
   "cell_type": "code",
   "execution_count": 44,
   "metadata": {
    "id": "fPNGacvUXXX3"
   },
   "outputs": [],
   "source": [
    "ypred2 = regressor_knn.predict(xtest_scal)"
   ]
  },
  {
   "cell_type": "code",
   "execution_count": 45,
   "metadata": {
    "id": "8AuGSBU8XXdf"
   },
   "outputs": [
    {
     "data": {
      "text/plain": [
       "129393.57078276796"
      ]
     },
     "execution_count": 45,
     "metadata": {},
     "output_type": "execute_result"
    }
   ],
   "source": [
    "np.sqrt(mean_squared_error(ytest, ypred2))"
   ]
  },
  {
   "cell_type": "markdown",
   "metadata": {
    "id": "hrEV8BYnkCoH"
   },
   "source": [
    "\n",
    "# Support Vector Regressor"
   ]
  },
  {
   "cell_type": "code",
   "execution_count": 46,
   "metadata": {
    "id": "tqDN4atQYbsI"
   },
   "outputs": [],
   "source": [
    "svreg = SVR()"
   ]
  },
  {
   "cell_type": "code",
   "execution_count": 47,
   "metadata": {
    "id": "0kj0ODYHYbvk"
   },
   "outputs": [],
   "source": [
    "param_svreg = {'kernel':('linear', 'rbf'), 'C':[1, 10 ], 'gamma':[ 0.1,1]}"
   ]
  },
  {
   "cell_type": "code",
   "execution_count": 48,
   "metadata": {
    "id": "mf40n7uvYbxm"
   },
   "outputs": [],
   "source": [
    "regressor_svr = GridSearchCV(svreg, param_svreg, cv=3, verbose=True)"
   ]
  },
  {
   "cell_type": "code",
   "execution_count": 49,
   "metadata": {
    "id": "f5mAeZ0uYb0Z"
   },
   "outputs": [
    {
     "name": "stdout",
     "output_type": "stream",
     "text": [
      "Fitting 3 folds for each of 8 candidates, totalling 24 fits\n"
     ]
    },
    {
     "name": "stderr",
     "output_type": "stream",
     "text": [
      "[Parallel(n_jobs=1)]: Using backend SequentialBackend with 1 concurrent workers.\n",
      "[Parallel(n_jobs=1)]: Done  24 out of  24 | elapsed:  9.8min finished\n"
     ]
    },
    {
     "data": {
      "text/plain": [
       "GridSearchCV(cv=3, error_score=nan,\n",
       "             estimator=SVR(C=1.0, cache_size=200, coef0=0.0, degree=3,\n",
       "                           epsilon=0.1, gamma='scale', kernel='rbf',\n",
       "                           max_iter=-1, shrinking=True, tol=0.001,\n",
       "                           verbose=False),\n",
       "             iid='deprecated', n_jobs=None,\n",
       "             param_grid={'C': [1, 10], 'gamma': [0.1, 1],\n",
       "                         'kernel': ('linear', 'rbf')},\n",
       "             pre_dispatch='2*n_jobs', refit=True, return_train_score=False,\n",
       "             scoring=None, verbose=True)"
      ]
     },
     "execution_count": 49,
     "metadata": {},
     "output_type": "execute_result"
    }
   ],
   "source": [
    "regressor_svr.fit(xtrain_scal, ytrain.ravel())"
   ]
  },
  {
   "cell_type": "code",
   "execution_count": 50,
   "metadata": {
    "id": "oCrca-exYb3H"
   },
   "outputs": [
    {
     "data": {
      "text/plain": [
       "{'C': 10, 'gamma': 0.1, 'kernel': 'linear'}"
      ]
     },
     "execution_count": 50,
     "metadata": {},
     "output_type": "execute_result"
    }
   ],
   "source": [
    "regressor_svr.best_params_"
   ]
  },
  {
   "cell_type": "code",
   "execution_count": 51,
   "metadata": {
    "id": "d0wgj9HsZvBJ"
   },
   "outputs": [
    {
     "data": {
      "text/plain": [
       "0.13824642762513153"
      ]
     },
     "execution_count": 51,
     "metadata": {},
     "output_type": "execute_result"
    }
   ],
   "source": [
    "regressor_svr.best_score_"
   ]
  },
  {
   "cell_type": "code",
   "execution_count": 52,
   "metadata": {
    "id": "p4dJjVVRZvJA"
   },
   "outputs": [
    {
     "data": {
      "text/plain": [
       "array([130007.43338409, 232789.94896776, 282448.90492659, ...,\n",
       "       173900.71016727, 229359.02808701, 219819.82290384])"
      ]
     },
     "execution_count": 52,
     "metadata": {},
     "output_type": "execute_result"
    }
   ],
   "source": [
    "ypred3 = regressor_svr.predict(xtest_scal)\n",
    "ypred3"
   ]
  },
  {
   "cell_type": "code",
   "execution_count": 53,
   "metadata": {
    "id": "Crhg4zh9ZvMe"
   },
   "outputs": [
    {
     "data": {
      "text/plain": [
       "203034.7603454303"
      ]
     },
     "execution_count": 53,
     "metadata": {},
     "output_type": "execute_result"
    }
   ],
   "source": [
    "np.sqrt(mean_squared_error(ytest, ypred3))"
   ]
  },
  {
   "cell_type": "markdown",
   "metadata": {
    "id": "jbLuucpNne8r"
   },
   "source": [
    "# RandomForest Regressor"
   ]
  },
  {
   "cell_type": "code",
   "execution_count": 54,
   "metadata": {
    "id": "j95alqUFZvP3"
   },
   "outputs": [],
   "source": [
    "rf= RandomForestRegressor()"
   ]
  },
  {
   "cell_type": "code",
   "execution_count": 55,
   "metadata": {
    "id": "TwgQAJmXc2yJ"
   },
   "outputs": [],
   "source": [
    "param_trees = {'n_estimators': [50, 200], \n",
    "               'max_features': [0.5, 'sqrt','log2'],  \n",
    "               'min_samples_leaf':[1, 5]}"
   ]
  },
  {
   "cell_type": "code",
   "execution_count": 56,
   "metadata": {
    "id": "8lGiLe8Hc21b"
   },
   "outputs": [
    {
     "data": {
      "text/plain": [
       "GridSearchCV(cv=3, error_score=nan,\n",
       "             estimator=RandomForestRegressor(bootstrap=True, ccp_alpha=0.0,\n",
       "                                             criterion='mse', max_depth=None,\n",
       "                                             max_features='auto',\n",
       "                                             max_leaf_nodes=None,\n",
       "                                             max_samples=None,\n",
       "                                             min_impurity_decrease=0.0,\n",
       "                                             min_impurity_split=None,\n",
       "                                             min_samples_leaf=1,\n",
       "                                             min_samples_split=2,\n",
       "                                             min_weight_fraction_leaf=0.0,\n",
       "                                             n_estimators=100, n_jobs=None,\n",
       "                                             oob_score=False, random_state=None,\n",
       "                                             verbose=0, warm_start=False),\n",
       "             iid='deprecated', n_jobs=None,\n",
       "             param_grid={'max_features': [0.5, 'sqrt', 'log2'],\n",
       "                         'min_samples_leaf': [1, 5],\n",
       "                         'n_estimators': [50, 200]},\n",
       "             pre_dispatch='2*n_jobs', refit=True, return_train_score=False,\n",
       "             scoring=None, verbose=0)"
      ]
     },
     "execution_count": 56,
     "metadata": {},
     "output_type": "execute_result"
    }
   ],
   "source": [
    "regressor_rf = GridSearchCV(rf, param_grid = param_trees, refit = True, cv = 3)\n",
    "regressor_rf.fit(xtrain, ytrain.ravel())"
   ]
  },
  {
   "cell_type": "code",
   "execution_count": 57,
   "metadata": {
    "id": "ZnfVgVkvc27B"
   },
   "outputs": [
    {
     "data": {
      "text/plain": [
       "{'max_features': 'log2', 'min_samples_leaf': 1, 'n_estimators': 200}"
      ]
     },
     "execution_count": 57,
     "metadata": {},
     "output_type": "execute_result"
    }
   ],
   "source": [
    "regressor_rf.best_params_\n"
   ]
  },
  {
   "cell_type": "code",
   "execution_count": 58,
   "metadata": {
    "id": "hwaI7u5Ac3Bh"
   },
   "outputs": [
    {
     "data": {
      "text/plain": [
       "0.7512334896253208"
      ]
     },
     "execution_count": 58,
     "metadata": {},
     "output_type": "execute_result"
    }
   ],
   "source": [
    "regressor_rf.best_score_"
   ]
  },
  {
   "cell_type": "code",
   "execution_count": 59,
   "metadata": {
    "id": "BGiW2rQNc3C7"
   },
   "outputs": [
    {
     "data": {
      "text/plain": [
       "array([ 85725.40166667,  95229.2       ,  96199.195     , ...,\n",
       "       106003.74333333, 104454.84166667, 111647.175     ])"
      ]
     },
     "execution_count": 59,
     "metadata": {},
     "output_type": "execute_result"
    }
   ],
   "source": [
    "ypred4 = regressor_rf.predict(xtest_scal)\n",
    "ypred4"
   ]
  },
  {
   "cell_type": "code",
   "execution_count": 60,
   "metadata": {
    "id": "mD07Z3TreMRQ"
   },
   "outputs": [
    {
     "data": {
      "text/plain": [
       "263244.20927040663"
      ]
     },
     "execution_count": 60,
     "metadata": {},
     "output_type": "execute_result"
    }
   ],
   "source": [
    "np.sqrt(mean_squared_error(ytest, ypred4))"
   ]
  },
  {
   "cell_type": "code",
   "execution_count": null,
   "metadata": {
    "id": "Hl62J8TRh5JN"
   },
   "outputs": [],
   "source": []
  }
 ],
 "metadata": {
  "accelerator": "GPU",
  "colab": {
   "collapsed_sections": [],
   "name": "ClusterAI:Regresion_Properati_Resuelto.ipynb",
   "private_outputs": true,
   "provenance": []
  },
  "kernelspec": {
   "display_name": "Python 3",
   "language": "python",
   "name": "python3"
  },
  "language_info": {
   "codemirror_mode": {
    "name": "ipython",
    "version": 3
   },
   "file_extension": ".py",
   "mimetype": "text/x-python",
   "name": "python",
   "nbconvert_exporter": "python",
   "pygments_lexer": "ipython3",
   "version": "3.7.10"
  }
 },
 "nbformat": 4,
 "nbformat_minor": 1
}
